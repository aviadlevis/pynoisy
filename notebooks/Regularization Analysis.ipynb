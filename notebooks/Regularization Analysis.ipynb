{
 "cells": [
  {
   "cell_type": "markdown",
   "metadata": {},
   "source": [
    "# Regularization / Prior Analysis\n",
    "\n",
    "---"
   ]
  },
  {
   "cell_type": "code",
   "execution_count": 12,
   "metadata": {
    "ExecuteTime": {
     "end_time": "2020-05-26T01:18:15.782247Z",
     "start_time": "2020-05-26T01:18:15.207939Z"
    }
   },
   "outputs": [],
   "source": [
    "import os\n",
    "import numpy as np\n",
    "import pynoisy\n",
    "import xarray as xr\n",
    "from pynoisy.inverse import *\n",
    "from pynoisy import utils\n",
    "from joblib import Parallel, delayed\n",
    "import matplotlib.pyplot as plt"
   ]
  },
  {
   "cell_type": "code",
   "execution_count": 32,
   "metadata": {
    "ExecuteTime": {
     "end_time": "2020-05-23T00:18:50.713967Z",
     "start_time": "2020-05-23T00:18:50.709259Z"
    },
    "code_folding": [
     0,
     12,
     15
    ]
   },
   "outputs": [],
   "source": [
    "def compute_gradient(solver, forward, adjoint, dx=1e-2):\n",
    "    spatial_angle = solver.diffusion.spatial_angle.copy()\n",
    "    source = solver.get_laplacian(forward)\n",
    "    gradient = np.zeros(shape=solver.params.num_unknowns)\n",
    "    for n, (i, j) in enumerate(zip(*np.where(solver.params.mask))):\n",
    "        solver.diffusion.spatial_angle[i, j] = spatial_angle[i, j] + dx\n",
    "        source_ij = solver.get_laplacian(forward) - source\n",
    "        solver.diffusion.principle_angle[i, j] = principle_angle[i, j]\n",
    "        source_ij = source_ij / dx\n",
    "        gradient[n] += (adjoint * source_ij).mean()\n",
    "    return gradient\n",
    "\n",
    "def set_state(solver, state):\n",
    "    solver.diffusion.principle_angle.values[solver.params.mask] = state\n",
    "    \n",
    "def set_disk_mask(solver):\n",
    "    solver.params['mask'] = solver.params.r < 0.5 - 2.0 / solver.params.dims['x']\n",
    "    solver.params.attrs['num_unknowns'] = solver.params.mask.sum().data\n",
    "    return solver"
   ]
  },
  {
   "cell_type": "markdown",
   "metadata": {},
   "source": [
    "## Generate / Load solver and measurements"
   ]
  },
  {
   "cell_type": "markdown",
   "metadata": {
    "heading_collapsed": true
   },
   "source": [
    "### Generate"
   ]
  },
  {
   "cell_type": "code",
   "execution_count": 3,
   "metadata": {
    "ExecuteTime": {
     "end_time": "2020-05-06T22:04:07.665737Z",
     "start_time": "2020-05-06T22:02:48.881993Z"
    },
    "hidden": true
   },
   "outputs": [
    {
     "name": "stdout",
     "output_type": "stream",
     "text": [
      "Sampling diffusion principle angle from a multivariate gaussian (Matern covariance kernel size = 4096x4096)\n",
      "Sampling correlation time from a multivariate gaussian (Matern covariance kernel size = 4096x4096)\n",
      "Sampling diffusion coefficient from a multivariate gaussian (Matern covariance kernel size = 4096x4096)\n"
     ]
    }
   ],
   "source": [
    "advection_true = pynoisy.advection.disk()\n",
    "diffusion_true = pynoisy.diffusion.multivariate_gaussian(length_scale=0.1)\n",
    "diffusion_true.diffusion_coefficient[:] = 1.0"
   ]
  },
  {
   "cell_type": "code",
   "execution_count": 11,
   "metadata": {
    "ExecuteTime": {
     "end_time": "2020-05-06T22:05:35.961082Z",
     "start_time": "2020-05-06T22:05:34.971647Z"
    },
    "hidden": true
   },
   "outputs": [
    {
     "name": "stderr",
     "output_type": "stream",
     "text": [
      "\r",
      "  0%|          | 0/1 [00:00<?, ?it/s]"
     ]
    },
    {
     "name": "stdout",
     "output_type": "stream",
     "text": [
      "Setting solver seed to: 5900\r"
     ]
    },
    {
     "name": "stderr",
     "output_type": "stream",
     "text": [
      "100%|██████████| 1/1 [00:00<00:00,  1.15it/s]\n"
     ]
    }
   ],
   "source": [
    "solver = pynoisy.forward.NoisySolver(advection_true, diffusion_true)\n",
    "solver.save(path=os.path.join(logdir, 'ground_truth.nc'))\n",
    "measurements = solver.run_symmetric()\n",
    "measurements.to_netcdf(os.path.join(logdir, 'measurements.nc'))"
   ]
  },
  {
   "cell_type": "markdown",
   "metadata": {},
   "source": [
    "### Load"
   ]
  },
  {
   "cell_type": "code",
   "execution_count": 33,
   "metadata": {
    "ExecuteTime": {
     "end_time": "2020-05-23T00:18:50.825846Z",
     "start_time": "2020-05-23T00:18:50.733384Z"
    },
    "code_folding": []
   },
   "outputs": [
    {
     "name": "stdout",
     "output_type": "stream",
     "text": [
      "Setting solver seed to: 5900\r"
     ]
    }
   ],
   "source": [
    "# Load measurements and solver\n",
    "load_path = '../runs/symmetry_check/const_coef1.0/'\n",
    "measurements = xr.load_dataarray(os.path.join(load_path,'measurements.nc'))\n",
    "solver = pynoisy.forward.NoisySolver.from_netcdf(os.path.join(load_path, 'ground_truth.nc'))\n",
    "\n",
    "solver = set_disk_mask(solver)\n",
    "initial_state = np.zeros(shape=solver.params.num_unknowns)\n",
    "\n",
    "forward_fn = lambda source: solver.run_symmetric(source, verbose=False)\n",
    "adjoint_fn = lambda source: solver.run_adjoint(source, verbose=False)\n",
    "gradient_fn = lambda forward, adjoint: compute_gradient(solver, forward, adjoint)\n",
    "get_state_fn = lambda: solver.diffusion.principle_angle.values[solver.params.mask]\n",
    "set_state_fn = lambda state: set_state(solver, state)"
   ]
  },
  {
   "cell_type": "markdown",
   "metadata": {},
   "source": [
    "## Krylov Projected Measurements"
   ]
  },
  {
   "cell_type": "markdown",
   "metadata": {
    "heading_collapsed": true
   },
   "source": [
    "### Prior"
   ]
  },
  {
   "cell_type": "code",
   "execution_count": 5,
   "metadata": {
    "ExecuteTime": {
     "end_time": "2020-05-07T01:40:58.833511Z",
     "start_time": "2020-05-07T00:16:58.272015Z"
    },
    "code_folding": [
     9,
     18,
     31,
     44
    ],
    "hidden": true
   },
   "outputs": [],
   "source": [
    "%%capture\n",
    "krylov_degree = 8\n",
    "projection_degree = 8\n",
    "prior_weights = [1e-7, 1e-8, 1e-9]\n",
    "\n",
    "def run_optimization(krylov_degree, projection_degree, solver, measurements, prior):\n",
    "    run_name = 'krylov{}_projected{}_prior{}'.format(krylov_degree, projection_degree, prior)\n",
    "    logdir = os.path.join('../runs/symmetry_check/', run_name)\n",
    "\n",
    "    forward_op = ForwardOperator.krylov(\n",
    "        forward_fn=forward_fn,\n",
    "        adjoint_fn=adjoint_fn,\n",
    "        gradient_fn=gradient_fn,\n",
    "        set_state_fn=set_state_fn,\n",
    "        get_state_fn=get_state_fn,\n",
    "        measurements=measurements,\n",
    "        degree=projection_degree)\n",
    "    measurements = forward_op(forward_op.get_state())\n",
    "    forward_op = ForwardOperator.krylov(\n",
    "        forward_fn=forward_fn,\n",
    "        adjoint_fn=adjoint_fn,\n",
    "        gradient_fn=gradient_fn,\n",
    "        set_state_fn=set_state_fn,\n",
    "        get_state_fn=get_state_fn,\n",
    "        measurements=measurements,\n",
    "        degree=krylov_degree)\n",
    "    objective_fn = ObjectiveFunction.l2(measurements, forward_op)\n",
    "    \n",
    "    # Define prior\n",
    "    flat_mask = np.array(solver.params.mask).ravel()\n",
    "    covariance_mask = np.dot(flat_mask[:, None], flat_mask[None])\n",
    "    cov = solver.diffusion.covariance.values[covariance_mask].reshape(\n",
    "        solver.params.num_unknowns, solver.params.num_unknowns)\n",
    "    prior_fn = PriorFunction.mahalanobis(mean=0.0, cov=cov, scale=prior)\n",
    "    loss_callback_fn = CallbackFn(\n",
    "        lambda: writer.add_scalars(\n",
    "            'Loss', {'total': objective_fn.loss + prior_fn.loss, \n",
    "                     'datafit': objective_fn.loss, \n",
    "                     'prior': prior_fn.loss}, optimizer.iteration)\n",
    "    )\n",
    "        \n",
    "    writer = SummaryWriter(logdir=logdir)\n",
    "    writer.average_image('average_frame/measurements', measurements)\n",
    "    writer.diffusion('diffusion/true', solver.diffusion, solver.params.mask)\n",
    "    callback_fn = [\n",
    "        loss_callback_fn,\n",
    "        CallbackFn(lambda: writer.add_scalar('Loss', objective_fn.loss, optimizer.iteration)),\n",
    "        CallbackFn(lambda: writer.diffusion('diffusion/estimate', solver.diffusion, solver.params.mask, optimizer.iteration)),\n",
    "        CallbackFn(lambda: optimizer.save_checkpoint(solver, logdir), ckpt_period=1*60*60)]\n",
    "    options={'maxiter': 10000, 'maxls': 100, 'disp': True, 'gtol': 1e-16, 'ftol': 1e-16}\n",
    "    optimizer = Optimizer(objective_fn, callback_fn=callback_fn, prior_fn=prior_fn, options=options)\n",
    "    result = optimizer.minimize(initial_state=initial_state)\n",
    "    optimizer.save_checkpoint(solver, logdir, name='final_result.nc')\n",
    "    writer.close()\n",
    "    \n",
    "Parallel(n_jobs=len(prior_weights))(delayed(run_optimization)(\n",
    "    krylov_degree, projection_degree, solver, measurements, prior) for prior in prior_weights)"
   ]
  },
  {
   "cell_type": "markdown",
   "metadata": {
    "heading_collapsed": true
   },
   "source": [
    "### No prior"
   ]
  },
  {
   "cell_type": "code",
   "execution_count": 15,
   "metadata": {
    "ExecuteTime": {
     "end_time": "2020-05-07T00:04:54.743349Z",
     "start_time": "2020-05-06T23:27:49.942146Z"
    },
    "code_folding": [
     4,
     17,
     30
    ],
    "hidden": true
   },
   "outputs": [],
   "source": [
    "%%capture\n",
    "krylov_degree = 8\n",
    "projection_degree = 8\n",
    "\n",
    "forward_op = ForwardOperator.krylov(\n",
    "    forward_fn=forward_fn,\n",
    "    adjoint_fn=adjoint_fn,\n",
    "    gradient_fn=gradient_fn,\n",
    "    set_state_fn=set_state_fn,\n",
    "    get_state_fn=get_state_fn,\n",
    "    measurements=measurements,\n",
    "    degree=projection_degree)\n",
    "measurements = forward_op(forward_op.get_state())\n",
    "\n",
    "run_name = 'krylov{}_projected{}'.format(krylov_degree, projection_degree)\n",
    "logdir = os.path.join('../runs/symmetry_check/', run_name)\n",
    "\n",
    "forward_op = ForwardOperator.krylov(\n",
    "    forward_fn=forward_fn,\n",
    "    adjoint_fn=adjoint_fn,\n",
    "    gradient_fn=gradient_fn,\n",
    "    set_state_fn=set_state_fn,\n",
    "    get_state_fn=get_state_fn,\n",
    "    measurements=measurements,\n",
    "    degree=krylov_degree)\n",
    "\n",
    "objective_fn = ObjectiveFunction.l2(measurements, forward_op)\n",
    "writer = SummaryWriter(logdir=logdir)\n",
    "writer.average_image('average_frame/measurements', measurements)\n",
    "writer.diffusion('diffusion/true', solver.diffusion, solver.params.mask)\n",
    "callback_fn = [\n",
    "    CallbackFn(lambda: writer.add_scalar('Loss', objective_fn.loss, optimizer.iteration)),\n",
    "    CallbackFn(lambda: writer.diffusion('diffusion/estimate', solver.diffusion, solver.params.mask, optimizer.iteration)),\n",
    "    CallbackFn(lambda: optimizer.save_checkpoint(solver, logdir), ckpt_period=1*60*60)]\n",
    "options={'maxiter': 10000, 'maxls': 100, 'disp': True, 'gtol': 1e-16, 'ftol': 1e-16}\n",
    "optimizer = Optimizer(objective_fn, callback_fn=callback_fn, options=options)\n",
    "result = optimizer.minimize(initial_state=initial_state)\n",
    "optimizer.save_checkpoint(solver, logdir, name='final_result.nc')\n",
    "writer.close()"
   ]
  },
  {
   "cell_type": "markdown",
   "metadata": {
    "ExecuteTime": {
     "end_time": "2020-05-06T19:46:43.662302Z",
     "start_time": "2020-05-06T19:46:43.656484Z"
    }
   },
   "source": [
    "## Original Measurements"
   ]
  },
  {
   "cell_type": "markdown",
   "metadata": {},
   "source": [
    "\n",
    "This cell checks if breaking the symmetry of **ALL** the diffusion fields breaks the error symmetry around the center"
   ]
  },
  {
   "cell_type": "markdown",
   "metadata": {
    "heading_collapsed": true
   },
   "source": [
    "### No prior"
   ]
  },
  {
   "cell_type": "code",
   "execution_count": null,
   "metadata": {
    "ExecuteTime": {
     "start_time": "2020-05-18T22:20:46.573Z"
    },
    "code_folding": [
     12
    ],
    "hidden": true
   },
   "outputs": [],
   "source": [
    "%%capture\n",
    "\n",
    "krylov_degree = 8\n",
    "run_name = 'const_coef5.0'\n",
    "logdir = os.path.join('../runs/symmetry_check/', run_name)\n",
    "writer = SummaryWriter(logdir=logdir)\n",
    "\n",
    "# Save measurements and solver \n",
    "solver.diffusion.diffusion_coefficient[:] = 5.0\n",
    "measurements = solver.run_symmetric()\n",
    "measurements.to_netcdf(os.path.join(logdir, 'measurements.nc'))\n",
    "solver.save(path=os.path.join(logdir, 'ground_truth.nc'))\n",
    "solver.reseed()\n",
    "\n",
    "forward_op = ForwardOperator.krylov(\n",
    "    forward_fn=forward_fn,\n",
    "    adjoint_fn=adjoint_fn,\n",
    "    gradient_fn=gradient_fn,\n",
    "    set_state_fn=set_state_fn,\n",
    "    get_state_fn=get_state_fn,\n",
    "    measurements=measurements,\n",
    "    degree=krylov_degree)\n",
    "objective_fn = ObjectiveFunction.l2(measurements, forward_op)\n",
    "\n",
    "writer.average_image('average_frame/measurements', measurements)\n",
    "writer.diffusion('diffusion/true', solver.diffusion, solver.params.mask)\n",
    "callback_fn = [\n",
    "    CallbackFn(lambda: writer.add_scalar('Loss', objective_fn.loss, optimizer.iteration)),\n",
    "    CallbackFn(lambda: writer.diffusion('diffusion/estimate', solver.diffusion, solver.params.mask, optimizer.iteration)),\n",
    "    CallbackFn(lambda: optimizer.save_checkpoint(solver, logdir), ckpt_period=10*60)]\n",
    "options={'maxiter': 10000, 'maxls': 100, 'disp': True, 'gtol': 1e-16, 'ftol': 1e-16}\n",
    "optimizer = Optimizer(objective_fn, callback_fn=callback_fn, options=options)\n",
    "result = optimizer.minimize(initial_state=initial_state)\n",
    "optimizer.save_checkpoint(solver, logdir, name='final_result.nc')\n",
    "writer.close()"
   ]
  },
  {
   "cell_type": "markdown",
   "metadata": {},
   "source": [
    "### Prior"
   ]
  },
  {
   "cell_type": "code",
   "execution_count": null,
   "metadata": {
    "ExecuteTime": {
     "start_time": "2020-05-23T00:27:23.145Z"
    },
    "code_folding": []
   },
   "outputs": [],
   "source": [
    "%%capture\n",
    "krylov_degree = 8\n",
    "prior_weights = [1.0, 0.1, 0.01]\n",
    "diffusion_coef = 1.0 \n",
    "\n",
    "def prior_projection(solver, cov, alpha):\n",
    "    x = solver.diffusion.principle_angle.data[solver.params.mask]\n",
    "    projection = (1.0/alpha)*np.matmul(np.matmul(cov, np.linalg.inv(np.eye(cov.shape[0]) + (1.0/alpha)*cov)), x)\n",
    "    return projection\n",
    "    \n",
    "def run_optimization(solver, measurements, prior_w, initial_state, max_admm_iter=100):\n",
    "    run_name = 'const_coef{}_prior_w{}'.format(diffusion_coef, prior_w)\n",
    "    logdir = os.path.join('../runs/ADMM_prior_fix/', run_name)\n",
    "\n",
    "    forward_op = ForwardOperator.krylov(\n",
    "        forward_fn=forward_fn,\n",
    "        adjoint_fn=adjoint_fn,\n",
    "        gradient_fn=gradient_fn,\n",
    "        set_state_fn=set_state_fn,\n",
    "        get_state_fn=get_state_fn,\n",
    "        measurements=measurements,\n",
    "        degree=krylov_degree)\n",
    "    objective_fn = ObjectiveFunction.l2(measurements, forward_op)\n",
    "\n",
    "    # Define prior\n",
    "    flat_mask = np.array(solver.params.mask).ravel()\n",
    "    covariance_mask = np.dot(flat_mask[:, None], flat_mask[None])\n",
    "    cov = solver.diffusion.covariance.values[covariance_mask].reshape(\n",
    "        solver.params.num_unknowns, solver.params.num_unknowns)\n",
    "        \n",
    "    \n",
    "    \n",
    "    writer = SummaryWriter(logdir=logdir)\n",
    "    writer.average_image('average_frame/measurements', measurements)\n",
    "    writer.diffusion('diffusion/true', solver.diffusion, solver.params.mask)\n",
    "    callback_fn = [\n",
    "        CallbackFn(lambda: writer.add_scalar('Loss', objective_fn.loss, optimizer.iteration)),\n",
    "        CallbackFn(lambda: writer.diffusion('diffusion/estimate', solver.diffusion, solver.params.mask, optimizer.iteration))]\n",
    "    options={'maxiter': 10, 'maxls': 30, 'disp': True, 'gtol': 1e-8, 'ftol': 1e-8}\n",
    "    \n",
    "    # ADMM Iterations\n",
    "    state = initial_state\n",
    "    for i in range(max_admm_iter):\n",
    "        prev_state = state\n",
    "        prior_fn = PriorFunction.mahalanobis(mean=state, cov=np.eye(len(state)), scale=1.0) if i>0 else None\n",
    "        optimizer = Optimizer(objective_fn, callback_fn=callback_fn, prior_fn=prior_fn, options=options)\n",
    "        result = optimizer.minimize(initial_state=state)\n",
    "        state = prior_projection(solver, cov, prior_w)\n",
    "        forward_op.set_state(state)\n",
    "        \n",
    "        # Termination criteria\n",
    "        if np.allclose(state, prev_state):\n",
    "            optimizer.save_checkpoint(solver, logdir, name='final_result.nc')\n",
    "            break\n",
    "        else:\n",
    "            optimizer.save_checkpoint(solver, logdir, name='admm_iter{}.nc'.format(i))\n",
    "            \n",
    "    writer.close()\n",
    "    \n",
    "Parallel(n_jobs=len(prior_weights))(delayed(run_optimization)(\n",
    "    solver, measurements, prior_w, initial_state) for prior_w in prior_weights)"
   ]
  },
  {
   "cell_type": "code",
   "execution_count": 7,
   "metadata": {
    "ExecuteTime": {
     "end_time": "2020-05-18T23:15:31.265528Z",
     "start_time": "2020-05-18T23:15:31.103754Z"
    }
   },
   "outputs": [
    {
     "name": "stdout",
     "output_type": "stream",
     "text": [
      "Setting solver seed to: 5900\r",
      "Setting solver seed to: 1387\r"
     ]
    }
   ],
   "source": [
    "solver_true = pynoisy.forward.NoisySolver.from_netcdf(os.path.join(load_path, 'ground_truth.nc'))\n",
    "solver = pynoisy.forward.NoisySolver.from_netcdf(os.path.join(load_path, 'final_result.nc'))"
   ]
  },
  {
   "cell_type": "code",
   "execution_count": 80,
   "metadata": {
    "ExecuteTime": {
     "end_time": "2020-05-19T00:04:19.965995Z",
     "start_time": "2020-05-19T00:04:19.890408Z"
    }
   },
   "outputs": [],
   "source": [
    "# Define prior\n",
    "flat_mask = np.array(solver.params.mask).ravel()\n",
    "covariance_mask = np.dot(flat_mask[:, None], flat_mask[None])\n",
    "cov = solver.diffusion.covariance.values[covariance_mask].reshape(\n",
    "    solver.params.num_unknowns, solver.params.num_unknowns)"
   ]
  }
 ],
 "metadata": {
  "kernelspec": {
   "display_name": "Python 3",
   "language": "python",
   "name": "python3"
  },
  "language_info": {
   "codemirror_mode": {
    "name": "ipython",
    "version": 3
   },
   "file_extension": ".py",
   "mimetype": "text/x-python",
   "name": "python",
   "nbconvert_exporter": "python",
   "pygments_lexer": "ipython3",
   "version": "3.7.4"
  }
 },
 "nbformat": 4,
 "nbformat_minor": 2
}
