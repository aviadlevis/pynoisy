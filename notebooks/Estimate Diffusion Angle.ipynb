{
 "cells": [
  {
   "cell_type": "markdown",
   "metadata": {},
   "source": [
    "# Estimate Diffusion Angle\n",
    "---\n",
    "This notebook estimates Noisy [1,2] parameters from Gaussian Random Fields movies. More specifically, the Adjoint method is used to estimate the opening angle of the diffusion tensor.\n",
    "\n",
    "[1] https://github.com/AFD-Illinois/noisy\n",
    "\n",
    "[2] https://github.com/aviadlevis/pynoisy"
   ]
  },
  {
   "cell_type": "code",
   "execution_count": null,
   "metadata": {
    "ExecuteTime": {
     "end_time": "2020-03-25T18:49:04.359054Z",
     "start_time": "2020-03-25T18:49:03.281333Z"
    }
   },
   "outputs": [],
   "source": [
    "import pynoisy\n",
    "import numpy as np\n",
    "import matplotlib.pyplot as plt\n",
    "import matplotlib\n",
    "import os\n",
    "import scipy as sci\n",
    "from ipywidgets import interact, fixed\n",
    "import ipywidgets as widget\n",
    "import pynoisy.eht_functions as ehtf\n",
    "from matplotlib import animation\n",
    "from mpl_toolkits.axes_grid1 import make_axes_locatable\n",
    "from tqdm.notebook import tqdm\n",
    "from scipy.optimize import minimize"
   ]
  },
  {
   "cell_type": "code",
   "execution_count": null,
   "metadata": {
    "ExecuteTime": {
     "end_time": "2020-03-25T18:56:16.445069Z",
     "start_time": "2020-03-25T18:56:16.433531Z"
    },
    "code_folding": [
     0,
     31
    ]
   },
   "outputs": [],
   "source": [
    "def compare_movie_frames(movie1, movie2):\n",
    "    fig, axes = plt.subplots(1, 3, figsize=(9,3))\n",
    "    plt.tight_layout()\n",
    "    mean_images = [movie1.frames.mean(axis=0), \n",
    "                   movie2.frames.mean(axis=0), \n",
    "                   (np.abs(movie1.frames - movie2.frames)).mean(axis=0)]\n",
    "    cbars = []\n",
    "    for ax, image in zip(axes, mean_images):\n",
    "        im = ax.imshow(image)\n",
    "        ax.get_xaxis().set_visible(False)\n",
    "        ax.get_yaxis().set_visible(False)\n",
    "        divider = make_axes_locatable(ax)\n",
    "        cax = divider.append_axes('right', size='5%', pad=0.05)\n",
    "        cbars.append(fig.colorbar(im, cax=cax))\n",
    "                     \n",
    "    def imshow_frame(i, movie1, movie2, axes, cbars):\n",
    "        image1 = movie1.frames[i]\n",
    "        image2 = movie2.frames[i]\n",
    "        image3 = np.abs(movie1.frames[i] - movie2.frames[i])\n",
    "        \n",
    "        for ax, img, title, cbar in zip(axes, [image1, image2, image3], \n",
    "                                        ['Movie1', 'Movie2', 'Absolute difference'], cbars):\n",
    "            im = ax.imshow(img)\n",
    "            ax.set_title(title)\n",
    "            cbar.mappable.set_clim([img.min(), img.max()])\n",
    "            \n",
    "    interact(\n",
    "        imshow_frame, i=(0, pynoisy.core.get_num_frames()-1), \n",
    "        movie1=fixed(movie1),movie2=fixed(movie2), axes=fixed(axes), cbars=fixed(cbars)\n",
    "    );\n",
    "\n",
    "class Optimizer(object):\n",
    "    def __init__(self):\n",
    "        self._nfeval = 0\n",
    "        \n",
    "    def objective_fun(self, x):\n",
    "        diffusion = pynoisy.RingDiffusion(opening_angle=x)\n",
    "        forward_solver = pynoisy.PDESolver(advection=advection_true, diffusion=diffusion)\n",
    "        adjoint_solver = pynoisy.PDESolver(advection=-advection_true, diffusion=diffusion)\n",
    "        random_field = forward_solver.run_adjoint(source=source, verbose=False)\n",
    "        error = random_field.frames - random_field_true.frames\n",
    "        loss = np.abs(error).mean()\n",
    "        backprop = adjoint_solver.run_adjoint(source=pynoisy.Movie(error).reverse_time().frames, verbose=False)\n",
    "        #backprop = forward_solver.run_adjoint(source=error, verbose=False)\n",
    "    \n",
    "        dx = 1e-2\n",
    "        diffusion_f = pynoisy.RingDiffusion(opening_angle=x+dx)\n",
    "        jac_source = (diffusion_f.get_laplacian(random_field.frames, advection_true.v) - \n",
    "                      diffusion.get_laplacian(random_field.frames, advection_true.v)) / dx\n",
    "        gradient = np.mean(backprop.frames * np.flip(jac_source, axis=0))\n",
    "        #gradient = np.mean(backprop.frames * jac_source)\n",
    "        return np.array(loss), np.array(gradient)\n",
    "\n",
    "    def callback_fun(self, x):\n",
    "        print('{}    {}'.format(self._nfeval, x))\n",
    "        self._nfeval += 1\n",
    "        \n",
    "    def minimize(self, x0):\n",
    "        result = minimize(fun=self.objective_fun, x0=np.array(x0), method='L-BFGS-B', jac=True)\n",
    "        return result"
   ]
  },
  {
   "cell_type": "markdown",
   "metadata": {
    "heading_collapsed": true
   },
   "source": [
    "## Forward Model"
   ]
  },
  {
   "cell_type": "markdown",
   "metadata": {
    "heading_collapsed": true,
    "hidden": true
   },
   "source": [
    "### Generate synthetic measurements"
   ]
  },
  {
   "cell_type": "code",
   "execution_count": null,
   "metadata": {
    "ExecuteTime": {
     "start_time": "2020-03-25T00:39:23.783Z"
    },
    "hidden": true
   },
   "outputs": [],
   "source": [
    "advection = pynoisy.DiskAdvection()\n",
    "diffusion = pynoisy.RingDiffusion()\n",
    "solver = pynoisy.PDESolver(advection, diffusion)\n",
    "source = np.random.randn(solver.num_frames, *pynoisy.core.get_image_size()) * solver.forcing_strength\n",
    "random_field = solver.run_adjoint(source=source, verbose=True)\n",
    "random_field.save('./random_field_adjoint1')\n",
    "np.save('./source_adjoint1', source)"
   ]
  },
  {
   "cell_type": "code",
   "execution_count": null,
   "metadata": {
    "ExecuteTime": {
     "end_time": "2020-03-25T18:47:22.793931Z",
     "start_time": "2020-03-25T18:47:22.761903Z"
    },
    "hidden": true,
    "scrolled": false
   },
   "outputs": [],
   "source": [
    "%matplotlib notebook\n",
    "print('Synthetic measurements')\n",
    "anim = random_field_true.get_animation(vmin=-1, vmax=1)"
   ]
  },
  {
   "cell_type": "markdown",
   "metadata": {
    "heading_collapsed": true
   },
   "source": [
    "## Inverse Model"
   ]
  },
  {
   "cell_type": "markdown",
   "metadata": {
    "heading_collapsed": true,
    "hidden": true
   },
   "source": [
    "### Adjoint backpropogation"
   ]
  },
  {
   "cell_type": "code",
   "execution_count": null,
   "metadata": {
    "ExecuteTime": {
     "end_time": "2020-03-25T18:49:27.996721Z",
     "start_time": "2020-03-25T18:49:27.984561Z"
    },
    "hidden": true
   },
   "outputs": [],
   "source": [
    "\"\"\"\n",
    "Load true random field\n",
    "\"\"\"\n",
    "random_field_true = pynoisy.Movie()\n",
    "random_field_true.load('./random_field_adjoint1')\n",
    "source = np.load('./source_adjoint1.npy')\n",
    "\n",
    "# True Advection / Diffusion\n",
    "advection_true = pynoisy.DiskAdvection()\n",
    "diffusion_true = pynoisy.RingDiffusion()"
   ]
  },
  {
   "cell_type": "code",
   "execution_count": null,
   "metadata": {
    "ExecuteTime": {
     "end_time": "2020-03-25T18:50:02.267319Z",
     "start_time": "2020-03-25T18:49:58.289379Z"
    },
    "hidden": true
   },
   "outputs": [],
   "source": [
    "\"\"\"\n",
    "Initilaize diffusion tensor angle with initial guess\n",
    "\"\"\"\n",
    "diffusion = pynoisy.RingDiffusion(opening_angle=0.0)\n",
    "solver = pynoisy.PDESolver(advection_true, diffusion)\n",
    "adjoint_solver = pynoisy.PDESolver(advection=-advection_true, diffusion=diffusion)\n",
    "random_field = solver.run_adjoint(source=source)\n",
    "\n",
    "print('Initial guess')\n",
    "%matplotlib notebook\n",
    "anim = random_field.get_animation(vmin=-1, vmax=1)"
   ]
  },
  {
   "cell_type": "code",
   "execution_count": null,
   "metadata": {
    "ExecuteTime": {
     "end_time": "2020-03-25T18:50:48.383528Z",
     "start_time": "2020-03-25T18:50:45.797084Z"
    },
    "hidden": true
   },
   "outputs": [],
   "source": [
    "\"\"\"\n",
    "Compute error and backpropogate (Adjoint) error through Noisy\n",
    "\"\"\"\n",
    "error = random_field_true.frames - random_field.frames\n",
    "backprop = adjoint_solver.run_adjoint(source=error)"
   ]
  },
  {
   "cell_type": "code",
   "execution_count": null,
   "metadata": {
    "ExecuteTime": {
     "end_time": "2020-03-25T18:52:06.464710Z",
     "start_time": "2020-03-25T18:52:06.435254Z"
    },
    "hidden": true
   },
   "outputs": [],
   "source": [
    "print('Adjoint (backpropogated) Error')\n",
    "anim = backprop.get_animation(vmin=-2, vmax=2)"
   ]
  },
  {
   "cell_type": "markdown",
   "metadata": {
    "heading_collapsed": true,
    "hidden": true
   },
   "source": [
    "### Loss / gradient analysis"
   ]
  },
  {
   "cell_type": "code",
   "execution_count": null,
   "metadata": {
    "ExecuteTime": {
     "end_time": "2020-03-25T13:49:11.101198Z",
     "start_time": "2020-03-25T13:49:11.089909Z"
    },
    "code_folding": [
     0,
     8,
     23
    ],
    "hidden": true
   },
   "outputs": [],
   "source": [
    "def objective_fun1(x):\n",
    "    diffusion = pynoisy.RingDiffusion(opening_angle=x)\n",
    "    forward_solver = pynoisy.PDESolver(advection=advection_true, diffusion=diffusion)\n",
    "    random_field = forward_solver.run_adjoint(source=source, verbose=False)\n",
    "    error = random_field.frames - random_field_true.frames\n",
    "    loss = np.abs(error).mean()\n",
    "    return loss\n",
    "\n",
    "def objective_fun3(x):\n",
    "    diffusion = pynoisy.RingDiffusion(opening_angle=x)\n",
    "    forward_solver = pynoisy.PDESolver(advection=advection_true, diffusion=diffusion)\n",
    "    random_field = forward_solver.run_adjoint(source=source, verbose=False)\n",
    "    error = random_field.frames - random_field_true.frames\n",
    "    loss = np.abs(error).mean()\n",
    "\n",
    "    dx = 1e-2\n",
    "    diffusion_f = pynoisy.RingDiffusion(opening_angle=x+dx)\n",
    "    jac_source = (diffusion_f.get_laplacian(random_field.frames, advection_true.v) - \n",
    "                  diffusion.get_laplacian(random_field.frames, advection_true.v)) / dx\n",
    "    jacobian = forward_solver.run_adjoint(source=jac_source, verbose=False)\n",
    "    gradient = np.mean(error * jacobian.frames)\n",
    "    return loss, gradient\n",
    "    \n",
    "def objective_fun2(x):\n",
    "    diffusion = pynoisy.RingDiffusion(opening_angle=x)\n",
    "    forward_solver = pynoisy.PDESolver(advection=advection_true, diffusion=diffusion)\n",
    "    adjoint_solver = pynoisy.PDESolver(advection=-advection_true, diffusion=diffusion)\n",
    "    random_field = forward_solver.run_adjoint(source=source, verbose=False)\n",
    "    error = random_field.frames - random_field_true.frames\n",
    "    loss = np.abs(error).mean()\n",
    "    #backprop = adjoint_solver.run_adjoint(source=pynoisy.Movie(error).reverse_time().frames, verbose=False)\n",
    "    backprop = forward_solver.run_adjoint(source=error, verbose=False)\n",
    "    \n",
    "    dx = 1e-2\n",
    "    diffusion_f = pynoisy.RingDiffusion(opening_angle=x+dx)\n",
    "    jac_source = (diffusion_f.get_laplacian(random_field.frames, advection_true.v) - \n",
    "                  diffusion.get_laplacian(random_field.frames, advection_true.v)) / dx\n",
    "    \n",
    "    #gradient = np.mean(backprop.frames * np.flip(jac_source, axis=0))\n",
    "    gradient = np.mean(backprop.frames * jac_source)\n",
    "    return loss, gradient"
   ]
  },
  {
   "cell_type": "code",
   "execution_count": null,
   "metadata": {
    "ExecuteTime": {
     "end_time": "2020-03-25T13:56:32.877095Z",
     "start_time": "2020-03-25T13:49:41.213814Z"
    },
    "code_folding": [],
    "hidden": true
   },
   "outputs": [],
   "source": [
    "cost1, cost2 = [], []\n",
    "grad1, grad2 = [], []\n",
    "theta_grid = np.linspace(0.0, 1.1 + np.pi, 40)\n",
    "dx = 1e-3\n",
    "for x in tqdm(theta_grid):\n",
    "    c, g = objective_fun2(x)\n",
    "    cost2.append(c)\n",
    "    grad2.append(g)\n",
    "    grad1.append((objective_fun1(x+dx) - c) / dx)"
   ]
  },
  {
   "cell_type": "code",
   "execution_count": null,
   "metadata": {
    "ExecuteTime": {
     "end_time": "2020-03-25T03:02:57.988709Z",
     "start_time": "2020-03-25T03:02:57.946622Z"
    },
    "hidden": true
   },
   "outputs": [],
   "source": [
    "%matplotlib notebook \n",
    "\n",
    "fig, ax = plt.subplots(1, 2, figsize=(10,4))\n",
    "ax[0].set_xlabel(r'$\\theta$')\n",
    "ax[0].set_ylabel(r'$F(\\theta)$')\n",
    "ax[0].set_title('Loss function')\n",
    "ax[0].plot(theta_grid, cost2, label='Loss')\n",
    "ax[0].axvline(x=diffusion_true.opening_angle, label='True angle', color='r', linestyle='--')\n",
    "ax[1].axvline(x=diffusion_true.opening_angle, label='True angle', color='r', linestyle='--')\n",
    "ax[1].plot(theta_grid, grad1, label='Numerical gradient')\n",
    "ax[1].plot(theta_grid, grad2, label='Adjoint gradient')\n",
    "ax[1].set_xlabel(r'$\\theta$')\n",
    "ax[1].set_ylabel(r'$\\nabla F(\\theta)$')\n",
    "ax[1].set_title('Gradient comparison')\n",
    "\n",
    "plt.legend()"
   ]
  },
  {
   "cell_type": "code",
   "execution_count": null,
   "metadata": {
    "ExecuteTime": {
     "end_time": "2020-03-25T17:24:02.771888Z",
     "start_time": "2020-03-25T17:24:02.735005Z"
    },
    "hidden": true
   },
   "outputs": [],
   "source": [
    "%matplotlib notebook \n",
    "\n",
    "fig, ax = plt.subplots(1, 2, figsize=(10,4))\n",
    "ax[0].set_xlabel(r'$\\theta$')\n",
    "ax[0].set_ylabel(r'$F(\\theta)$')\n",
    "ax[0].set_title('Loss function')\n",
    "ax[0].plot(theta_grid, cost2, label='Loss')\n",
    "ax[0].axvline(x=diffusion_true.opening_angle,  color='r', linestyle='--')\n",
    "ax[1].axvline(x=diffusion_true.opening_angle, color='r', linestyle='--')\n",
    "ax[1].axhline(y=0, label='True angle', color='r', linestyle='--')\n",
    "ax[1].plot(theta_grid, grad1, label='Numerical gradient')\n",
    "ax[1].plot(theta_grid, np.array(grad2)*0.05, label='Adjoint gradient')\n",
    "ax[1].set_xlabel(r'$\\theta$')\n",
    "ax[1].set_ylabel(r'$\\nabla F(\\theta)$')\n",
    "ax[1].set_title('Gradient comparison')\n",
    "\n",
    "plt.legend()"
   ]
  },
  {
   "cell_type": "markdown",
   "metadata": {
    "heading_collapsed": true,
    "hidden": true
   },
   "source": [
    "### Full Optimization"
   ]
  },
  {
   "cell_type": "code",
   "execution_count": null,
   "metadata": {
    "ExecuteTime": {
     "end_time": "2020-03-25T03:32:40.771113Z",
     "start_time": "2020-03-25T03:05:21.282671Z"
    },
    "code_folding": [],
    "hidden": true
   },
   "outputs": [],
   "source": [
    "\"\"\"\n",
    "Optimization from many initial guesses. \n",
    "\"\"\"\n",
    "optimizer = Optimizer()\n",
    "x0_list = np.linspace(0.0, np.pi, 30)\n",
    "results = []\n",
    "for x0 in tqdm(x0_list):\n",
    "    res = optimizer.minimize(x0)\n",
    "    results.append(res.x)"
   ]
  },
  {
   "cell_type": "code",
   "execution_count": null,
   "metadata": {
    "ExecuteTime": {
     "end_time": "2020-03-25T18:57:13.700441Z",
     "start_time": "2020-03-25T18:57:13.625424Z"
    },
    "hidden": true
   },
   "outputs": [],
   "source": [
    "fig, ax = plt.subplots(1, 1, figsize=(6,5))\n",
    "ax.set_xlabel(r'$\\theta_0$')\n",
    "ax.set_ylabel(r'$\\hat{\\theta}$')\n",
    "ax.set_title('Convergence of different initial conditions')\n",
    "ax.plot(x0_list, np.array(results))\n",
    "plt.axhline(y=diffusion_true.opening_angle, color='r', linestyle='--', label='True angle')\n",
    "plt.axvline(x=diffusion_true.opening_angle, color='r', linestyle='--', label='True angle')"
   ]
  }
 ],
 "metadata": {
  "kernelspec": {
   "display_name": "Python 3",
   "language": "python",
   "name": "python3"
  },
  "language_info": {
   "codemirror_mode": {
    "name": "ipython",
    "version": 3
   },
   "file_extension": ".py",
   "mimetype": "text/x-python",
   "name": "python",
   "nbconvert_exporter": "python",
   "pygments_lexer": "ipython3",
   "version": "3.7.4"
  }
 },
 "nbformat": 4,
 "nbformat_minor": 2
}
