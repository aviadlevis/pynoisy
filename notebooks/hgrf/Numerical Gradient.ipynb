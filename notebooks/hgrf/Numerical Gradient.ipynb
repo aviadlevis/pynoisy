{
 "cells": [
  {
   "cell_type": "markdown",
   "metadata": {},
   "source": [
    "# Numerical Gradient\n",
    "---\n",
    "This notebook analyses the pixelwise gradient"
   ]
  },
  {
   "cell_type": "code",
   "execution_count": 1,
   "metadata": {
    "ExecuteTime": {
     "end_time": "2020-08-22T00:06:33.668152Z",
     "start_time": "2020-08-22T00:06:33.053985Z"
    },
    "code_folding": []
   },
   "outputs": [],
   "source": [
    "import numpy as np\n",
    "import pynoisy\n",
    "import xarray as xr\n",
    "\n",
    "import matplotlib.pyplot as plt\n",
    "from pynoisy.inverse import ForwardOperator,ObjectiveFunction\n",
    "from tqdm.notebook import tqdm\n",
    "\n",
    "n_jobs = 4"
   ]
  },
  {
   "cell_type": "code",
   "execution_count": 17,
   "metadata": {
    "ExecuteTime": {
     "end_time": "2020-08-22T00:10:04.547001Z",
     "start_time": "2020-08-22T00:10:04.535916Z"
    },
    "code_folding": [
     0,
     10,
     24
    ]
   },
   "outputs": [],
   "source": [
    "def compute_gradient_ij(i, j, solver, forward, adjoint, dx=1e-8):\n",
    "    spatial_angle = solver.diffusion.spatial_angle.copy()\n",
    "    source = solver.get_laplacian(forward)\n",
    "    solver.diffusion.spatial_angle[i, j] = spatial_angle[i, j] + dx\n",
    "    source_ij = solver.get_laplacian(forward) - source\n",
    "    solver.diffusion.spatial_angle[i, j] = spatial_angle[i, j]\n",
    "    source_ij = source_ij / dx\n",
    "    gradient = adjoint * source_ij\n",
    "    return gradient\n",
    "\n",
    "def compute_gradient1(idx, jdx, solver, forward, adjoint, dx=1e-8):\n",
    "    spatial_angle = solver.diffusion.spatial_angle.copy()\n",
    "    source = solver.get_laplacian(forward)\n",
    "    gradient = np.zeros(shape=spatial_angle.shape)\n",
    "    for i in range(gradient.shape[0]):\n",
    "        for j in range(gradient.shape[1]):\n",
    "            if ((idx == i) and (jdx == j)): \n",
    "                solver.diffusion.spatial_angle[i, j] = spatial_angle[i, j] + dx\n",
    "                source_ij = solver.get_laplacian(forward) - source\n",
    "                solver.diffusion.spatial_angle[i, j] = spatial_angle[i, j]\n",
    "                source_ij = source_ij / dx\n",
    "                gradient[i,j] = (adjoint * source_ij).sum()\n",
    "    return xr.DataArray(data=gradient, coords=solver.params.coords, attrs={'grad_type': 'loop'})\n",
    "\n",
    "def compute_gradient(solver, forward, adjoint, dx=1e-8):\n",
    "    spatial_angle = solver.diffusion.spatial_angle.copy()\n",
    "    source = solver.get_laplacian(forward)\n",
    "    gradient = np.zeros(shape=spatial_angle.shape)\n",
    "    for i in tqdm(range(gradient.shape[0]), desc='i loop'):\n",
    "        for j in tqdm(range(gradient.shape[1]), desc='j loop', leave=False):\n",
    "            solver.diffusion.spatial_angle[i, j] = spatial_angle[i, j] + dx\n",
    "            source_ij = solver.get_laplacian(forward) - source\n",
    "            solver.diffusion.spatial_angle[i, j] = spatial_angle[i, j]\n",
    "            source_ij = source_ij / dx\n",
    "            gradient[i,j] = (adjoint * source_ij).sum()\n",
    "    return xr.DataArray(data=gradient, coords=solver.params.coords, attrs={'grad_type': 'loop'})"
   ]
  },
  {
   "cell_type": "markdown",
   "metadata": {
    "heading_collapsed": true
   },
   "source": [
    "## Generate measurements"
   ]
  },
  {
   "cell_type": "code",
   "execution_count": 3,
   "metadata": {
    "ExecuteTime": {
     "end_time": "2020-08-20T00:21:55.560288Z",
     "start_time": "2020-08-20T00:21:54.557066Z"
    },
    "hidden": true
   },
   "outputs": [
    {
     "name": "stdout",
     "output_type": "stream",
     "text": [
      "Setting solver seed to: 123\r"
     ]
    }
   ],
   "source": [
    "advection_true = pynoisy.advection.general_xy(64, 64)\n",
    "diffusion_true = pynoisy.diffusion.general_xy(64, 64)\n",
    "solver = pynoisy.forward.HGRFSolver(64, 64, advection_true, diffusion_true, seed=123)\n",
    "measurements = solver.run(num_frames=64, n_jobs=n_jobs)\n",
    "measurements.to_netcdf('meas.nc')\n",
    "solver.save('solver.nc')"
   ]
  },
  {
   "cell_type": "markdown",
   "metadata": {},
   "source": [
    "## L2 Non-krylov"
   ]
  },
  {
   "cell_type": "markdown",
   "metadata": {
    "heading_collapsed": true
   },
   "source": [
    "### Generate gradient"
   ]
  },
  {
   "cell_type": "code",
   "execution_count": 4,
   "metadata": {
    "ExecuteTime": {
     "end_time": "2020-08-20T00:55:31.898331Z",
     "start_time": "2020-08-20T00:22:08.252681Z"
    },
    "hidden": true
   },
   "outputs": [
    {
     "name": "stdout",
     "output_type": "stream",
     "text": [
      "Setting solver seed to: 123\r"
     ]
    },
    {
     "data": {
      "application/vnd.jupyter.widget-view+json": {
       "model_id": "54f9c369d2b447b8a139ad0e805f3c01",
       "version_major": 2,
       "version_minor": 0
      },
      "text/plain": [
       "HBox(children=(IntProgress(value=0, description='i loop', max=64, style=ProgressStyle(description_width='initi…"
      ]
     },
     "metadata": {},
     "output_type": "display_data"
    },
    {
     "data": {
      "application/vnd.jupyter.widget-view+json": {
       "model_id": "",
       "version_major": 2,
       "version_minor": 0
      },
      "text/plain": [
       "HBox(children=(IntProgress(value=0, description='j loop', max=64, style=ProgressStyle(description_width='initi…"
      ]
     },
     "metadata": {},
     "output_type": "display_data"
    },
    {
     "data": {
      "application/vnd.jupyter.widget-view+json": {
       "model_id": "",
       "version_major": 2,
       "version_minor": 0
      },
      "text/plain": [
       "HBox(children=(IntProgress(value=0, description='j loop', max=64, style=ProgressStyle(description_width='initi…"
      ]
     },
     "metadata": {},
     "output_type": "display_data"
    },
    {
     "data": {
      "application/vnd.jupyter.widget-view+json": {
       "model_id": "",
       "version_major": 2,
       "version_minor": 0
      },
      "text/plain": [
       "HBox(children=(IntProgress(value=0, description='j loop', max=64, style=ProgressStyle(description_width='initi…"
      ]
     },
     "metadata": {},
     "output_type": "display_data"
    },
    {
     "data": {
      "application/vnd.jupyter.widget-view+json": {
       "model_id": "",
       "version_major": 2,
       "version_minor": 0
      },
      "text/plain": [
       "HBox(children=(IntProgress(value=0, description='j loop', max=64, style=ProgressStyle(description_width='initi…"
      ]
     },
     "metadata": {},
     "output_type": "display_data"
    },
    {
     "data": {
      "application/vnd.jupyter.widget-view+json": {
       "model_id": "",
       "version_major": 2,
       "version_minor": 0
      },
      "text/plain": [
       "HBox(children=(IntProgress(value=0, description='j loop', max=64, style=ProgressStyle(description_width='initi…"
      ]
     },
     "metadata": {},
     "output_type": "display_data"
    },
    {
     "data": {
      "application/vnd.jupyter.widget-view+json": {
       "model_id": "",
       "version_major": 2,
       "version_minor": 0
      },
      "text/plain": [
       "HBox(children=(IntProgress(value=0, description='j loop', max=64, style=ProgressStyle(description_width='initi…"
      ]
     },
     "metadata": {},
     "output_type": "display_data"
    },
    {
     "data": {
      "application/vnd.jupyter.widget-view+json": {
       "model_id": "",
       "version_major": 2,
       "version_minor": 0
      },
      "text/plain": [
       "HBox(children=(IntProgress(value=0, description='j loop', max=64, style=ProgressStyle(description_width='initi…"
      ]
     },
     "metadata": {},
     "output_type": "display_data"
    },
    {
     "data": {
      "application/vnd.jupyter.widget-view+json": {
       "model_id": "",
       "version_major": 2,
       "version_minor": 0
      },
      "text/plain": [
       "HBox(children=(IntProgress(value=0, description='j loop', max=64, style=ProgressStyle(description_width='initi…"
      ]
     },
     "metadata": {},
     "output_type": "display_data"
    },
    {
     "data": {
      "application/vnd.jupyter.widget-view+json": {
       "model_id": "",
       "version_major": 2,
       "version_minor": 0
      },
      "text/plain": [
       "HBox(children=(IntProgress(value=0, description='j loop', max=64, style=ProgressStyle(description_width='initi…"
      ]
     },
     "metadata": {},
     "output_type": "display_data"
    },
    {
     "data": {
      "application/vnd.jupyter.widget-view+json": {
       "model_id": "",
       "version_major": 2,
       "version_minor": 0
      },
      "text/plain": [
       "HBox(children=(IntProgress(value=0, description='j loop', max=64, style=ProgressStyle(description_width='initi…"
      ]
     },
     "metadata": {},
     "output_type": "display_data"
    },
    {
     "data": {
      "application/vnd.jupyter.widget-view+json": {
       "model_id": "",
       "version_major": 2,
       "version_minor": 0
      },
      "text/plain": [
       "HBox(children=(IntProgress(value=0, description='j loop', max=64, style=ProgressStyle(description_width='initi…"
      ]
     },
     "metadata": {},
     "output_type": "display_data"
    },
    {
     "data": {
      "application/vnd.jupyter.widget-view+json": {
       "model_id": "",
       "version_major": 2,
       "version_minor": 0
      },
      "text/plain": [
       "HBox(children=(IntProgress(value=0, description='j loop', max=64, style=ProgressStyle(description_width='initi…"
      ]
     },
     "metadata": {},
     "output_type": "display_data"
    },
    {
     "data": {
      "application/vnd.jupyter.widget-view+json": {
       "model_id": "",
       "version_major": 2,
       "version_minor": 0
      },
      "text/plain": [
       "HBox(children=(IntProgress(value=0, description='j loop', max=64, style=ProgressStyle(description_width='initi…"
      ]
     },
     "metadata": {},
     "output_type": "display_data"
    },
    {
     "data": {
      "application/vnd.jupyter.widget-view+json": {
       "model_id": "",
       "version_major": 2,
       "version_minor": 0
      },
      "text/plain": [
       "HBox(children=(IntProgress(value=0, description='j loop', max=64, style=ProgressStyle(description_width='initi…"
      ]
     },
     "metadata": {},
     "output_type": "display_data"
    },
    {
     "data": {
      "application/vnd.jupyter.widget-view+json": {
       "model_id": "",
       "version_major": 2,
       "version_minor": 0
      },
      "text/plain": [
       "HBox(children=(IntProgress(value=0, description='j loop', max=64, style=ProgressStyle(description_width='initi…"
      ]
     },
     "metadata": {},
     "output_type": "display_data"
    },
    {
     "data": {
      "application/vnd.jupyter.widget-view+json": {
       "model_id": "",
       "version_major": 2,
       "version_minor": 0
      },
      "text/plain": [
       "HBox(children=(IntProgress(value=0, description='j loop', max=64, style=ProgressStyle(description_width='initi…"
      ]
     },
     "metadata": {},
     "output_type": "display_data"
    },
    {
     "data": {
      "application/vnd.jupyter.widget-view+json": {
       "model_id": "",
       "version_major": 2,
       "version_minor": 0
      },
      "text/plain": [
       "HBox(children=(IntProgress(value=0, description='j loop', max=64, style=ProgressStyle(description_width='initi…"
      ]
     },
     "metadata": {},
     "output_type": "display_data"
    },
    {
     "data": {
      "application/vnd.jupyter.widget-view+json": {
       "model_id": "",
       "version_major": 2,
       "version_minor": 0
      },
      "text/plain": [
       "HBox(children=(IntProgress(value=0, description='j loop', max=64, style=ProgressStyle(description_width='initi…"
      ]
     },
     "metadata": {},
     "output_type": "display_data"
    },
    {
     "data": {
      "application/vnd.jupyter.widget-view+json": {
       "model_id": "",
       "version_major": 2,
       "version_minor": 0
      },
      "text/plain": [
       "HBox(children=(IntProgress(value=0, description='j loop', max=64, style=ProgressStyle(description_width='initi…"
      ]
     },
     "metadata": {},
     "output_type": "display_data"
    },
    {
     "data": {
      "application/vnd.jupyter.widget-view+json": {
       "model_id": "",
       "version_major": 2,
       "version_minor": 0
      },
      "text/plain": [
       "HBox(children=(IntProgress(value=0, description='j loop', max=64, style=ProgressStyle(description_width='initi…"
      ]
     },
     "metadata": {},
     "output_type": "display_data"
    },
    {
     "data": {
      "application/vnd.jupyter.widget-view+json": {
       "model_id": "",
       "version_major": 2,
       "version_minor": 0
      },
      "text/plain": [
       "HBox(children=(IntProgress(value=0, description='j loop', max=64, style=ProgressStyle(description_width='initi…"
      ]
     },
     "metadata": {},
     "output_type": "display_data"
    },
    {
     "data": {
      "application/vnd.jupyter.widget-view+json": {
       "model_id": "",
       "version_major": 2,
       "version_minor": 0
      },
      "text/plain": [
       "HBox(children=(IntProgress(value=0, description='j loop', max=64, style=ProgressStyle(description_width='initi…"
      ]
     },
     "metadata": {},
     "output_type": "display_data"
    },
    {
     "data": {
      "application/vnd.jupyter.widget-view+json": {
       "model_id": "",
       "version_major": 2,
       "version_minor": 0
      },
      "text/plain": [
       "HBox(children=(IntProgress(value=0, description='j loop', max=64, style=ProgressStyle(description_width='initi…"
      ]
     },
     "metadata": {},
     "output_type": "display_data"
    },
    {
     "data": {
      "application/vnd.jupyter.widget-view+json": {
       "model_id": "",
       "version_major": 2,
       "version_minor": 0
      },
      "text/plain": [
       "HBox(children=(IntProgress(value=0, description='j loop', max=64, style=ProgressStyle(description_width='initi…"
      ]
     },
     "metadata": {},
     "output_type": "display_data"
    },
    {
     "data": {
      "application/vnd.jupyter.widget-view+json": {
       "model_id": "",
       "version_major": 2,
       "version_minor": 0
      },
      "text/plain": [
       "HBox(children=(IntProgress(value=0, description='j loop', max=64, style=ProgressStyle(description_width='initi…"
      ]
     },
     "metadata": {},
     "output_type": "display_data"
    },
    {
     "data": {
      "application/vnd.jupyter.widget-view+json": {
       "model_id": "",
       "version_major": 2,
       "version_minor": 0
      },
      "text/plain": [
       "HBox(children=(IntProgress(value=0, description='j loop', max=64, style=ProgressStyle(description_width='initi…"
      ]
     },
     "metadata": {},
     "output_type": "display_data"
    },
    {
     "data": {
      "application/vnd.jupyter.widget-view+json": {
       "model_id": "",
       "version_major": 2,
       "version_minor": 0
      },
      "text/plain": [
       "HBox(children=(IntProgress(value=0, description='j loop', max=64, style=ProgressStyle(description_width='initi…"
      ]
     },
     "metadata": {},
     "output_type": "display_data"
    },
    {
     "data": {
      "application/vnd.jupyter.widget-view+json": {
       "model_id": "",
       "version_major": 2,
       "version_minor": 0
      },
      "text/plain": [
       "HBox(children=(IntProgress(value=0, description='j loop', max=64, style=ProgressStyle(description_width='initi…"
      ]
     },
     "metadata": {},
     "output_type": "display_data"
    },
    {
     "data": {
      "application/vnd.jupyter.widget-view+json": {
       "model_id": "",
       "version_major": 2,
       "version_minor": 0
      },
      "text/plain": [
       "HBox(children=(IntProgress(value=0, description='j loop', max=64, style=ProgressStyle(description_width='initi…"
      ]
     },
     "metadata": {},
     "output_type": "display_data"
    },
    {
     "data": {
      "application/vnd.jupyter.widget-view+json": {
       "model_id": "",
       "version_major": 2,
       "version_minor": 0
      },
      "text/plain": [
       "HBox(children=(IntProgress(value=0, description='j loop', max=64, style=ProgressStyle(description_width='initi…"
      ]
     },
     "metadata": {},
     "output_type": "display_data"
    },
    {
     "data": {
      "application/vnd.jupyter.widget-view+json": {
       "model_id": "",
       "version_major": 2,
       "version_minor": 0
      },
      "text/plain": [
       "HBox(children=(IntProgress(value=0, description='j loop', max=64, style=ProgressStyle(description_width='initi…"
      ]
     },
     "metadata": {},
     "output_type": "display_data"
    },
    {
     "data": {
      "application/vnd.jupyter.widget-view+json": {
       "model_id": "",
       "version_major": 2,
       "version_minor": 0
      },
      "text/plain": [
       "HBox(children=(IntProgress(value=0, description='j loop', max=64, style=ProgressStyle(description_width='initi…"
      ]
     },
     "metadata": {},
     "output_type": "display_data"
    },
    {
     "data": {
      "application/vnd.jupyter.widget-view+json": {
       "model_id": "",
       "version_major": 2,
       "version_minor": 0
      },
      "text/plain": [
       "HBox(children=(IntProgress(value=0, description='j loop', max=64, style=ProgressStyle(description_width='initi…"
      ]
     },
     "metadata": {},
     "output_type": "display_data"
    },
    {
     "data": {
      "application/vnd.jupyter.widget-view+json": {
       "model_id": "",
       "version_major": 2,
       "version_minor": 0
      },
      "text/plain": [
       "HBox(children=(IntProgress(value=0, description='j loop', max=64, style=ProgressStyle(description_width='initi…"
      ]
     },
     "metadata": {},
     "output_type": "display_data"
    },
    {
     "data": {
      "application/vnd.jupyter.widget-view+json": {
       "model_id": "",
       "version_major": 2,
       "version_minor": 0
      },
      "text/plain": [
       "HBox(children=(IntProgress(value=0, description='j loop', max=64, style=ProgressStyle(description_width='initi…"
      ]
     },
     "metadata": {},
     "output_type": "display_data"
    },
    {
     "data": {
      "application/vnd.jupyter.widget-view+json": {
       "model_id": "",
       "version_major": 2,
       "version_minor": 0
      },
      "text/plain": [
       "HBox(children=(IntProgress(value=0, description='j loop', max=64, style=ProgressStyle(description_width='initi…"
      ]
     },
     "metadata": {},
     "output_type": "display_data"
    },
    {
     "data": {
      "application/vnd.jupyter.widget-view+json": {
       "model_id": "",
       "version_major": 2,
       "version_minor": 0
      },
      "text/plain": [
       "HBox(children=(IntProgress(value=0, description='j loop', max=64, style=ProgressStyle(description_width='initi…"
      ]
     },
     "metadata": {},
     "output_type": "display_data"
    },
    {
     "data": {
      "application/vnd.jupyter.widget-view+json": {
       "model_id": "",
       "version_major": 2,
       "version_minor": 0
      },
      "text/plain": [
       "HBox(children=(IntProgress(value=0, description='j loop', max=64, style=ProgressStyle(description_width='initi…"
      ]
     },
     "metadata": {},
     "output_type": "display_data"
    },
    {
     "data": {
      "application/vnd.jupyter.widget-view+json": {
       "model_id": "",
       "version_major": 2,
       "version_minor": 0
      },
      "text/plain": [
       "HBox(children=(IntProgress(value=0, description='j loop', max=64, style=ProgressStyle(description_width='initi…"
      ]
     },
     "metadata": {},
     "output_type": "display_data"
    },
    {
     "data": {
      "application/vnd.jupyter.widget-view+json": {
       "model_id": "",
       "version_major": 2,
       "version_minor": 0
      },
      "text/plain": [
       "HBox(children=(IntProgress(value=0, description='j loop', max=64, style=ProgressStyle(description_width='initi…"
      ]
     },
     "metadata": {},
     "output_type": "display_data"
    },
    {
     "data": {
      "application/vnd.jupyter.widget-view+json": {
       "model_id": "",
       "version_major": 2,
       "version_minor": 0
      },
      "text/plain": [
       "HBox(children=(IntProgress(value=0, description='j loop', max=64, style=ProgressStyle(description_width='initi…"
      ]
     },
     "metadata": {},
     "output_type": "display_data"
    },
    {
     "data": {
      "application/vnd.jupyter.widget-view+json": {
       "model_id": "",
       "version_major": 2,
       "version_minor": 0
      },
      "text/plain": [
       "HBox(children=(IntProgress(value=0, description='j loop', max=64, style=ProgressStyle(description_width='initi…"
      ]
     },
     "metadata": {},
     "output_type": "display_data"
    },
    {
     "data": {
      "application/vnd.jupyter.widget-view+json": {
       "model_id": "",
       "version_major": 2,
       "version_minor": 0
      },
      "text/plain": [
       "HBox(children=(IntProgress(value=0, description='j loop', max=64, style=ProgressStyle(description_width='initi…"
      ]
     },
     "metadata": {},
     "output_type": "display_data"
    },
    {
     "data": {
      "application/vnd.jupyter.widget-view+json": {
       "model_id": "",
       "version_major": 2,
       "version_minor": 0
      },
      "text/plain": [
       "HBox(children=(IntProgress(value=0, description='j loop', max=64, style=ProgressStyle(description_width='initi…"
      ]
     },
     "metadata": {},
     "output_type": "display_data"
    },
    {
     "data": {
      "application/vnd.jupyter.widget-view+json": {
       "model_id": "",
       "version_major": 2,
       "version_minor": 0
      },
      "text/plain": [
       "HBox(children=(IntProgress(value=0, description='j loop', max=64, style=ProgressStyle(description_width='initi…"
      ]
     },
     "metadata": {},
     "output_type": "display_data"
    },
    {
     "data": {
      "application/vnd.jupyter.widget-view+json": {
       "model_id": "",
       "version_major": 2,
       "version_minor": 0
      },
      "text/plain": [
       "HBox(children=(IntProgress(value=0, description='j loop', max=64, style=ProgressStyle(description_width='initi…"
      ]
     },
     "metadata": {},
     "output_type": "display_data"
    },
    {
     "data": {
      "application/vnd.jupyter.widget-view+json": {
       "model_id": "",
       "version_major": 2,
       "version_minor": 0
      },
      "text/plain": [
       "HBox(children=(IntProgress(value=0, description='j loop', max=64, style=ProgressStyle(description_width='initi…"
      ]
     },
     "metadata": {},
     "output_type": "display_data"
    },
    {
     "data": {
      "application/vnd.jupyter.widget-view+json": {
       "model_id": "",
       "version_major": 2,
       "version_minor": 0
      },
      "text/plain": [
       "HBox(children=(IntProgress(value=0, description='j loop', max=64, style=ProgressStyle(description_width='initi…"
      ]
     },
     "metadata": {},
     "output_type": "display_data"
    },
    {
     "data": {
      "application/vnd.jupyter.widget-view+json": {
       "model_id": "",
       "version_major": 2,
       "version_minor": 0
      },
      "text/plain": [
       "HBox(children=(IntProgress(value=0, description='j loop', max=64, style=ProgressStyle(description_width='initi…"
      ]
     },
     "metadata": {},
     "output_type": "display_data"
    },
    {
     "data": {
      "application/vnd.jupyter.widget-view+json": {
       "model_id": "",
       "version_major": 2,
       "version_minor": 0
      },
      "text/plain": [
       "HBox(children=(IntProgress(value=0, description='j loop', max=64, style=ProgressStyle(description_width='initi…"
      ]
     },
     "metadata": {},
     "output_type": "display_data"
    },
    {
     "data": {
      "application/vnd.jupyter.widget-view+json": {
       "model_id": "",
       "version_major": 2,
       "version_minor": 0
      },
      "text/plain": [
       "HBox(children=(IntProgress(value=0, description='j loop', max=64, style=ProgressStyle(description_width='initi…"
      ]
     },
     "metadata": {},
     "output_type": "display_data"
    },
    {
     "data": {
      "application/vnd.jupyter.widget-view+json": {
       "model_id": "",
       "version_major": 2,
       "version_minor": 0
      },
      "text/plain": [
       "HBox(children=(IntProgress(value=0, description='j loop', max=64, style=ProgressStyle(description_width='initi…"
      ]
     },
     "metadata": {},
     "output_type": "display_data"
    },
    {
     "data": {
      "application/vnd.jupyter.widget-view+json": {
       "model_id": "",
       "version_major": 2,
       "version_minor": 0
      },
      "text/plain": [
       "HBox(children=(IntProgress(value=0, description='j loop', max=64, style=ProgressStyle(description_width='initi…"
      ]
     },
     "metadata": {},
     "output_type": "display_data"
    },
    {
     "data": {
      "application/vnd.jupyter.widget-view+json": {
       "model_id": "",
       "version_major": 2,
       "version_minor": 0
      },
      "text/plain": [
       "HBox(children=(IntProgress(value=0, description='j loop', max=64, style=ProgressStyle(description_width='initi…"
      ]
     },
     "metadata": {},
     "output_type": "display_data"
    },
    {
     "data": {
      "application/vnd.jupyter.widget-view+json": {
       "model_id": "",
       "version_major": 2,
       "version_minor": 0
      },
      "text/plain": [
       "HBox(children=(IntProgress(value=0, description='j loop', max=64, style=ProgressStyle(description_width='initi…"
      ]
     },
     "metadata": {},
     "output_type": "display_data"
    },
    {
     "data": {
      "application/vnd.jupyter.widget-view+json": {
       "model_id": "",
       "version_major": 2,
       "version_minor": 0
      },
      "text/plain": [
       "HBox(children=(IntProgress(value=0, description='j loop', max=64, style=ProgressStyle(description_width='initi…"
      ]
     },
     "metadata": {},
     "output_type": "display_data"
    },
    {
     "data": {
      "application/vnd.jupyter.widget-view+json": {
       "model_id": "",
       "version_major": 2,
       "version_minor": 0
      },
      "text/plain": [
       "HBox(children=(IntProgress(value=0, description='j loop', max=64, style=ProgressStyle(description_width='initi…"
      ]
     },
     "metadata": {},
     "output_type": "display_data"
    },
    {
     "data": {
      "application/vnd.jupyter.widget-view+json": {
       "model_id": "",
       "version_major": 2,
       "version_minor": 0
      },
      "text/plain": [
       "HBox(children=(IntProgress(value=0, description='j loop', max=64, style=ProgressStyle(description_width='initi…"
      ]
     },
     "metadata": {},
     "output_type": "display_data"
    },
    {
     "data": {
      "application/vnd.jupyter.widget-view+json": {
       "model_id": "",
       "version_major": 2,
       "version_minor": 0
      },
      "text/plain": [
       "HBox(children=(IntProgress(value=0, description='j loop', max=64, style=ProgressStyle(description_width='initi…"
      ]
     },
     "metadata": {},
     "output_type": "display_data"
    },
    {
     "data": {
      "application/vnd.jupyter.widget-view+json": {
       "model_id": "",
       "version_major": 2,
       "version_minor": 0
      },
      "text/plain": [
       "HBox(children=(IntProgress(value=0, description='j loop', max=64, style=ProgressStyle(description_width='initi…"
      ]
     },
     "metadata": {},
     "output_type": "display_data"
    },
    {
     "data": {
      "application/vnd.jupyter.widget-view+json": {
       "model_id": "",
       "version_major": 2,
       "version_minor": 0
      },
      "text/plain": [
       "HBox(children=(IntProgress(value=0, description='j loop', max=64, style=ProgressStyle(description_width='initi…"
      ]
     },
     "metadata": {},
     "output_type": "display_data"
    },
    {
     "data": {
      "application/vnd.jupyter.widget-view+json": {
       "model_id": "",
       "version_major": 2,
       "version_minor": 0
      },
      "text/plain": [
       "HBox(children=(IntProgress(value=0, description='j loop', max=64, style=ProgressStyle(description_width='initi…"
      ]
     },
     "metadata": {},
     "output_type": "display_data"
    },
    {
     "data": {
      "application/vnd.jupyter.widget-view+json": {
       "model_id": "",
       "version_major": 2,
       "version_minor": 0
      },
      "text/plain": [
       "HBox(children=(IntProgress(value=0, description='j loop', max=64, style=ProgressStyle(description_width='initi…"
      ]
     },
     "metadata": {},
     "output_type": "display_data"
    },
    {
     "data": {
      "application/vnd.jupyter.widget-view+json": {
       "model_id": "",
       "version_major": 2,
       "version_minor": 0
      },
      "text/plain": [
       "HBox(children=(IntProgress(value=0, description='j loop', max=64, style=ProgressStyle(description_width='initi…"
      ]
     },
     "metadata": {},
     "output_type": "display_data"
    },
    {
     "name": "stdout",
     "output_type": "stream",
     "text": [
      "\n"
     ]
    }
   ],
   "source": [
    "solver = pynoisy.forward.HGRFSolver.from_netcdf('solver.nc')\n",
    "measurements = xr.load_dataarray('meas.nc')\n",
    "adjoint_fn = lambda source: solver.run(source=source, n_jobs=n_jobs)\n",
    "forward_fn = lambda: solver.run(num_frames=measurements.sizes['t'], n_jobs=n_jobs)\n",
    "gradient_fn = None\n",
    "get_state_fn = pynoisy.inverse.spatial_angle_get_state(solver)\n",
    "set_state_fn = pynoisy.inverse.spatial_angle_set_state(solver)\n",
    "forward_op = ForwardOperator(\n",
    "    forward_fn=forward_fn,\n",
    "    adjoint_fn=adjoint_fn,\n",
    "    gradient_fn=gradient_fn,\n",
    "    set_state_fn=set_state_fn,\n",
    "    get_state_fn=get_state_fn,\n",
    ")\n",
    "\n",
    "state = np.zeros(shape=solver.diffusion.spatial_angle.size)\n",
    "synthetic_movie = forward_op(state.ravel())\n",
    "error = synthetic_movie - measurements\n",
    "loss = (error ** 2).mean()\n",
    "adjoint = forward_op.adjoint(error)\n",
    "gradient = compute_gradient(solver, synthetic_movie, adjoint)\n",
    "\n",
    "synthetic_movie.to_netcdf('syn.nc')\n",
    "error.to_netcdf('error.nc')\n",
    "adjoint.to_netcdf('adjoint.nc')\n",
    "gradient.to_netcdf('gradient.nc')"
   ]
  },
  {
   "cell_type": "markdown",
   "metadata": {
    "heading_collapsed": true
   },
   "source": [
    "### Plots"
   ]
  },
  {
   "cell_type": "code",
   "execution_count": null,
   "metadata": {
    "ExecuteTime": {
     "end_time": "2020-08-19T21:27:55.777900Z",
     "start_time": "2020-08-19T21:27:54.969Z"
    },
    "hidden": true
   },
   "outputs": [],
   "source": [
    "%matplotlib notebook\n",
    "measurements.noisy_methods.get_animation(vmin=-1, vmax=1)"
   ]
  },
  {
   "cell_type": "code",
   "execution_count": null,
   "metadata": {
    "ExecuteTime": {
     "end_time": "2020-08-19T21:27:55.778432Z",
     "start_time": "2020-08-19T21:27:54.972Z"
    },
    "hidden": true
   },
   "outputs": [],
   "source": [
    "%matplotlib notebook\n",
    "synthetic_movie.noisy_methods.get_animation(vmin=-1, vmax=1)"
   ]
  },
  {
   "cell_type": "code",
   "execution_count": null,
   "metadata": {
    "ExecuteTime": {
     "end_time": "2020-08-19T21:27:55.778893Z",
     "start_time": "2020-08-19T21:27:54.973Z"
    },
    "hidden": true
   },
   "outputs": [],
   "source": [
    "%matplotlib notebook\n",
    "pynoisy.utils.compare_movie_frames(measurements, synthetic_movie)"
   ]
  },
  {
   "cell_type": "markdown",
   "metadata": {},
   "source": [
    "### Single pixel"
   ]
  },
  {
   "cell_type": "code",
   "execution_count": 4,
   "metadata": {
    "ExecuteTime": {
     "end_time": "2020-08-22T00:08:02.188200Z",
     "start_time": "2020-08-22T00:08:01.518146Z"
    }
   },
   "outputs": [
    {
     "name": "stdout",
     "output_type": "stream",
     "text": [
      "Setting solver seed to: 123\r"
     ]
    }
   ],
   "source": [
    "solver = pynoisy.forward.HGRFSolver.from_netcdf('solver.nc')\n",
    "measurements = xr.load_dataarray('meas.nc')\n",
    "synthetic_movie = xr.load_dataarray('syn.nc')\n",
    "error = xr.load_dataarray('error.nc')\n",
    "adjoint = xr.load_dataarray('adjoint.nc')\n",
    "\n",
    "gradient_new = solver.get_spatial_angle_gradient(synthetic_movie, adjoint)"
   ]
  },
  {
   "cell_type": "code",
   "execution_count": 20,
   "metadata": {
    "ExecuteTime": {
     "end_time": "2020-08-22T00:10:41.146019Z",
     "start_time": "2020-08-22T00:10:40.106984Z"
    }
   },
   "outputs": [
    {
     "data": {
      "application/javascript": [
       "/* Put everything inside the global mpl namespace */\n",
       "window.mpl = {};\n",
       "\n",
       "\n",
       "mpl.get_websocket_type = function() {\n",
       "    if (typeof(WebSocket) !== 'undefined') {\n",
       "        return WebSocket;\n",
       "    } else if (typeof(MozWebSocket) !== 'undefined') {\n",
       "        return MozWebSocket;\n",
       "    } else {\n",
       "        alert('Your browser does not have WebSocket support. ' +\n",
       "              'Please try Chrome, Safari or Firefox ≥ 6. ' +\n",
       "              'Firefox 4 and 5 are also supported but you ' +\n",
       "              'have to enable WebSockets in about:config.');\n",
       "    };\n",
       "}\n",
       "\n",
       "mpl.figure = function(figure_id, websocket, ondownload, parent_element) {\n",
       "    this.id = figure_id;\n",
       "\n",
       "    this.ws = websocket;\n",
       "\n",
       "    this.supports_binary = (this.ws.binaryType != undefined);\n",
       "\n",
       "    if (!this.supports_binary) {\n",
       "        var warnings = document.getElementById(\"mpl-warnings\");\n",
       "        if (warnings) {\n",
       "            warnings.style.display = 'block';\n",
       "            warnings.textContent = (\n",
       "                \"This browser does not support binary websocket messages. \" +\n",
       "                    \"Performance may be slow.\");\n",
       "        }\n",
       "    }\n",
       "\n",
       "    this.imageObj = new Image();\n",
       "\n",
       "    this.context = undefined;\n",
       "    this.message = undefined;\n",
       "    this.canvas = undefined;\n",
       "    this.rubberband_canvas = undefined;\n",
       "    this.rubberband_context = undefined;\n",
       "    this.format_dropdown = undefined;\n",
       "\n",
       "    this.image_mode = 'full';\n",
       "\n",
       "    this.root = $('<div/>');\n",
       "    this._root_extra_style(this.root)\n",
       "    this.root.attr('style', 'display: inline-block');\n",
       "\n",
       "    $(parent_element).append(this.root);\n",
       "\n",
       "    this._init_header(this);\n",
       "    this._init_canvas(this);\n",
       "    this._init_toolbar(this);\n",
       "\n",
       "    var fig = this;\n",
       "\n",
       "    this.waiting = false;\n",
       "\n",
       "    this.ws.onopen =  function () {\n",
       "            fig.send_message(\"supports_binary\", {value: fig.supports_binary});\n",
       "            fig.send_message(\"send_image_mode\", {});\n",
       "            if (mpl.ratio != 1) {\n",
       "                fig.send_message(\"set_dpi_ratio\", {'dpi_ratio': mpl.ratio});\n",
       "            }\n",
       "            fig.send_message(\"refresh\", {});\n",
       "        }\n",
       "\n",
       "    this.imageObj.onload = function() {\n",
       "            if (fig.image_mode == 'full') {\n",
       "                // Full images could contain transparency (where diff images\n",
       "                // almost always do), so we need to clear the canvas so that\n",
       "                // there is no ghosting.\n",
       "                fig.context.clearRect(0, 0, fig.canvas.width, fig.canvas.height);\n",
       "            }\n",
       "            fig.context.drawImage(fig.imageObj, 0, 0);\n",
       "        };\n",
       "\n",
       "    this.imageObj.onunload = function() {\n",
       "        fig.ws.close();\n",
       "    }\n",
       "\n",
       "    this.ws.onmessage = this._make_on_message_function(this);\n",
       "\n",
       "    this.ondownload = ondownload;\n",
       "}\n",
       "\n",
       "mpl.figure.prototype._init_header = function() {\n",
       "    var titlebar = $(\n",
       "        '<div class=\"ui-dialog-titlebar ui-widget-header ui-corner-all ' +\n",
       "        'ui-helper-clearfix\"/>');\n",
       "    var titletext = $(\n",
       "        '<div class=\"ui-dialog-title\" style=\"width: 100%; ' +\n",
       "        'text-align: center; padding: 3px;\"/>');\n",
       "    titlebar.append(titletext)\n",
       "    this.root.append(titlebar);\n",
       "    this.header = titletext[0];\n",
       "}\n",
       "\n",
       "\n",
       "\n",
       "mpl.figure.prototype._canvas_extra_style = function(canvas_div) {\n",
       "\n",
       "}\n",
       "\n",
       "\n",
       "mpl.figure.prototype._root_extra_style = function(canvas_div) {\n",
       "\n",
       "}\n",
       "\n",
       "mpl.figure.prototype._init_canvas = function() {\n",
       "    var fig = this;\n",
       "\n",
       "    var canvas_div = $('<div/>');\n",
       "\n",
       "    canvas_div.attr('style', 'position: relative; clear: both; outline: 0');\n",
       "\n",
       "    function canvas_keyboard_event(event) {\n",
       "        return fig.key_event(event, event['data']);\n",
       "    }\n",
       "\n",
       "    canvas_div.keydown('key_press', canvas_keyboard_event);\n",
       "    canvas_div.keyup('key_release', canvas_keyboard_event);\n",
       "    this.canvas_div = canvas_div\n",
       "    this._canvas_extra_style(canvas_div)\n",
       "    this.root.append(canvas_div);\n",
       "\n",
       "    var canvas = $('<canvas/>');\n",
       "    canvas.addClass('mpl-canvas');\n",
       "    canvas.attr('style', \"left: 0; top: 0; z-index: 0; outline: 0\")\n",
       "\n",
       "    this.canvas = canvas[0];\n",
       "    this.context = canvas[0].getContext(\"2d\");\n",
       "\n",
       "    var backingStore = this.context.backingStorePixelRatio ||\n",
       "\tthis.context.webkitBackingStorePixelRatio ||\n",
       "\tthis.context.mozBackingStorePixelRatio ||\n",
       "\tthis.context.msBackingStorePixelRatio ||\n",
       "\tthis.context.oBackingStorePixelRatio ||\n",
       "\tthis.context.backingStorePixelRatio || 1;\n",
       "\n",
       "    mpl.ratio = (window.devicePixelRatio || 1) / backingStore;\n",
       "\n",
       "    var rubberband = $('<canvas/>');\n",
       "    rubberband.attr('style', \"position: absolute; left: 0; top: 0; z-index: 1;\")\n",
       "\n",
       "    var pass_mouse_events = true;\n",
       "\n",
       "    canvas_div.resizable({\n",
       "        start: function(event, ui) {\n",
       "            pass_mouse_events = false;\n",
       "        },\n",
       "        resize: function(event, ui) {\n",
       "            fig.request_resize(ui.size.width, ui.size.height);\n",
       "        },\n",
       "        stop: function(event, ui) {\n",
       "            pass_mouse_events = true;\n",
       "            fig.request_resize(ui.size.width, ui.size.height);\n",
       "        },\n",
       "    });\n",
       "\n",
       "    function mouse_event_fn(event) {\n",
       "        if (pass_mouse_events)\n",
       "            return fig.mouse_event(event, event['data']);\n",
       "    }\n",
       "\n",
       "    rubberband.mousedown('button_press', mouse_event_fn);\n",
       "    rubberband.mouseup('button_release', mouse_event_fn);\n",
       "    // Throttle sequential mouse events to 1 every 20ms.\n",
       "    rubberband.mousemove('motion_notify', mouse_event_fn);\n",
       "\n",
       "    rubberband.mouseenter('figure_enter', mouse_event_fn);\n",
       "    rubberband.mouseleave('figure_leave', mouse_event_fn);\n",
       "\n",
       "    canvas_div.on(\"wheel\", function (event) {\n",
       "        event = event.originalEvent;\n",
       "        event['data'] = 'scroll'\n",
       "        if (event.deltaY < 0) {\n",
       "            event.step = 1;\n",
       "        } else {\n",
       "            event.step = -1;\n",
       "        }\n",
       "        mouse_event_fn(event);\n",
       "    });\n",
       "\n",
       "    canvas_div.append(canvas);\n",
       "    canvas_div.append(rubberband);\n",
       "\n",
       "    this.rubberband = rubberband;\n",
       "    this.rubberband_canvas = rubberband[0];\n",
       "    this.rubberband_context = rubberband[0].getContext(\"2d\");\n",
       "    this.rubberband_context.strokeStyle = \"#000000\";\n",
       "\n",
       "    this._resize_canvas = function(width, height) {\n",
       "        // Keep the size of the canvas, canvas container, and rubber band\n",
       "        // canvas in synch.\n",
       "        canvas_div.css('width', width)\n",
       "        canvas_div.css('height', height)\n",
       "\n",
       "        canvas.attr('width', width * mpl.ratio);\n",
       "        canvas.attr('height', height * mpl.ratio);\n",
       "        canvas.attr('style', 'width: ' + width + 'px; height: ' + height + 'px;');\n",
       "\n",
       "        rubberband.attr('width', width);\n",
       "        rubberband.attr('height', height);\n",
       "    }\n",
       "\n",
       "    // Set the figure to an initial 600x600px, this will subsequently be updated\n",
       "    // upon first draw.\n",
       "    this._resize_canvas(600, 600);\n",
       "\n",
       "    // Disable right mouse context menu.\n",
       "    $(this.rubberband_canvas).bind(\"contextmenu\",function(e){\n",
       "        return false;\n",
       "    });\n",
       "\n",
       "    function set_focus () {\n",
       "        canvas.focus();\n",
       "        canvas_div.focus();\n",
       "    }\n",
       "\n",
       "    window.setTimeout(set_focus, 100);\n",
       "}\n",
       "\n",
       "mpl.figure.prototype._init_toolbar = function() {\n",
       "    var fig = this;\n",
       "\n",
       "    var nav_element = $('<div/>');\n",
       "    nav_element.attr('style', 'width: 100%');\n",
       "    this.root.append(nav_element);\n",
       "\n",
       "    // Define a callback function for later on.\n",
       "    function toolbar_event(event) {\n",
       "        return fig.toolbar_button_onclick(event['data']);\n",
       "    }\n",
       "    function toolbar_mouse_event(event) {\n",
       "        return fig.toolbar_button_onmouseover(event['data']);\n",
       "    }\n",
       "\n",
       "    for(var toolbar_ind in mpl.toolbar_items) {\n",
       "        var name = mpl.toolbar_items[toolbar_ind][0];\n",
       "        var tooltip = mpl.toolbar_items[toolbar_ind][1];\n",
       "        var image = mpl.toolbar_items[toolbar_ind][2];\n",
       "        var method_name = mpl.toolbar_items[toolbar_ind][3];\n",
       "\n",
       "        if (!name) {\n",
       "            // put a spacer in here.\n",
       "            continue;\n",
       "        }\n",
       "        var button = $('<button/>');\n",
       "        button.addClass('ui-button ui-widget ui-state-default ui-corner-all ' +\n",
       "                        'ui-button-icon-only');\n",
       "        button.attr('role', 'button');\n",
       "        button.attr('aria-disabled', 'false');\n",
       "        button.click(method_name, toolbar_event);\n",
       "        button.mouseover(tooltip, toolbar_mouse_event);\n",
       "\n",
       "        var icon_img = $('<span/>');\n",
       "        icon_img.addClass('ui-button-icon-primary ui-icon');\n",
       "        icon_img.addClass(image);\n",
       "        icon_img.addClass('ui-corner-all');\n",
       "\n",
       "        var tooltip_span = $('<span/>');\n",
       "        tooltip_span.addClass('ui-button-text');\n",
       "        tooltip_span.html(tooltip);\n",
       "\n",
       "        button.append(icon_img);\n",
       "        button.append(tooltip_span);\n",
       "\n",
       "        nav_element.append(button);\n",
       "    }\n",
       "\n",
       "    var fmt_picker_span = $('<span/>');\n",
       "\n",
       "    var fmt_picker = $('<select/>');\n",
       "    fmt_picker.addClass('mpl-toolbar-option ui-widget ui-widget-content');\n",
       "    fmt_picker_span.append(fmt_picker);\n",
       "    nav_element.append(fmt_picker_span);\n",
       "    this.format_dropdown = fmt_picker[0];\n",
       "\n",
       "    for (var ind in mpl.extensions) {\n",
       "        var fmt = mpl.extensions[ind];\n",
       "        var option = $(\n",
       "            '<option/>', {selected: fmt === mpl.default_extension}).html(fmt);\n",
       "        fmt_picker.append(option);\n",
       "    }\n",
       "\n",
       "    // Add hover states to the ui-buttons\n",
       "    $( \".ui-button\" ).hover(\n",
       "        function() { $(this).addClass(\"ui-state-hover\");},\n",
       "        function() { $(this).removeClass(\"ui-state-hover\");}\n",
       "    );\n",
       "\n",
       "    var status_bar = $('<span class=\"mpl-message\"/>');\n",
       "    nav_element.append(status_bar);\n",
       "    this.message = status_bar[0];\n",
       "}\n",
       "\n",
       "mpl.figure.prototype.request_resize = function(x_pixels, y_pixels) {\n",
       "    // Request matplotlib to resize the figure. Matplotlib will then trigger a resize in the client,\n",
       "    // which will in turn request a refresh of the image.\n",
       "    this.send_message('resize', {'width': x_pixels, 'height': y_pixels});\n",
       "}\n",
       "\n",
       "mpl.figure.prototype.send_message = function(type, properties) {\n",
       "    properties['type'] = type;\n",
       "    properties['figure_id'] = this.id;\n",
       "    this.ws.send(JSON.stringify(properties));\n",
       "}\n",
       "\n",
       "mpl.figure.prototype.send_draw_message = function() {\n",
       "    if (!this.waiting) {\n",
       "        this.waiting = true;\n",
       "        this.ws.send(JSON.stringify({type: \"draw\", figure_id: this.id}));\n",
       "    }\n",
       "}\n",
       "\n",
       "\n",
       "mpl.figure.prototype.handle_save = function(fig, msg) {\n",
       "    var format_dropdown = fig.format_dropdown;\n",
       "    var format = format_dropdown.options[format_dropdown.selectedIndex].value;\n",
       "    fig.ondownload(fig, format);\n",
       "}\n",
       "\n",
       "\n",
       "mpl.figure.prototype.handle_resize = function(fig, msg) {\n",
       "    var size = msg['size'];\n",
       "    if (size[0] != fig.canvas.width || size[1] != fig.canvas.height) {\n",
       "        fig._resize_canvas(size[0], size[1]);\n",
       "        fig.send_message(\"refresh\", {});\n",
       "    };\n",
       "}\n",
       "\n",
       "mpl.figure.prototype.handle_rubberband = function(fig, msg) {\n",
       "    var x0 = msg['x0'] / mpl.ratio;\n",
       "    var y0 = (fig.canvas.height - msg['y0']) / mpl.ratio;\n",
       "    var x1 = msg['x1'] / mpl.ratio;\n",
       "    var y1 = (fig.canvas.height - msg['y1']) / mpl.ratio;\n",
       "    x0 = Math.floor(x0) + 0.5;\n",
       "    y0 = Math.floor(y0) + 0.5;\n",
       "    x1 = Math.floor(x1) + 0.5;\n",
       "    y1 = Math.floor(y1) + 0.5;\n",
       "    var min_x = Math.min(x0, x1);\n",
       "    var min_y = Math.min(y0, y1);\n",
       "    var width = Math.abs(x1 - x0);\n",
       "    var height = Math.abs(y1 - y0);\n",
       "\n",
       "    fig.rubberband_context.clearRect(\n",
       "        0, 0, fig.canvas.width / mpl.ratio, fig.canvas.height / mpl.ratio);\n",
       "\n",
       "    fig.rubberband_context.strokeRect(min_x, min_y, width, height);\n",
       "}\n",
       "\n",
       "mpl.figure.prototype.handle_figure_label = function(fig, msg) {\n",
       "    // Updates the figure title.\n",
       "    fig.header.textContent = msg['label'];\n",
       "}\n",
       "\n",
       "mpl.figure.prototype.handle_cursor = function(fig, msg) {\n",
       "    var cursor = msg['cursor'];\n",
       "    switch(cursor)\n",
       "    {\n",
       "    case 0:\n",
       "        cursor = 'pointer';\n",
       "        break;\n",
       "    case 1:\n",
       "        cursor = 'default';\n",
       "        break;\n",
       "    case 2:\n",
       "        cursor = 'crosshair';\n",
       "        break;\n",
       "    case 3:\n",
       "        cursor = 'move';\n",
       "        break;\n",
       "    }\n",
       "    fig.rubberband_canvas.style.cursor = cursor;\n",
       "}\n",
       "\n",
       "mpl.figure.prototype.handle_message = function(fig, msg) {\n",
       "    fig.message.textContent = msg['message'];\n",
       "}\n",
       "\n",
       "mpl.figure.prototype.handle_draw = function(fig, msg) {\n",
       "    // Request the server to send over a new figure.\n",
       "    fig.send_draw_message();\n",
       "}\n",
       "\n",
       "mpl.figure.prototype.handle_image_mode = function(fig, msg) {\n",
       "    fig.image_mode = msg['mode'];\n",
       "}\n",
       "\n",
       "mpl.figure.prototype.updated_canvas_event = function() {\n",
       "    // Called whenever the canvas gets updated.\n",
       "    this.send_message(\"ack\", {});\n",
       "}\n",
       "\n",
       "// A function to construct a web socket function for onmessage handling.\n",
       "// Called in the figure constructor.\n",
       "mpl.figure.prototype._make_on_message_function = function(fig) {\n",
       "    return function socket_on_message(evt) {\n",
       "        if (evt.data instanceof Blob) {\n",
       "            /* FIXME: We get \"Resource interpreted as Image but\n",
       "             * transferred with MIME type text/plain:\" errors on\n",
       "             * Chrome.  But how to set the MIME type?  It doesn't seem\n",
       "             * to be part of the websocket stream */\n",
       "            evt.data.type = \"image/png\";\n",
       "\n",
       "            /* Free the memory for the previous frames */\n",
       "            if (fig.imageObj.src) {\n",
       "                (window.URL || window.webkitURL).revokeObjectURL(\n",
       "                    fig.imageObj.src);\n",
       "            }\n",
       "\n",
       "            fig.imageObj.src = (window.URL || window.webkitURL).createObjectURL(\n",
       "                evt.data);\n",
       "            fig.updated_canvas_event();\n",
       "            fig.waiting = false;\n",
       "            return;\n",
       "        }\n",
       "        else if (typeof evt.data === 'string' && evt.data.slice(0, 21) == \"data:image/png;base64\") {\n",
       "            fig.imageObj.src = evt.data;\n",
       "            fig.updated_canvas_event();\n",
       "            fig.waiting = false;\n",
       "            return;\n",
       "        }\n",
       "\n",
       "        var msg = JSON.parse(evt.data);\n",
       "        var msg_type = msg['type'];\n",
       "\n",
       "        // Call the  \"handle_{type}\" callback, which takes\n",
       "        // the figure and JSON message as its only arguments.\n",
       "        try {\n",
       "            var callback = fig[\"handle_\" + msg_type];\n",
       "        } catch (e) {\n",
       "            console.log(\"No handler for the '\" + msg_type + \"' message type: \", msg);\n",
       "            return;\n",
       "        }\n",
       "\n",
       "        if (callback) {\n",
       "            try {\n",
       "                // console.log(\"Handling '\" + msg_type + \"' message: \", msg);\n",
       "                callback(fig, msg);\n",
       "            } catch (e) {\n",
       "                console.log(\"Exception inside the 'handler_\" + msg_type + \"' callback:\", e, e.stack, msg);\n",
       "            }\n",
       "        }\n",
       "    };\n",
       "}\n",
       "\n",
       "// from http://stackoverflow.com/questions/1114465/getting-mouse-location-in-canvas\n",
       "mpl.findpos = function(e) {\n",
       "    //this section is from http://www.quirksmode.org/js/events_properties.html\n",
       "    var targ;\n",
       "    if (!e)\n",
       "        e = window.event;\n",
       "    if (e.target)\n",
       "        targ = e.target;\n",
       "    else if (e.srcElement)\n",
       "        targ = e.srcElement;\n",
       "    if (targ.nodeType == 3) // defeat Safari bug\n",
       "        targ = targ.parentNode;\n",
       "\n",
       "    // jQuery normalizes the pageX and pageY\n",
       "    // pageX,Y are the mouse positions relative to the document\n",
       "    // offset() returns the position of the element relative to the document\n",
       "    var x = e.pageX - $(targ).offset().left;\n",
       "    var y = e.pageY - $(targ).offset().top;\n",
       "\n",
       "    return {\"x\": x, \"y\": y};\n",
       "};\n",
       "\n",
       "/*\n",
       " * return a copy of an object with only non-object keys\n",
       " * we need this to avoid circular references\n",
       " * http://stackoverflow.com/a/24161582/3208463\n",
       " */\n",
       "function simpleKeys (original) {\n",
       "  return Object.keys(original).reduce(function (obj, key) {\n",
       "    if (typeof original[key] !== 'object')\n",
       "        obj[key] = original[key]\n",
       "    return obj;\n",
       "  }, {});\n",
       "}\n",
       "\n",
       "mpl.figure.prototype.mouse_event = function(event, name) {\n",
       "    var canvas_pos = mpl.findpos(event)\n",
       "\n",
       "    if (name === 'button_press')\n",
       "    {\n",
       "        this.canvas.focus();\n",
       "        this.canvas_div.focus();\n",
       "    }\n",
       "\n",
       "    var x = canvas_pos.x * mpl.ratio;\n",
       "    var y = canvas_pos.y * mpl.ratio;\n",
       "\n",
       "    this.send_message(name, {x: x, y: y, button: event.button,\n",
       "                             step: event.step,\n",
       "                             guiEvent: simpleKeys(event)});\n",
       "\n",
       "    /* This prevents the web browser from automatically changing to\n",
       "     * the text insertion cursor when the button is pressed.  We want\n",
       "     * to control all of the cursor setting manually through the\n",
       "     * 'cursor' event from matplotlib */\n",
       "    event.preventDefault();\n",
       "    return false;\n",
       "}\n",
       "\n",
       "mpl.figure.prototype._key_event_extra = function(event, name) {\n",
       "    // Handle any extra behaviour associated with a key event\n",
       "}\n",
       "\n",
       "mpl.figure.prototype.key_event = function(event, name) {\n",
       "\n",
       "    // Prevent repeat events\n",
       "    if (name == 'key_press')\n",
       "    {\n",
       "        if (event.which === this._key)\n",
       "            return;\n",
       "        else\n",
       "            this._key = event.which;\n",
       "    }\n",
       "    if (name == 'key_release')\n",
       "        this._key = null;\n",
       "\n",
       "    var value = '';\n",
       "    if (event.ctrlKey && event.which != 17)\n",
       "        value += \"ctrl+\";\n",
       "    if (event.altKey && event.which != 18)\n",
       "        value += \"alt+\";\n",
       "    if (event.shiftKey && event.which != 16)\n",
       "        value += \"shift+\";\n",
       "\n",
       "    value += 'k';\n",
       "    value += event.which.toString();\n",
       "\n",
       "    this._key_event_extra(event, name);\n",
       "\n",
       "    this.send_message(name, {key: value,\n",
       "                             guiEvent: simpleKeys(event)});\n",
       "    return false;\n",
       "}\n",
       "\n",
       "mpl.figure.prototype.toolbar_button_onclick = function(name) {\n",
       "    if (name == 'download') {\n",
       "        this.handle_save(this, null);\n",
       "    } else {\n",
       "        this.send_message(\"toolbar_button\", {name: name});\n",
       "    }\n",
       "};\n",
       "\n",
       "mpl.figure.prototype.toolbar_button_onmouseover = function(tooltip) {\n",
       "    this.message.textContent = tooltip;\n",
       "};\n",
       "mpl.toolbar_items = [[\"Home\", \"Reset original view\", \"fa fa-home icon-home\", \"home\"], [\"Back\", \"Back to previous view\", \"fa fa-arrow-left icon-arrow-left\", \"back\"], [\"Forward\", \"Forward to next view\", \"fa fa-arrow-right icon-arrow-right\", \"forward\"], [\"\", \"\", \"\", \"\"], [\"Pan\", \"Pan axes with left mouse, zoom with right\", \"fa fa-arrows icon-move\", \"pan\"], [\"Zoom\", \"Zoom to rectangle\", \"fa fa-square-o icon-check-empty\", \"zoom\"], [\"\", \"\", \"\", \"\"], [\"Download\", \"Download plot\", \"fa fa-floppy-o icon-save\", \"download\"]];\n",
       "\n",
       "mpl.extensions = [\"eps\", \"jpeg\", \"pdf\", \"png\", \"ps\", \"raw\", \"svg\", \"tif\"];\n",
       "\n",
       "mpl.default_extension = \"png\";var comm_websocket_adapter = function(comm) {\n",
       "    // Create a \"websocket\"-like object which calls the given IPython comm\n",
       "    // object with the appropriate methods. Currently this is a non binary\n",
       "    // socket, so there is still some room for performance tuning.\n",
       "    var ws = {};\n",
       "\n",
       "    ws.close = function() {\n",
       "        comm.close()\n",
       "    };\n",
       "    ws.send = function(m) {\n",
       "        //console.log('sending', m);\n",
       "        comm.send(m);\n",
       "    };\n",
       "    // Register the callback with on_msg.\n",
       "    comm.on_msg(function(msg) {\n",
       "        //console.log('receiving', msg['content']['data'], msg);\n",
       "        // Pass the mpl event to the overridden (by mpl) onmessage function.\n",
       "        ws.onmessage(msg['content']['data'])\n",
       "    });\n",
       "    return ws;\n",
       "}\n",
       "\n",
       "mpl.mpl_figure_comm = function(comm, msg) {\n",
       "    // This is the function which gets called when the mpl process\n",
       "    // starts-up an IPython Comm through the \"matplotlib\" channel.\n",
       "\n",
       "    var id = msg.content.data.id;\n",
       "    // Get hold of the div created by the display call when the Comm\n",
       "    // socket was opened in Python.\n",
       "    var element = $(\"#\" + id);\n",
       "    var ws_proxy = comm_websocket_adapter(comm)\n",
       "\n",
       "    function ondownload(figure, format) {\n",
       "        window.open(figure.imageObj.src);\n",
       "    }\n",
       "\n",
       "    var fig = new mpl.figure(id, ws_proxy,\n",
       "                           ondownload,\n",
       "                           element.get(0));\n",
       "\n",
       "    // Call onopen now - mpl needs it, as it is assuming we've passed it a real\n",
       "    // web socket which is closed, not our websocket->open comm proxy.\n",
       "    ws_proxy.onopen();\n",
       "\n",
       "    fig.parent_element = element.get(0);\n",
       "    fig.cell_info = mpl.find_output_cell(\"<div id='\" + id + \"'></div>\");\n",
       "    if (!fig.cell_info) {\n",
       "        console.error(\"Failed to find cell for figure\", id, fig);\n",
       "        return;\n",
       "    }\n",
       "\n",
       "    var output_index = fig.cell_info[2]\n",
       "    var cell = fig.cell_info[0];\n",
       "\n",
       "};\n",
       "\n",
       "mpl.figure.prototype.handle_close = function(fig, msg) {\n",
       "    var width = fig.canvas.width/mpl.ratio\n",
       "    fig.root.unbind('remove')\n",
       "\n",
       "    // Update the output cell to use the data from the current canvas.\n",
       "    fig.push_to_output();\n",
       "    var dataURL = fig.canvas.toDataURL();\n",
       "    // Re-enable the keyboard manager in IPython - without this line, in FF,\n",
       "    // the notebook keyboard shortcuts fail.\n",
       "    IPython.keyboard_manager.enable()\n",
       "    $(fig.parent_element).html('<img src=\"' + dataURL + '\" width=\"' + width + '\">');\n",
       "    fig.close_ws(fig, msg);\n",
       "}\n",
       "\n",
       "mpl.figure.prototype.close_ws = function(fig, msg){\n",
       "    fig.send_message('closing', msg);\n",
       "    // fig.ws.close()\n",
       "}\n",
       "\n",
       "mpl.figure.prototype.push_to_output = function(remove_interactive) {\n",
       "    // Turn the data on the canvas into data in the output cell.\n",
       "    var width = this.canvas.width/mpl.ratio\n",
       "    var dataURL = this.canvas.toDataURL();\n",
       "    this.cell_info[1]['text/html'] = '<img src=\"' + dataURL + '\" width=\"' + width + '\">';\n",
       "}\n",
       "\n",
       "mpl.figure.prototype.updated_canvas_event = function() {\n",
       "    // Tell IPython that the notebook contents must change.\n",
       "    IPython.notebook.set_dirty(true);\n",
       "    this.send_message(\"ack\", {});\n",
       "    var fig = this;\n",
       "    // Wait a second, then push the new image to the DOM so\n",
       "    // that it is saved nicely (might be nice to debounce this).\n",
       "    setTimeout(function () { fig.push_to_output() }, 1000);\n",
       "}\n",
       "\n",
       "mpl.figure.prototype._init_toolbar = function() {\n",
       "    var fig = this;\n",
       "\n",
       "    var nav_element = $('<div/>');\n",
       "    nav_element.attr('style', 'width: 100%');\n",
       "    this.root.append(nav_element);\n",
       "\n",
       "    // Define a callback function for later on.\n",
       "    function toolbar_event(event) {\n",
       "        return fig.toolbar_button_onclick(event['data']);\n",
       "    }\n",
       "    function toolbar_mouse_event(event) {\n",
       "        return fig.toolbar_button_onmouseover(event['data']);\n",
       "    }\n",
       "\n",
       "    for(var toolbar_ind in mpl.toolbar_items){\n",
       "        var name = mpl.toolbar_items[toolbar_ind][0];\n",
       "        var tooltip = mpl.toolbar_items[toolbar_ind][1];\n",
       "        var image = mpl.toolbar_items[toolbar_ind][2];\n",
       "        var method_name = mpl.toolbar_items[toolbar_ind][3];\n",
       "\n",
       "        if (!name) { continue; };\n",
       "\n",
       "        var button = $('<button class=\"btn btn-default\" href=\"#\" title=\"' + name + '\"><i class=\"fa ' + image + ' fa-lg\"></i></button>');\n",
       "        button.click(method_name, toolbar_event);\n",
       "        button.mouseover(tooltip, toolbar_mouse_event);\n",
       "        nav_element.append(button);\n",
       "    }\n",
       "\n",
       "    // Add the status bar.\n",
       "    var status_bar = $('<span class=\"mpl-message\" style=\"text-align:right; float: right;\"/>');\n",
       "    nav_element.append(status_bar);\n",
       "    this.message = status_bar[0];\n",
       "\n",
       "    // Add the close button to the window.\n",
       "    var buttongrp = $('<div class=\"btn-group inline pull-right\"></div>');\n",
       "    var button = $('<button class=\"btn btn-mini btn-primary\" href=\"#\" title=\"Stop Interaction\"><i class=\"fa fa-power-off icon-remove icon-large\"></i></button>');\n",
       "    button.click(function (evt) { fig.handle_close(fig, {}); } );\n",
       "    button.mouseover('Stop Interaction', toolbar_mouse_event);\n",
       "    buttongrp.append(button);\n",
       "    var titlebar = this.root.find($('.ui-dialog-titlebar'));\n",
       "    titlebar.prepend(buttongrp);\n",
       "}\n",
       "\n",
       "mpl.figure.prototype._root_extra_style = function(el){\n",
       "    var fig = this\n",
       "    el.on(\"remove\", function(){\n",
       "\tfig.close_ws(fig, {});\n",
       "    });\n",
       "}\n",
       "\n",
       "mpl.figure.prototype._canvas_extra_style = function(el){\n",
       "    // this is important to make the div 'focusable\n",
       "    el.attr('tabindex', 0)\n",
       "    // reach out to IPython and tell the keyboard manager to turn it's self\n",
       "    // off when our div gets focus\n",
       "\n",
       "    // location in version 3\n",
       "    if (IPython.notebook.keyboard_manager) {\n",
       "        IPython.notebook.keyboard_manager.register_events(el);\n",
       "    }\n",
       "    else {\n",
       "        // location in version 2\n",
       "        IPython.keyboard_manager.register_events(el);\n",
       "    }\n",
       "\n",
       "}\n",
       "\n",
       "mpl.figure.prototype._key_event_extra = function(event, name) {\n",
       "    var manager = IPython.notebook.keyboard_manager;\n",
       "    if (!manager)\n",
       "        manager = IPython.keyboard_manager;\n",
       "\n",
       "    // Check for shift+enter\n",
       "    if (event.shiftKey && event.which == 13) {\n",
       "        this.canvas_div.blur();\n",
       "        event.shiftKey = false;\n",
       "        // Send a \"J\" for go to next cell\n",
       "        event.which = 74;\n",
       "        event.keyCode = 74;\n",
       "        manager.command_mode();\n",
       "        manager.handle_keydown(event);\n",
       "    }\n",
       "}\n",
       "\n",
       "mpl.figure.prototype.handle_save = function(fig, msg) {\n",
       "    fig.ondownload(fig, null);\n",
       "}\n",
       "\n",
       "\n",
       "mpl.find_output_cell = function(html_output) {\n",
       "    // Return the cell and output element which can be found *uniquely* in the notebook.\n",
       "    // Note - this is a bit hacky, but it is done because the \"notebook_saving.Notebook\"\n",
       "    // IPython event is triggered only after the cells have been serialised, which for\n",
       "    // our purposes (turning an active figure into a static one), is too late.\n",
       "    var cells = IPython.notebook.get_cells();\n",
       "    var ncells = cells.length;\n",
       "    for (var i=0; i<ncells; i++) {\n",
       "        var cell = cells[i];\n",
       "        if (cell.cell_type === 'code'){\n",
       "            for (var j=0; j<cell.output_area.outputs.length; j++) {\n",
       "                var data = cell.output_area.outputs[j];\n",
       "                if (data.data) {\n",
       "                    // IPython >= 3 moved mimebundle to data attribute of output\n",
       "                    data = data.data;\n",
       "                }\n",
       "                if (data['text/html'] == html_output) {\n",
       "                    return [cell, data, j];\n",
       "                }\n",
       "            }\n",
       "        }\n",
       "    }\n",
       "}\n",
       "\n",
       "// Register the function which deals with the matplotlib target/channel.\n",
       "// The kernel may be null if the page has been refreshed.\n",
       "if (IPython.notebook.kernel != null) {\n",
       "    IPython.notebook.kernel.comm_manager.register_target('matplotlib', mpl.mpl_figure_comm);\n",
       "}\n"
      ],
      "text/plain": [
       "<IPython.core.display.Javascript object>"
      ]
     },
     "metadata": {},
     "output_type": "display_data"
    },
    {
     "data": {
      "text/html": [
       "<img src=\"data:image/png;base64,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\" width=\"640\">"
      ],
      "text/plain": [
       "<IPython.core.display.HTML object>"
      ]
     },
     "metadata": {},
     "output_type": "display_data"
    },
    {
     "data": {
      "text/plain": [
       "<matplotlib.legend.Legend at 0x7f57a0289c10>"
      ]
     },
     "execution_count": 20,
     "metadata": {},
     "output_type": "execute_result"
    }
   ],
   "source": [
    "i = np.random.randint(0,65)\n",
    "j = np.random.randint(0,65)\n",
    "gradient = compute_gradient_ij(i, j, solver, synthetic_movie, adjoint, dx=1e-8)\n",
    "\n",
    "%matplotlib notebook\n",
    "gradient.sum(['x','y']).plot(label='Original(slow)')\n",
    "gradient_new.isel(x=j, y=i).plot(label='New (fast)') \n",
    "plt.legend()"
   ]
  },
  {
   "cell_type": "code",
   "execution_count": 23,
   "metadata": {
    "ExecuteTime": {
     "end_time": "2020-08-22T00:12:07.177330Z",
     "start_time": "2020-08-22T00:12:06.153546Z"
    }
   },
   "outputs": [
    {
     "name": "stdout",
     "output_type": "stream",
     "text": [
      "0.7235869112635991 [ 0.13671693 -0.03960443 -0.05094046 -0.01324446 -0.02842887  0.04259934\n",
      " -0.04350785  0.002558   -0.00535609 -0.28568196 -0.25690459  0.00763617\n",
      "  0.0307013   0.32653703 -0.308949    0.01033099 -0.47610797 -0.44337697\n",
      " -0.515648   -0.19880171 -0.0376707   0.4941529  -0.05651242 -0.27418618\n",
      " -0.27185767  0.03754332  0.30057009  0.40587766 -0.17072907 -0.19420202\n",
      "  0.00100389  0.43099695 -0.27370076 -0.34555168 -0.43273784  0.03742603\n",
      " -0.27155059 -0.1911177  -0.27037729 -0.01939255 -0.47103962 -0.19885615\n",
      "  0.13903282  0.09594385  0.71391261 -0.23404355 -0.47667854 -0.3905892\n",
      " -0.46771812 -0.11999331  0.35643403 -0.03060316 -0.1558652   0.19040003\n",
      " -0.0770615   0.12637047  0.16864032 -0.09500442 -0.11290056  0.0569378\n",
      "  0.20045563 -0.13137027 -0.03940771 -0.03268328]\n"
     ]
    }
   ],
   "source": [
    "gradient = compute_gradient1(i, j, solver, synthetic_movie, adjoint, dx=1e-8)\n",
    "print(gradient.isel(x=i, y=j).data, gradient_new.isel(x=i, y=j).data)"
   ]
  },
  {
   "cell_type": "code",
   "execution_count": 22,
   "metadata": {
    "ExecuteTime": {
     "end_time": "2020-08-22T00:11:15.751490Z",
     "start_time": "2020-08-22T00:11:15.737054Z"
    }
   },
   "outputs": [
    {
     "data": {
      "text/html": [
       "<div><svg style=\"position: absolute; width: 0; height: 0; overflow: hidden\">\n",
       "<defs>\n",
       "<symbol id=\"icon-database\" viewBox=\"0 0 32 32\">\n",
       "<title>Show/Hide data repr</title>\n",
       "<path d=\"M16 0c-8.837 0-16 2.239-16 5v4c0 2.761 7.163 5 16 5s16-2.239 16-5v-4c0-2.761-7.163-5-16-5z\"></path>\n",
       "<path d=\"M16 17c-8.837 0-16-2.239-16-5v6c0 2.761 7.163 5 16 5s16-2.239 16-5v-6c0 2.761-7.163 5-16 5z\"></path>\n",
       "<path d=\"M16 26c-8.837 0-16-2.239-16-5v6c0 2.761 7.163 5 16 5s16-2.239 16-5v-6c0 2.761-7.163 5-16 5z\"></path>\n",
       "</symbol>\n",
       "<symbol id=\"icon-file-text2\" viewBox=\"0 0 32 32\">\n",
       "<title>Show/Hide attributes</title>\n",
       "<path d=\"M28.681 7.159c-0.694-0.947-1.662-2.053-2.724-3.116s-2.169-2.030-3.116-2.724c-1.612-1.182-2.393-1.319-2.841-1.319h-15.5c-1.378 0-2.5 1.121-2.5 2.5v27c0 1.378 1.122 2.5 2.5 2.5h23c1.378 0 2.5-1.122 2.5-2.5v-19.5c0-0.448-0.137-1.23-1.319-2.841zM24.543 5.457c0.959 0.959 1.712 1.825 2.268 2.543h-4.811v-4.811c0.718 0.556 1.584 1.309 2.543 2.268zM28 29.5c0 0.271-0.229 0.5-0.5 0.5h-23c-0.271 0-0.5-0.229-0.5-0.5v-27c0-0.271 0.229-0.5 0.5-0.5 0 0 15.499-0 15.5 0v7c0 0.552 0.448 1 1 1h7v19.5z\"></path>\n",
       "<path d=\"M23 26h-14c-0.552 0-1-0.448-1-1s0.448-1 1-1h14c0.552 0 1 0.448 1 1s-0.448 1-1 1z\"></path>\n",
       "<path d=\"M23 22h-14c-0.552 0-1-0.448-1-1s0.448-1 1-1h14c0.552 0 1 0.448 1 1s-0.448 1-1 1z\"></path>\n",
       "<path d=\"M23 18h-14c-0.552 0-1-0.448-1-1s0.448-1 1-1h14c0.552 0 1 0.448 1 1s-0.448 1-1 1z\"></path>\n",
       "</symbol>\n",
       "</defs>\n",
       "</svg>\n",
       "<style>/* CSS stylesheet for displaying xarray objects in jupyterlab.\n",
       " *\n",
       " */\n",
       "\n",
       ":root {\n",
       "  --xr-font-color0: var(--jp-content-font-color0, rgba(0, 0, 0, 1));\n",
       "  --xr-font-color2: var(--jp-content-font-color2, rgba(0, 0, 0, 0.54));\n",
       "  --xr-font-color3: var(--jp-content-font-color3, rgba(0, 0, 0, 0.38));\n",
       "  --xr-border-color: var(--jp-border-color2, #e0e0e0);\n",
       "  --xr-disabled-color: var(--jp-layout-color3, #bdbdbd);\n",
       "  --xr-background-color: var(--jp-layout-color0, white);\n",
       "  --xr-background-color-row-even: var(--jp-layout-color1, white);\n",
       "  --xr-background-color-row-odd: var(--jp-layout-color2, #eeeeee);\n",
       "}\n",
       "\n",
       ".xr-wrap {\n",
       "  min-width: 300px;\n",
       "  max-width: 700px;\n",
       "}\n",
       "\n",
       ".xr-header {\n",
       "  padding-top: 6px;\n",
       "  padding-bottom: 6px;\n",
       "  margin-bottom: 4px;\n",
       "  border-bottom: solid 1px var(--xr-border-color);\n",
       "}\n",
       "\n",
       ".xr-header > div,\n",
       ".xr-header > ul {\n",
       "  display: inline;\n",
       "  margin-top: 0;\n",
       "  margin-bottom: 0;\n",
       "}\n",
       "\n",
       ".xr-obj-type,\n",
       ".xr-array-name {\n",
       "  margin-left: 2px;\n",
       "  margin-right: 10px;\n",
       "}\n",
       "\n",
       ".xr-obj-type {\n",
       "  color: var(--xr-font-color2);\n",
       "}\n",
       "\n",
       ".xr-sections {\n",
       "  padding-left: 0 !important;\n",
       "  display: grid;\n",
       "  grid-template-columns: 150px auto auto 1fr 20px 20px;\n",
       "}\n",
       "\n",
       ".xr-section-item {\n",
       "  display: contents;\n",
       "}\n",
       "\n",
       ".xr-section-item input {\n",
       "  display: none;\n",
       "}\n",
       "\n",
       ".xr-section-item input + label {\n",
       "  color: var(--xr-disabled-color);\n",
       "}\n",
       "\n",
       ".xr-section-item input:enabled + label {\n",
       "  cursor: pointer;\n",
       "  color: var(--xr-font-color2);\n",
       "}\n",
       "\n",
       ".xr-section-item input:enabled + label:hover {\n",
       "  color: var(--xr-font-color0);\n",
       "}\n",
       "\n",
       ".xr-section-summary {\n",
       "  grid-column: 1;\n",
       "  color: var(--xr-font-color2);\n",
       "  font-weight: 500;\n",
       "}\n",
       "\n",
       ".xr-section-summary > span {\n",
       "  display: inline-block;\n",
       "  padding-left: 0.5em;\n",
       "}\n",
       "\n",
       ".xr-section-summary-in:disabled + label {\n",
       "  color: var(--xr-font-color2);\n",
       "}\n",
       "\n",
       ".xr-section-summary-in + label:before {\n",
       "  display: inline-block;\n",
       "  content: '►';\n",
       "  font-size: 11px;\n",
       "  width: 15px;\n",
       "  text-align: center;\n",
       "}\n",
       "\n",
       ".xr-section-summary-in:disabled + label:before {\n",
       "  color: var(--xr-disabled-color);\n",
       "}\n",
       "\n",
       ".xr-section-summary-in:checked + label:before {\n",
       "  content: '▼';\n",
       "}\n",
       "\n",
       ".xr-section-summary-in:checked + label > span {\n",
       "  display: none;\n",
       "}\n",
       "\n",
       ".xr-section-summary,\n",
       ".xr-section-inline-details {\n",
       "  padding-top: 4px;\n",
       "  padding-bottom: 4px;\n",
       "}\n",
       "\n",
       ".xr-section-inline-details {\n",
       "  grid-column: 2 / -1;\n",
       "}\n",
       "\n",
       ".xr-section-details {\n",
       "  display: none;\n",
       "  grid-column: 1 / -1;\n",
       "  margin-bottom: 5px;\n",
       "}\n",
       "\n",
       ".xr-section-summary-in:checked ~ .xr-section-details {\n",
       "  display: contents;\n",
       "}\n",
       "\n",
       ".xr-array-wrap {\n",
       "  grid-column: 1 / -1;\n",
       "  display: grid;\n",
       "  grid-template-columns: 20px auto;\n",
       "}\n",
       "\n",
       ".xr-array-wrap > label {\n",
       "  grid-column: 1;\n",
       "  vertical-align: top;\n",
       "}\n",
       "\n",
       ".xr-preview {\n",
       "  color: var(--xr-font-color3);\n",
       "}\n",
       "\n",
       ".xr-array-preview,\n",
       ".xr-array-data {\n",
       "  padding: 0 5px !important;\n",
       "  grid-column: 2;\n",
       "}\n",
       "\n",
       ".xr-array-data,\n",
       ".xr-array-in:checked ~ .xr-array-preview {\n",
       "  display: none;\n",
       "}\n",
       "\n",
       ".xr-array-in:checked ~ .xr-array-data,\n",
       ".xr-array-preview {\n",
       "  display: inline-block;\n",
       "}\n",
       "\n",
       ".xr-dim-list {\n",
       "  display: inline-block !important;\n",
       "  list-style: none;\n",
       "  padding: 0 !important;\n",
       "  margin: 0;\n",
       "}\n",
       "\n",
       ".xr-dim-list li {\n",
       "  display: inline-block;\n",
       "  padding: 0;\n",
       "  margin: 0;\n",
       "}\n",
       "\n",
       ".xr-dim-list:before {\n",
       "  content: '(';\n",
       "}\n",
       "\n",
       ".xr-dim-list:after {\n",
       "  content: ')';\n",
       "}\n",
       "\n",
       ".xr-dim-list li:not(:last-child):after {\n",
       "  content: ',';\n",
       "  padding-right: 5px;\n",
       "}\n",
       "\n",
       ".xr-has-index {\n",
       "  font-weight: bold;\n",
       "}\n",
       "\n",
       ".xr-var-list,\n",
       ".xr-var-item {\n",
       "  display: contents;\n",
       "}\n",
       "\n",
       ".xr-var-item > div,\n",
       ".xr-var-item label,\n",
       ".xr-var-item > .xr-var-name span {\n",
       "  background-color: var(--xr-background-color-row-even);\n",
       "  margin-bottom: 0;\n",
       "}\n",
       "\n",
       ".xr-var-item > .xr-var-name:hover span {\n",
       "  padding-right: 5px;\n",
       "}\n",
       "\n",
       ".xr-var-list > li:nth-child(odd) > div,\n",
       ".xr-var-list > li:nth-child(odd) > label,\n",
       ".xr-var-list > li:nth-child(odd) > .xr-var-name span {\n",
       "  background-color: var(--xr-background-color-row-odd);\n",
       "}\n",
       "\n",
       ".xr-var-name {\n",
       "  grid-column: 1;\n",
       "}\n",
       "\n",
       ".xr-var-dims {\n",
       "  grid-column: 2;\n",
       "}\n",
       "\n",
       ".xr-var-dtype {\n",
       "  grid-column: 3;\n",
       "  text-align: right;\n",
       "  color: var(--xr-font-color2);\n",
       "}\n",
       "\n",
       ".xr-var-preview {\n",
       "  grid-column: 4;\n",
       "}\n",
       "\n",
       ".xr-var-name,\n",
       ".xr-var-dims,\n",
       ".xr-var-dtype,\n",
       ".xr-preview,\n",
       ".xr-attrs dt {\n",
       "  white-space: nowrap;\n",
       "  overflow: hidden;\n",
       "  text-overflow: ellipsis;\n",
       "  padding-right: 10px;\n",
       "}\n",
       "\n",
       ".xr-var-name:hover,\n",
       ".xr-var-dims:hover,\n",
       ".xr-var-dtype:hover,\n",
       ".xr-attrs dt:hover {\n",
       "  overflow: visible;\n",
       "  width: auto;\n",
       "  z-index: 1;\n",
       "}\n",
       "\n",
       ".xr-var-attrs,\n",
       ".xr-var-data {\n",
       "  display: none;\n",
       "  background-color: var(--xr-background-color) !important;\n",
       "  padding-bottom: 5px !important;\n",
       "}\n",
       "\n",
       ".xr-var-attrs-in:checked ~ .xr-var-attrs,\n",
       ".xr-var-data-in:checked ~ .xr-var-data {\n",
       "  display: block;\n",
       "}\n",
       "\n",
       ".xr-var-data > table {\n",
       "  float: right;\n",
       "}\n",
       "\n",
       ".xr-var-name span,\n",
       ".xr-var-data,\n",
       ".xr-attrs {\n",
       "  padding-left: 25px !important;\n",
       "}\n",
       "\n",
       ".xr-attrs,\n",
       ".xr-var-attrs,\n",
       ".xr-var-data {\n",
       "  grid-column: 1 / -1;\n",
       "}\n",
       "\n",
       "dl.xr-attrs {\n",
       "  padding: 0;\n",
       "  margin: 0;\n",
       "  display: grid;\n",
       "  grid-template-columns: 125px auto;\n",
       "}\n",
       "\n",
       ".xr-attrs dt, dd {\n",
       "  padding: 0;\n",
       "  margin: 0;\n",
       "  float: left;\n",
       "  padding-right: 10px;\n",
       "  width: auto;\n",
       "}\n",
       "\n",
       ".xr-attrs dt {\n",
       "  font-weight: normal;\n",
       "  grid-column: 1;\n",
       "}\n",
       "\n",
       ".xr-attrs dt:hover span {\n",
       "  display: inline-block;\n",
       "  background: var(--xr-background-color);\n",
       "  padding-right: 10px;\n",
       "}\n",
       "\n",
       ".xr-attrs dd {\n",
       "  grid-column: 2;\n",
       "  white-space: pre-wrap;\n",
       "  word-break: break-all;\n",
       "}\n",
       "\n",
       ".xr-icon-database,\n",
       ".xr-icon-file-text2 {\n",
       "  display: inline-block;\n",
       "  vertical-align: middle;\n",
       "  width: 1em;\n",
       "  height: 1.5em !important;\n",
       "  stroke-width: 0;\n",
       "  stroke: currentColor;\n",
       "  fill: currentColor;\n",
       "}\n",
       "</style><div class='xr-wrap'><div class='xr-header'><div class='xr-obj-type'>xarray.DataArray</div><div class='xr-array-name'></div><ul class='xr-dim-list'><li><span class='xr-has-index'>x</span>: 64</li><li><span class='xr-has-index'>y</span>: 64</li></ul></div><ul class='xr-sections'><li class='xr-section-item'><div class='xr-array-wrap'><input id='section-ab86a7aa-de64-44ac-9b95-fb18ef2b7bb5' class='xr-array-in' type='checkbox' ><label for='section-ab86a7aa-de64-44ac-9b95-fb18ef2b7bb5' title='Show/hide data repr'><svg class='icon xr-icon-database'><use xlink:href='#icon-database'></use></svg></label><div class='xr-array-preview xr-preview'><span>0.0 0.0 0.0 0.0 0.0 0.0 0.0 0.0 ... 0.0 0.0 0.0 0.0 0.0 0.0 0.0 0.0</span></div><pre class='xr-array-data'>array([[0., 0., 0., ..., 0., 0., 0.],\n",
       "       [0., 0., 0., ..., 0., 0., 0.],\n",
       "       [0., 0., 0., ..., 0., 0., 0.],\n",
       "       ...,\n",
       "       [0., 0., 0., ..., 0., 0., 0.],\n",
       "       [0., 0., 0., ..., 0., 0., 0.],\n",
       "       [0., 0., 0., ..., 0., 0., 0.]])</pre></div></li><li class='xr-section-item'><input id='section-c2659e5b-d9cc-4fdc-b33a-bfb003aff96c' class='xr-section-summary-in' type='checkbox'  checked><label for='section-c2659e5b-d9cc-4fdc-b33a-bfb003aff96c' class='xr-section-summary' >Coordinates: <span>(4)</span></label><div class='xr-section-inline-details'></div><div class='xr-section-details'><ul class='xr-var-list'><li class='xr-var-item'><div class='xr-var-name'><span class='xr-has-index'>x</span></div><div class='xr-var-dims'>(x)</div><div class='xr-var-dtype'>float64</div><div class='xr-var-preview xr-preview'>-0.5 -0.4844 ... 0.4688 0.4844</div><input id='attrs-4818d80e-57c5-43a6-9312-bb1c1ec062ee' class='xr-var-attrs-in' type='checkbox' disabled><label for='attrs-4818d80e-57c5-43a6-9312-bb1c1ec062ee' title='Show/Hide attributes'><svg class='icon xr-icon-file-text2'><use xlink:href='#icon-file-text2'></use></svg></label><input id='data-85e55a82-25ce-4a50-9c76-5683b23b18e7' class='xr-var-data-in' type='checkbox'><label for='data-85e55a82-25ce-4a50-9c76-5683b23b18e7' title='Show/Hide data repr'><svg class='icon xr-icon-database'><use xlink:href='#icon-database'></use></svg></label><div class='xr-var-attrs'><dl class='xr-attrs'></dl></div><pre class='xr-var-data'>array([-0.5     , -0.484375, -0.46875 , -0.453125, -0.4375  , -0.421875,\n",
       "       -0.40625 , -0.390625, -0.375   , -0.359375, -0.34375 , -0.328125,\n",
       "       -0.3125  , -0.296875, -0.28125 , -0.265625, -0.25    , -0.234375,\n",
       "       -0.21875 , -0.203125, -0.1875  , -0.171875, -0.15625 , -0.140625,\n",
       "       -0.125   , -0.109375, -0.09375 , -0.078125, -0.0625  , -0.046875,\n",
       "       -0.03125 , -0.015625,  0.      ,  0.015625,  0.03125 ,  0.046875,\n",
       "        0.0625  ,  0.078125,  0.09375 ,  0.109375,  0.125   ,  0.140625,\n",
       "        0.15625 ,  0.171875,  0.1875  ,  0.203125,  0.21875 ,  0.234375,\n",
       "        0.25    ,  0.265625,  0.28125 ,  0.296875,  0.3125  ,  0.328125,\n",
       "        0.34375 ,  0.359375,  0.375   ,  0.390625,  0.40625 ,  0.421875,\n",
       "        0.4375  ,  0.453125,  0.46875 ,  0.484375])</pre></li><li class='xr-var-item'><div class='xr-var-name'><span class='xr-has-index'>y</span></div><div class='xr-var-dims'>(y)</div><div class='xr-var-dtype'>float64</div><div class='xr-var-preview xr-preview'>-0.5 -0.4844 ... 0.4688 0.4844</div><input id='attrs-02810591-9886-4a77-ae3d-d40b34bd2c92' class='xr-var-attrs-in' type='checkbox' disabled><label for='attrs-02810591-9886-4a77-ae3d-d40b34bd2c92' title='Show/Hide attributes'><svg class='icon xr-icon-file-text2'><use xlink:href='#icon-file-text2'></use></svg></label><input id='data-e72c8785-3357-4630-b614-c4df2e0ca65d' class='xr-var-data-in' type='checkbox'><label for='data-e72c8785-3357-4630-b614-c4df2e0ca65d' title='Show/Hide data repr'><svg class='icon xr-icon-database'><use xlink:href='#icon-database'></use></svg></label><div class='xr-var-attrs'><dl class='xr-attrs'></dl></div><pre class='xr-var-data'>array([-0.5     , -0.484375, -0.46875 , -0.453125, -0.4375  , -0.421875,\n",
       "       -0.40625 , -0.390625, -0.375   , -0.359375, -0.34375 , -0.328125,\n",
       "       -0.3125  , -0.296875, -0.28125 , -0.265625, -0.25    , -0.234375,\n",
       "       -0.21875 , -0.203125, -0.1875  , -0.171875, -0.15625 , -0.140625,\n",
       "       -0.125   , -0.109375, -0.09375 , -0.078125, -0.0625  , -0.046875,\n",
       "       -0.03125 , -0.015625,  0.      ,  0.015625,  0.03125 ,  0.046875,\n",
       "        0.0625  ,  0.078125,  0.09375 ,  0.109375,  0.125   ,  0.140625,\n",
       "        0.15625 ,  0.171875,  0.1875  ,  0.203125,  0.21875 ,  0.234375,\n",
       "        0.25    ,  0.265625,  0.28125 ,  0.296875,  0.3125  ,  0.328125,\n",
       "        0.34375 ,  0.359375,  0.375   ,  0.390625,  0.40625 ,  0.421875,\n",
       "        0.4375  ,  0.453125,  0.46875 ,  0.484375])</pre></li><li class='xr-var-item'><div class='xr-var-name'><span>r</span></div><div class='xr-var-dims'>(x, y)</div><div class='xr-var-dtype'>float64</div><div class='xr-var-preview xr-preview'>0.7071 0.6961 ... 0.6741 0.685</div><input id='attrs-2626e921-9a40-459c-994c-16e47233ff43' class='xr-var-attrs-in' type='checkbox' disabled><label for='attrs-2626e921-9a40-459c-994c-16e47233ff43' title='Show/Hide attributes'><svg class='icon xr-icon-file-text2'><use xlink:href='#icon-file-text2'></use></svg></label><input id='data-47703719-469e-4b51-80eb-0667d6a9a950' class='xr-var-data-in' type='checkbox'><label for='data-47703719-469e-4b51-80eb-0667d6a9a950' title='Show/Hide data repr'><svg class='icon xr-icon-database'><use xlink:href='#icon-database'></use></svg></label><div class='xr-var-attrs'><dl class='xr-attrs'></dl></div><pre class='xr-var-data'>array([[0.70710678, 0.69614592, 0.68536601, ..., 0.67477572, 0.68536601,\n",
       "        0.69614592],\n",
       "       [0.69614592, 0.68500969, 0.67405171, ..., 0.66328079, 0.67405171,\n",
       "        0.68500969],\n",
       "       [0.68536601, 0.67405171, 0.66291261, ..., 0.65195769, 0.66291261,\n",
       "        0.67405171],\n",
       "       ...,\n",
       "       [0.67477572, 0.66328079, 0.65195769, ..., 0.64081552, 0.65195769,\n",
       "        0.66328079],\n",
       "       [0.68536601, 0.67405171, 0.66291261, ..., 0.65195769, 0.66291261,\n",
       "        0.67405171],\n",
       "       [0.69614592, 0.68500969, 0.67405171, ..., 0.66328079, 0.67405171,\n",
       "        0.68500969]])</pre></li><li class='xr-var-item'><div class='xr-var-name'><span>theta</span></div><div class='xr-var-dims'>(x, y)</div><div class='xr-var-dtype'>float64</div><div class='xr-var-preview xr-preview'>-2.356 -2.372 ... 0.769 0.7854</div><input id='attrs-b72fbe79-12aa-41b8-b9e9-e2acd205195b' class='xr-var-attrs-in' type='checkbox' disabled><label for='attrs-b72fbe79-12aa-41b8-b9e9-e2acd205195b' title='Show/Hide attributes'><svg class='icon xr-icon-file-text2'><use xlink:href='#icon-file-text2'></use></svg></label><input id='data-27bbdb04-b177-4e5a-9fbd-19e8e0b31589' class='xr-var-data-in' type='checkbox'><label for='data-27bbdb04-b177-4e5a-9fbd-19e8e0b31589' title='Show/Hide data repr'><svg class='icon xr-icon-database'><use xlink:href='#icon-database'></use></svg></label><div class='xr-var-attrs'><dl class='xr-attrs'></dl></div><pre class='xr-var-data'>array([[-2.35619449, -2.37206617, -2.38844137, ...,  2.40533522,\n",
       "         2.38844137,  2.37206617],\n",
       "       [-2.34032281, -2.35619449, -2.37258646, ...,  2.38951549,\n",
       "         2.37258646,  2.35619449],\n",
       "       [-2.32394761, -2.33980252, -2.35619449, ...,  2.37314202,\n",
       "         2.35619449,  2.33980252],\n",
       "       ...,\n",
       "       [-0.8345389 , -0.81871916, -0.80234569, ...,  0.78539816,\n",
       "         0.80234569,  0.81871916],\n",
       "       [-0.81764505, -0.80179014, -0.78539816, ...,  0.76845063,\n",
       "         0.78539816,  0.80179014],\n",
       "       [-0.80126985, -0.78539816, -0.76900619, ...,  0.75207717,\n",
       "         0.76900619,  0.78539816]])</pre></li></ul></div></li><li class='xr-section-item'><input id='section-159d4206-a526-4abc-b6ab-4a7bbcc04d5d' class='xr-section-summary-in' type='checkbox'  checked><label for='section-159d4206-a526-4abc-b6ab-4a7bbcc04d5d' class='xr-section-summary' >Attributes: <span>(1)</span></label><div class='xr-section-inline-details'></div><div class='xr-section-details'><dl class='xr-attrs'><dt><span>grad_type :</span></dt><dd>loop</dd></dl></div></li></ul></div></div>"
      ],
      "text/plain": [
       "<xarray.DataArray (x: 64, y: 64)>\n",
       "array([[0., 0., 0., ..., 0., 0., 0.],\n",
       "       [0., 0., 0., ..., 0., 0., 0.],\n",
       "       [0., 0., 0., ..., 0., 0., 0.],\n",
       "       ...,\n",
       "       [0., 0., 0., ..., 0., 0., 0.],\n",
       "       [0., 0., 0., ..., 0., 0., 0.],\n",
       "       [0., 0., 0., ..., 0., 0., 0.]])\n",
       "Coordinates:\n",
       "  * x        (x) float64 -0.5 -0.4844 -0.4688 -0.4531 ... 0.4531 0.4688 0.4844\n",
       "  * y        (y) float64 -0.5 -0.4844 -0.4688 -0.4531 ... 0.4531 0.4688 0.4844\n",
       "    r        (x, y) float64 0.7071 0.6961 0.6854 0.6748 ... 0.6633 0.6741 0.685\n",
       "    theta    (x, y) float64 -2.356 -2.372 -2.388 -2.405 ... 0.7521 0.769 0.7854\n",
       "Attributes:\n",
       "    grad_type:  loop"
      ]
     },
     "execution_count": 22,
     "metadata": {},
     "output_type": "execute_result"
    }
   ],
   "source": []
  },
  {
   "cell_type": "markdown",
   "metadata": {},
   "source": [
    "### Load and analyse"
   ]
  },
  {
   "cell_type": "code",
   "execution_count": 12,
   "metadata": {
    "ExecuteTime": {
     "end_time": "2020-08-20T00:59:45.480192Z",
     "start_time": "2020-08-20T00:59:43.499958Z"
    }
   },
   "outputs": [
    {
     "name": "stdout",
     "output_type": "stream",
     "text": [
      "Setting solver seed to: 123\r"
     ]
    },
    {
     "data": {
      "application/vnd.jupyter.widget-view+json": {
       "model_id": "b8e624b5ac6f45fea4b47f3ee53afd83",
       "version_major": 2,
       "version_minor": 0
      },
      "text/plain": [
       "HBox(children=(IntProgress(value=0, description='i loop', max=64, style=ProgressStyle(description_width='initi…"
      ]
     },
     "metadata": {},
     "output_type": "display_data"
    },
    {
     "data": {
      "application/vnd.jupyter.widget-view+json": {
       "model_id": "",
       "version_major": 2,
       "version_minor": 0
      },
      "text/plain": [
       "HBox(children=(IntProgress(value=0, description='j loop', max=64, style=ProgressStyle(description_width='initi…"
      ]
     },
     "metadata": {},
     "output_type": "display_data"
    },
    {
     "data": {
      "application/vnd.jupyter.widget-view+json": {
       "model_id": "",
       "version_major": 2,
       "version_minor": 0
      },
      "text/plain": [
       "HBox(children=(IntProgress(value=0, description='j loop', max=64, style=ProgressStyle(description_width='initi…"
      ]
     },
     "metadata": {},
     "output_type": "display_data"
    },
    {
     "data": {
      "application/vnd.jupyter.widget-view+json": {
       "model_id": "",
       "version_major": 2,
       "version_minor": 0
      },
      "text/plain": [
       "HBox(children=(IntProgress(value=0, description='j loop', max=64, style=ProgressStyle(description_width='initi…"
      ]
     },
     "metadata": {},
     "output_type": "display_data"
    },
    {
     "data": {
      "application/vnd.jupyter.widget-view+json": {
       "model_id": "",
       "version_major": 2,
       "version_minor": 0
      },
      "text/plain": [
       "HBox(children=(IntProgress(value=0, description='j loop', max=64, style=ProgressStyle(description_width='initi…"
      ]
     },
     "metadata": {},
     "output_type": "display_data"
    },
    {
     "data": {
      "application/vnd.jupyter.widget-view+json": {
       "model_id": "",
       "version_major": 2,
       "version_minor": 0
      },
      "text/plain": [
       "HBox(children=(IntProgress(value=0, description='j loop', max=64, style=ProgressStyle(description_width='initi…"
      ]
     },
     "metadata": {},
     "output_type": "display_data"
    },
    {
     "data": {
      "application/vnd.jupyter.widget-view+json": {
       "model_id": "",
       "version_major": 2,
       "version_minor": 0
      },
      "text/plain": [
       "HBox(children=(IntProgress(value=0, description='j loop', max=64, style=ProgressStyle(description_width='initi…"
      ]
     },
     "metadata": {},
     "output_type": "display_data"
    },
    {
     "data": {
      "application/vnd.jupyter.widget-view+json": {
       "model_id": "",
       "version_major": 2,
       "version_minor": 0
      },
      "text/plain": [
       "HBox(children=(IntProgress(value=0, description='j loop', max=64, style=ProgressStyle(description_width='initi…"
      ]
     },
     "metadata": {},
     "output_type": "display_data"
    },
    {
     "data": {
      "application/vnd.jupyter.widget-view+json": {
       "model_id": "",
       "version_major": 2,
       "version_minor": 0
      },
      "text/plain": [
       "HBox(children=(IntProgress(value=0, description='j loop', max=64, style=ProgressStyle(description_width='initi…"
      ]
     },
     "metadata": {},
     "output_type": "display_data"
    },
    {
     "data": {
      "application/vnd.jupyter.widget-view+json": {
       "model_id": "",
       "version_major": 2,
       "version_minor": 0
      },
      "text/plain": [
       "HBox(children=(IntProgress(value=0, description='j loop', max=64, style=ProgressStyle(description_width='initi…"
      ]
     },
     "metadata": {},
     "output_type": "display_data"
    },
    {
     "data": {
      "application/vnd.jupyter.widget-view+json": {
       "model_id": "",
       "version_major": 2,
       "version_minor": 0
      },
      "text/plain": [
       "HBox(children=(IntProgress(value=0, description='j loop', max=64, style=ProgressStyle(description_width='initi…"
      ]
     },
     "metadata": {},
     "output_type": "display_data"
    },
    {
     "data": {
      "application/vnd.jupyter.widget-view+json": {
       "model_id": "",
       "version_major": 2,
       "version_minor": 0
      },
      "text/plain": [
       "HBox(children=(IntProgress(value=0, description='j loop', max=64, style=ProgressStyle(description_width='initi…"
      ]
     },
     "metadata": {},
     "output_type": "display_data"
    },
    {
     "data": {
      "application/vnd.jupyter.widget-view+json": {
       "model_id": "",
       "version_major": 2,
       "version_minor": 0
      },
      "text/plain": [
       "HBox(children=(IntProgress(value=0, description='j loop', max=64, style=ProgressStyle(description_width='initi…"
      ]
     },
     "metadata": {},
     "output_type": "display_data"
    },
    {
     "data": {
      "application/vnd.jupyter.widget-view+json": {
       "model_id": "",
       "version_major": 2,
       "version_minor": 0
      },
      "text/plain": [
       "HBox(children=(IntProgress(value=0, description='j loop', max=64, style=ProgressStyle(description_width='initi…"
      ]
     },
     "metadata": {},
     "output_type": "display_data"
    },
    {
     "data": {
      "application/vnd.jupyter.widget-view+json": {
       "model_id": "",
       "version_major": 2,
       "version_minor": 0
      },
      "text/plain": [
       "HBox(children=(IntProgress(value=0, description='j loop', max=64, style=ProgressStyle(description_width='initi…"
      ]
     },
     "metadata": {},
     "output_type": "display_data"
    },
    {
     "data": {
      "application/vnd.jupyter.widget-view+json": {
       "model_id": "",
       "version_major": 2,
       "version_minor": 0
      },
      "text/plain": [
       "HBox(children=(IntProgress(value=0, description='j loop', max=64, style=ProgressStyle(description_width='initi…"
      ]
     },
     "metadata": {},
     "output_type": "display_data"
    },
    {
     "data": {
      "application/vnd.jupyter.widget-view+json": {
       "model_id": "",
       "version_major": 2,
       "version_minor": 0
      },
      "text/plain": [
       "HBox(children=(IntProgress(value=0, description='j loop', max=64, style=ProgressStyle(description_width='initi…"
      ]
     },
     "metadata": {},
     "output_type": "display_data"
    },
    {
     "data": {
      "application/vnd.jupyter.widget-view+json": {
       "model_id": "",
       "version_major": 2,
       "version_minor": 0
      },
      "text/plain": [
       "HBox(children=(IntProgress(value=0, description='j loop', max=64, style=ProgressStyle(description_width='initi…"
      ]
     },
     "metadata": {},
     "output_type": "display_data"
    },
    {
     "data": {
      "application/vnd.jupyter.widget-view+json": {
       "model_id": "",
       "version_major": 2,
       "version_minor": 0
      },
      "text/plain": [
       "HBox(children=(IntProgress(value=0, description='j loop', max=64, style=ProgressStyle(description_width='initi…"
      ]
     },
     "metadata": {},
     "output_type": "display_data"
    },
    {
     "data": {
      "application/vnd.jupyter.widget-view+json": {
       "model_id": "",
       "version_major": 2,
       "version_minor": 0
      },
      "text/plain": [
       "HBox(children=(IntProgress(value=0, description='j loop', max=64, style=ProgressStyle(description_width='initi…"
      ]
     },
     "metadata": {},
     "output_type": "display_data"
    },
    {
     "data": {
      "application/vnd.jupyter.widget-view+json": {
       "model_id": "",
       "version_major": 2,
       "version_minor": 0
      },
      "text/plain": [
       "HBox(children=(IntProgress(value=0, description='j loop', max=64, style=ProgressStyle(description_width='initi…"
      ]
     },
     "metadata": {},
     "output_type": "display_data"
    },
    {
     "data": {
      "application/vnd.jupyter.widget-view+json": {
       "model_id": "",
       "version_major": 2,
       "version_minor": 0
      },
      "text/plain": [
       "HBox(children=(IntProgress(value=0, description='j loop', max=64, style=ProgressStyle(description_width='initi…"
      ]
     },
     "metadata": {},
     "output_type": "display_data"
    },
    {
     "data": {
      "application/vnd.jupyter.widget-view+json": {
       "model_id": "",
       "version_major": 2,
       "version_minor": 0
      },
      "text/plain": [
       "HBox(children=(IntProgress(value=0, description='j loop', max=64, style=ProgressStyle(description_width='initi…"
      ]
     },
     "metadata": {},
     "output_type": "display_data"
    },
    {
     "data": {
      "application/vnd.jupyter.widget-view+json": {
       "model_id": "",
       "version_major": 2,
       "version_minor": 0
      },
      "text/plain": [
       "HBox(children=(IntProgress(value=0, description='j loop', max=64, style=ProgressStyle(description_width='initi…"
      ]
     },
     "metadata": {},
     "output_type": "display_data"
    },
    {
     "data": {
      "application/vnd.jupyter.widget-view+json": {
       "model_id": "",
       "version_major": 2,
       "version_minor": 0
      },
      "text/plain": [
       "HBox(children=(IntProgress(value=0, description='j loop', max=64, style=ProgressStyle(description_width='initi…"
      ]
     },
     "metadata": {},
     "output_type": "display_data"
    },
    {
     "data": {
      "application/vnd.jupyter.widget-view+json": {
       "model_id": "",
       "version_major": 2,
       "version_minor": 0
      },
      "text/plain": [
       "HBox(children=(IntProgress(value=0, description='j loop', max=64, style=ProgressStyle(description_width='initi…"
      ]
     },
     "metadata": {},
     "output_type": "display_data"
    },
    {
     "data": {
      "application/vnd.jupyter.widget-view+json": {
       "model_id": "",
       "version_major": 2,
       "version_minor": 0
      },
      "text/plain": [
       "HBox(children=(IntProgress(value=0, description='j loop', max=64, style=ProgressStyle(description_width='initi…"
      ]
     },
     "metadata": {},
     "output_type": "display_data"
    },
    {
     "data": {
      "application/vnd.jupyter.widget-view+json": {
       "model_id": "",
       "version_major": 2,
       "version_minor": 0
      },
      "text/plain": [
       "HBox(children=(IntProgress(value=0, description='j loop', max=64, style=ProgressStyle(description_width='initi…"
      ]
     },
     "metadata": {},
     "output_type": "display_data"
    },
    {
     "data": {
      "application/vnd.jupyter.widget-view+json": {
       "model_id": "",
       "version_major": 2,
       "version_minor": 0
      },
      "text/plain": [
       "HBox(children=(IntProgress(value=0, description='j loop', max=64, style=ProgressStyle(description_width='initi…"
      ]
     },
     "metadata": {},
     "output_type": "display_data"
    },
    {
     "data": {
      "application/vnd.jupyter.widget-view+json": {
       "model_id": "",
       "version_major": 2,
       "version_minor": 0
      },
      "text/plain": [
       "HBox(children=(IntProgress(value=0, description='j loop', max=64, style=ProgressStyle(description_width='initi…"
      ]
     },
     "metadata": {},
     "output_type": "display_data"
    },
    {
     "data": {
      "application/vnd.jupyter.widget-view+json": {
       "model_id": "",
       "version_major": 2,
       "version_minor": 0
      },
      "text/plain": [
       "HBox(children=(IntProgress(value=0, description='j loop', max=64, style=ProgressStyle(description_width='initi…"
      ]
     },
     "metadata": {},
     "output_type": "display_data"
    },
    {
     "data": {
      "application/vnd.jupyter.widget-view+json": {
       "model_id": "",
       "version_major": 2,
       "version_minor": 0
      },
      "text/plain": [
       "HBox(children=(IntProgress(value=0, description='j loop', max=64, style=ProgressStyle(description_width='initi…"
      ]
     },
     "metadata": {},
     "output_type": "display_data"
    },
    {
     "data": {
      "application/vnd.jupyter.widget-view+json": {
       "model_id": "",
       "version_major": 2,
       "version_minor": 0
      },
      "text/plain": [
       "HBox(children=(IntProgress(value=0, description='j loop', max=64, style=ProgressStyle(description_width='initi…"
      ]
     },
     "metadata": {},
     "output_type": "display_data"
    },
    {
     "data": {
      "application/vnd.jupyter.widget-view+json": {
       "model_id": "",
       "version_major": 2,
       "version_minor": 0
      },
      "text/plain": [
       "HBox(children=(IntProgress(value=0, description='j loop', max=64, style=ProgressStyle(description_width='initi…"
      ]
     },
     "metadata": {},
     "output_type": "display_data"
    },
    {
     "data": {
      "application/vnd.jupyter.widget-view+json": {
       "model_id": "",
       "version_major": 2,
       "version_minor": 0
      },
      "text/plain": [
       "HBox(children=(IntProgress(value=0, description='j loop', max=64, style=ProgressStyle(description_width='initi…"
      ]
     },
     "metadata": {},
     "output_type": "display_data"
    },
    {
     "data": {
      "application/vnd.jupyter.widget-view+json": {
       "model_id": "",
       "version_major": 2,
       "version_minor": 0
      },
      "text/plain": [
       "HBox(children=(IntProgress(value=0, description='j loop', max=64, style=ProgressStyle(description_width='initi…"
      ]
     },
     "metadata": {},
     "output_type": "display_data"
    },
    {
     "data": {
      "application/vnd.jupyter.widget-view+json": {
       "model_id": "",
       "version_major": 2,
       "version_minor": 0
      },
      "text/plain": [
       "HBox(children=(IntProgress(value=0, description='j loop', max=64, style=ProgressStyle(description_width='initi…"
      ]
     },
     "metadata": {},
     "output_type": "display_data"
    },
    {
     "data": {
      "application/vnd.jupyter.widget-view+json": {
       "model_id": "",
       "version_major": 2,
       "version_minor": 0
      },
      "text/plain": [
       "HBox(children=(IntProgress(value=0, description='j loop', max=64, style=ProgressStyle(description_width='initi…"
      ]
     },
     "metadata": {},
     "output_type": "display_data"
    },
    {
     "data": {
      "application/vnd.jupyter.widget-view+json": {
       "model_id": "",
       "version_major": 2,
       "version_minor": 0
      },
      "text/plain": [
       "HBox(children=(IntProgress(value=0, description='j loop', max=64, style=ProgressStyle(description_width='initi…"
      ]
     },
     "metadata": {},
     "output_type": "display_data"
    },
    {
     "data": {
      "application/vnd.jupyter.widget-view+json": {
       "model_id": "",
       "version_major": 2,
       "version_minor": 0
      },
      "text/plain": [
       "HBox(children=(IntProgress(value=0, description='j loop', max=64, style=ProgressStyle(description_width='initi…"
      ]
     },
     "metadata": {},
     "output_type": "display_data"
    },
    {
     "data": {
      "application/vnd.jupyter.widget-view+json": {
       "model_id": "",
       "version_major": 2,
       "version_minor": 0
      },
      "text/plain": [
       "HBox(children=(IntProgress(value=0, description='j loop', max=64, style=ProgressStyle(description_width='initi…"
      ]
     },
     "metadata": {},
     "output_type": "display_data"
    },
    {
     "data": {
      "application/vnd.jupyter.widget-view+json": {
       "model_id": "",
       "version_major": 2,
       "version_minor": 0
      },
      "text/plain": [
       "HBox(children=(IntProgress(value=0, description='j loop', max=64, style=ProgressStyle(description_width='initi…"
      ]
     },
     "metadata": {},
     "output_type": "display_data"
    },
    {
     "data": {
      "application/vnd.jupyter.widget-view+json": {
       "model_id": "",
       "version_major": 2,
       "version_minor": 0
      },
      "text/plain": [
       "HBox(children=(IntProgress(value=0, description='j loop', max=64, style=ProgressStyle(description_width='initi…"
      ]
     },
     "metadata": {},
     "output_type": "display_data"
    },
    {
     "data": {
      "application/vnd.jupyter.widget-view+json": {
       "model_id": "",
       "version_major": 2,
       "version_minor": 0
      },
      "text/plain": [
       "HBox(children=(IntProgress(value=0, description='j loop', max=64, style=ProgressStyle(description_width='initi…"
      ]
     },
     "metadata": {},
     "output_type": "display_data"
    },
    {
     "data": {
      "application/vnd.jupyter.widget-view+json": {
       "model_id": "",
       "version_major": 2,
       "version_minor": 0
      },
      "text/plain": [
       "HBox(children=(IntProgress(value=0, description='j loop', max=64, style=ProgressStyle(description_width='initi…"
      ]
     },
     "metadata": {},
     "output_type": "display_data"
    },
    {
     "data": {
      "application/vnd.jupyter.widget-view+json": {
       "model_id": "",
       "version_major": 2,
       "version_minor": 0
      },
      "text/plain": [
       "HBox(children=(IntProgress(value=0, description='j loop', max=64, style=ProgressStyle(description_width='initi…"
      ]
     },
     "metadata": {},
     "output_type": "display_data"
    },
    {
     "data": {
      "application/vnd.jupyter.widget-view+json": {
       "model_id": "",
       "version_major": 2,
       "version_minor": 0
      },
      "text/plain": [
       "HBox(children=(IntProgress(value=0, description='j loop', max=64, style=ProgressStyle(description_width='initi…"
      ]
     },
     "metadata": {},
     "output_type": "display_data"
    },
    {
     "data": {
      "application/vnd.jupyter.widget-view+json": {
       "model_id": "",
       "version_major": 2,
       "version_minor": 0
      },
      "text/plain": [
       "HBox(children=(IntProgress(value=0, description='j loop', max=64, style=ProgressStyle(description_width='initi…"
      ]
     },
     "metadata": {},
     "output_type": "display_data"
    },
    {
     "data": {
      "application/vnd.jupyter.widget-view+json": {
       "model_id": "",
       "version_major": 2,
       "version_minor": 0
      },
      "text/plain": [
       "HBox(children=(IntProgress(value=0, description='j loop', max=64, style=ProgressStyle(description_width='initi…"
      ]
     },
     "metadata": {},
     "output_type": "display_data"
    },
    {
     "data": {
      "application/vnd.jupyter.widget-view+json": {
       "model_id": "",
       "version_major": 2,
       "version_minor": 0
      },
      "text/plain": [
       "HBox(children=(IntProgress(value=0, description='j loop', max=64, style=ProgressStyle(description_width='initi…"
      ]
     },
     "metadata": {},
     "output_type": "display_data"
    },
    {
     "data": {
      "application/vnd.jupyter.widget-view+json": {
       "model_id": "",
       "version_major": 2,
       "version_minor": 0
      },
      "text/plain": [
       "HBox(children=(IntProgress(value=0, description='j loop', max=64, style=ProgressStyle(description_width='initi…"
      ]
     },
     "metadata": {},
     "output_type": "display_data"
    },
    {
     "data": {
      "application/vnd.jupyter.widget-view+json": {
       "model_id": "",
       "version_major": 2,
       "version_minor": 0
      },
      "text/plain": [
       "HBox(children=(IntProgress(value=0, description='j loop', max=64, style=ProgressStyle(description_width='initi…"
      ]
     },
     "metadata": {},
     "output_type": "display_data"
    },
    {
     "data": {
      "application/vnd.jupyter.widget-view+json": {
       "model_id": "",
       "version_major": 2,
       "version_minor": 0
      },
      "text/plain": [
       "HBox(children=(IntProgress(value=0, description='j loop', max=64, style=ProgressStyle(description_width='initi…"
      ]
     },
     "metadata": {},
     "output_type": "display_data"
    },
    {
     "data": {
      "application/vnd.jupyter.widget-view+json": {
       "model_id": "",
       "version_major": 2,
       "version_minor": 0
      },
      "text/plain": [
       "HBox(children=(IntProgress(value=0, description='j loop', max=64, style=ProgressStyle(description_width='initi…"
      ]
     },
     "metadata": {},
     "output_type": "display_data"
    },
    {
     "data": {
      "application/vnd.jupyter.widget-view+json": {
       "model_id": "",
       "version_major": 2,
       "version_minor": 0
      },
      "text/plain": [
       "HBox(children=(IntProgress(value=0, description='j loop', max=64, style=ProgressStyle(description_width='initi…"
      ]
     },
     "metadata": {},
     "output_type": "display_data"
    },
    {
     "data": {
      "application/vnd.jupyter.widget-view+json": {
       "model_id": "",
       "version_major": 2,
       "version_minor": 0
      },
      "text/plain": [
       "HBox(children=(IntProgress(value=0, description='j loop', max=64, style=ProgressStyle(description_width='initi…"
      ]
     },
     "metadata": {},
     "output_type": "display_data"
    },
    {
     "data": {
      "application/vnd.jupyter.widget-view+json": {
       "model_id": "",
       "version_major": 2,
       "version_minor": 0
      },
      "text/plain": [
       "HBox(children=(IntProgress(value=0, description='j loop', max=64, style=ProgressStyle(description_width='initi…"
      ]
     },
     "metadata": {},
     "output_type": "display_data"
    },
    {
     "data": {
      "application/vnd.jupyter.widget-view+json": {
       "model_id": "",
       "version_major": 2,
       "version_minor": 0
      },
      "text/plain": [
       "HBox(children=(IntProgress(value=0, description='j loop', max=64, style=ProgressStyle(description_width='initi…"
      ]
     },
     "metadata": {},
     "output_type": "display_data"
    },
    {
     "data": {
      "application/vnd.jupyter.widget-view+json": {
       "model_id": "",
       "version_major": 2,
       "version_minor": 0
      },
      "text/plain": [
       "HBox(children=(IntProgress(value=0, description='j loop', max=64, style=ProgressStyle(description_width='initi…"
      ]
     },
     "metadata": {},
     "output_type": "display_data"
    },
    {
     "data": {
      "application/vnd.jupyter.widget-view+json": {
       "model_id": "",
       "version_major": 2,
       "version_minor": 0
      },
      "text/plain": [
       "HBox(children=(IntProgress(value=0, description='j loop', max=64, style=ProgressStyle(description_width='initi…"
      ]
     },
     "metadata": {},
     "output_type": "display_data"
    },
    {
     "data": {
      "application/vnd.jupyter.widget-view+json": {
       "model_id": "",
       "version_major": 2,
       "version_minor": 0
      },
      "text/plain": [
       "HBox(children=(IntProgress(value=0, description='j loop', max=64, style=ProgressStyle(description_width='initi…"
      ]
     },
     "metadata": {},
     "output_type": "display_data"
    },
    {
     "data": {
      "application/vnd.jupyter.widget-view+json": {
       "model_id": "",
       "version_major": 2,
       "version_minor": 0
      },
      "text/plain": [
       "HBox(children=(IntProgress(value=0, description='j loop', max=64, style=ProgressStyle(description_width='initi…"
      ]
     },
     "metadata": {},
     "output_type": "display_data"
    },
    {
     "data": {
      "application/vnd.jupyter.widget-view+json": {
       "model_id": "",
       "version_major": 2,
       "version_minor": 0
      },
      "text/plain": [
       "HBox(children=(IntProgress(value=0, description='j loop', max=64, style=ProgressStyle(description_width='initi…"
      ]
     },
     "metadata": {},
     "output_type": "display_data"
    },
    {
     "data": {
      "application/vnd.jupyter.widget-view+json": {
       "model_id": "",
       "version_major": 2,
       "version_minor": 0
      },
      "text/plain": [
       "HBox(children=(IntProgress(value=0, description='j loop', max=64, style=ProgressStyle(description_width='initi…"
      ]
     },
     "metadata": {},
     "output_type": "display_data"
    },
    {
     "data": {
      "application/vnd.jupyter.widget-view+json": {
       "model_id": "",
       "version_major": 2,
       "version_minor": 0
      },
      "text/plain": [
       "HBox(children=(IntProgress(value=0, description='j loop', max=64, style=ProgressStyle(description_width='initi…"
      ]
     },
     "metadata": {},
     "output_type": "display_data"
    },
    {
     "name": "stdout",
     "output_type": "stream",
     "text": [
      "\n"
     ]
    }
   ],
   "source": [
    "\n",
    "solver = pynoisy.forward.HGRFSolver.from_netcdf('solver.nc')\n",
    "adjoint_fn = lambda source: solver.run(source=source, n_jobs=n_jobs)\n",
    "forward_fn = lambda: solver.run(num_frames=measurements.sizes['t'], n_jobs=n_jobs)\n",
    "gradient_fn = None\n",
    "get_state_fn = pynoisy.inverse.spatial_angle_get_state(solver)\n",
    "set_state_fn = pynoisy.inverse.spatial_angle_set_state(solver)\n",
    "forward_op = ForwardOperator(\n",
    "    forward_fn=forward_fn,\n",
    "    adjoint_fn=adjoint_fn,\n",
    "    gradient_fn=gradient_fn,\n",
    "    set_state_fn=set_state_fn,\n",
    "    get_state_fn=get_state_fn,\n",
    ")\n",
    "\n",
    "i = np.random.randint(0,65)\n",
    "j = np.random.randint(0,65)\n",
    "gradient = compute_gradient_ij(i, j, solver, synthetic_movie, adjoint)\n",
    " \n",
    "#synthetic_movie.to_netcdf('syn.nc')\n",
    "#error.to_netcdf('error.nc')\n",
    "#adjoint.to_netcdf('adjoint.nc')\n",
    "#gradient.to_netcdf('gradient1.nc')"
   ]
  },
  {
   "cell_type": "code",
   "execution_count": 22,
   "metadata": {
    "ExecuteTime": {
     "end_time": "2020-08-20T01:06:05.727957Z",
     "start_time": "2020-08-20T01:06:03.788281Z"
    }
   },
   "outputs": [
    {
     "name": "stdout",
     "output_type": "stream",
     "text": [
      "Setting solver seed to: 123\r"
     ]
    },
    {
     "data": {
      "application/vnd.jupyter.widget-view+json": {
       "model_id": "5cec6de510b8402c8595519224b972c2",
       "version_major": 2,
       "version_minor": 0
      },
      "text/plain": [
       "HBox(children=(IntProgress(value=0, description='i loop', max=64, style=ProgressStyle(description_width='initi…"
      ]
     },
     "metadata": {},
     "output_type": "display_data"
    },
    {
     "data": {
      "application/vnd.jupyter.widget-view+json": {
       "model_id": "",
       "version_major": 2,
       "version_minor": 0
      },
      "text/plain": [
       "HBox(children=(IntProgress(value=0, description='j loop', max=64, style=ProgressStyle(description_width='initi…"
      ]
     },
     "metadata": {},
     "output_type": "display_data"
    },
    {
     "data": {
      "application/vnd.jupyter.widget-view+json": {
       "model_id": "",
       "version_major": 2,
       "version_minor": 0
      },
      "text/plain": [
       "HBox(children=(IntProgress(value=0, description='j loop', max=64, style=ProgressStyle(description_width='initi…"
      ]
     },
     "metadata": {},
     "output_type": "display_data"
    },
    {
     "data": {
      "application/vnd.jupyter.widget-view+json": {
       "model_id": "",
       "version_major": 2,
       "version_minor": 0
      },
      "text/plain": [
       "HBox(children=(IntProgress(value=0, description='j loop', max=64, style=ProgressStyle(description_width='initi…"
      ]
     },
     "metadata": {},
     "output_type": "display_data"
    },
    {
     "data": {
      "application/vnd.jupyter.widget-view+json": {
       "model_id": "",
       "version_major": 2,
       "version_minor": 0
      },
      "text/plain": [
       "HBox(children=(IntProgress(value=0, description='j loop', max=64, style=ProgressStyle(description_width='initi…"
      ]
     },
     "metadata": {},
     "output_type": "display_data"
    },
    {
     "data": {
      "application/vnd.jupyter.widget-view+json": {
       "model_id": "",
       "version_major": 2,
       "version_minor": 0
      },
      "text/plain": [
       "HBox(children=(IntProgress(value=0, description='j loop', max=64, style=ProgressStyle(description_width='initi…"
      ]
     },
     "metadata": {},
     "output_type": "display_data"
    },
    {
     "data": {
      "application/vnd.jupyter.widget-view+json": {
       "model_id": "",
       "version_major": 2,
       "version_minor": 0
      },
      "text/plain": [
       "HBox(children=(IntProgress(value=0, description='j loop', max=64, style=ProgressStyle(description_width='initi…"
      ]
     },
     "metadata": {},
     "output_type": "display_data"
    },
    {
     "data": {
      "application/vnd.jupyter.widget-view+json": {
       "model_id": "",
       "version_major": 2,
       "version_minor": 0
      },
      "text/plain": [
       "HBox(children=(IntProgress(value=0, description='j loop', max=64, style=ProgressStyle(description_width='initi…"
      ]
     },
     "metadata": {},
     "output_type": "display_data"
    },
    {
     "data": {
      "application/vnd.jupyter.widget-view+json": {
       "model_id": "",
       "version_major": 2,
       "version_minor": 0
      },
      "text/plain": [
       "HBox(children=(IntProgress(value=0, description='j loop', max=64, style=ProgressStyle(description_width='initi…"
      ]
     },
     "metadata": {},
     "output_type": "display_data"
    },
    {
     "data": {
      "application/vnd.jupyter.widget-view+json": {
       "model_id": "",
       "version_major": 2,
       "version_minor": 0
      },
      "text/plain": [
       "HBox(children=(IntProgress(value=0, description='j loop', max=64, style=ProgressStyle(description_width='initi…"
      ]
     },
     "metadata": {},
     "output_type": "display_data"
    },
    {
     "data": {
      "application/vnd.jupyter.widget-view+json": {
       "model_id": "",
       "version_major": 2,
       "version_minor": 0
      },
      "text/plain": [
       "HBox(children=(IntProgress(value=0, description='j loop', max=64, style=ProgressStyle(description_width='initi…"
      ]
     },
     "metadata": {},
     "output_type": "display_data"
    },
    {
     "data": {
      "application/vnd.jupyter.widget-view+json": {
       "model_id": "",
       "version_major": 2,
       "version_minor": 0
      },
      "text/plain": [
       "HBox(children=(IntProgress(value=0, description='j loop', max=64, style=ProgressStyle(description_width='initi…"
      ]
     },
     "metadata": {},
     "output_type": "display_data"
    },
    {
     "data": {
      "application/vnd.jupyter.widget-view+json": {
       "model_id": "",
       "version_major": 2,
       "version_minor": 0
      },
      "text/plain": [
       "HBox(children=(IntProgress(value=0, description='j loop', max=64, style=ProgressStyle(description_width='initi…"
      ]
     },
     "metadata": {},
     "output_type": "display_data"
    },
    {
     "data": {
      "application/vnd.jupyter.widget-view+json": {
       "model_id": "",
       "version_major": 2,
       "version_minor": 0
      },
      "text/plain": [
       "HBox(children=(IntProgress(value=0, description='j loop', max=64, style=ProgressStyle(description_width='initi…"
      ]
     },
     "metadata": {},
     "output_type": "display_data"
    },
    {
     "data": {
      "application/vnd.jupyter.widget-view+json": {
       "model_id": "",
       "version_major": 2,
       "version_minor": 0
      },
      "text/plain": [
       "HBox(children=(IntProgress(value=0, description='j loop', max=64, style=ProgressStyle(description_width='initi…"
      ]
     },
     "metadata": {},
     "output_type": "display_data"
    },
    {
     "data": {
      "application/vnd.jupyter.widget-view+json": {
       "model_id": "",
       "version_major": 2,
       "version_minor": 0
      },
      "text/plain": [
       "HBox(children=(IntProgress(value=0, description='j loop', max=64, style=ProgressStyle(description_width='initi…"
      ]
     },
     "metadata": {},
     "output_type": "display_data"
    },
    {
     "data": {
      "application/vnd.jupyter.widget-view+json": {
       "model_id": "",
       "version_major": 2,
       "version_minor": 0
      },
      "text/plain": [
       "HBox(children=(IntProgress(value=0, description='j loop', max=64, style=ProgressStyle(description_width='initi…"
      ]
     },
     "metadata": {},
     "output_type": "display_data"
    },
    {
     "data": {
      "application/vnd.jupyter.widget-view+json": {
       "model_id": "",
       "version_major": 2,
       "version_minor": 0
      },
      "text/plain": [
       "HBox(children=(IntProgress(value=0, description='j loop', max=64, style=ProgressStyle(description_width='initi…"
      ]
     },
     "metadata": {},
     "output_type": "display_data"
    },
    {
     "data": {
      "application/vnd.jupyter.widget-view+json": {
       "model_id": "",
       "version_major": 2,
       "version_minor": 0
      },
      "text/plain": [
       "HBox(children=(IntProgress(value=0, description='j loop', max=64, style=ProgressStyle(description_width='initi…"
      ]
     },
     "metadata": {},
     "output_type": "display_data"
    },
    {
     "data": {
      "application/vnd.jupyter.widget-view+json": {
       "model_id": "",
       "version_major": 2,
       "version_minor": 0
      },
      "text/plain": [
       "HBox(children=(IntProgress(value=0, description='j loop', max=64, style=ProgressStyle(description_width='initi…"
      ]
     },
     "metadata": {},
     "output_type": "display_data"
    },
    {
     "data": {
      "application/vnd.jupyter.widget-view+json": {
       "model_id": "",
       "version_major": 2,
       "version_minor": 0
      },
      "text/plain": [
       "HBox(children=(IntProgress(value=0, description='j loop', max=64, style=ProgressStyle(description_width='initi…"
      ]
     },
     "metadata": {},
     "output_type": "display_data"
    },
    {
     "data": {
      "application/vnd.jupyter.widget-view+json": {
       "model_id": "",
       "version_major": 2,
       "version_minor": 0
      },
      "text/plain": [
       "HBox(children=(IntProgress(value=0, description='j loop', max=64, style=ProgressStyle(description_width='initi…"
      ]
     },
     "metadata": {},
     "output_type": "display_data"
    },
    {
     "data": {
      "application/vnd.jupyter.widget-view+json": {
       "model_id": "",
       "version_major": 2,
       "version_minor": 0
      },
      "text/plain": [
       "HBox(children=(IntProgress(value=0, description='j loop', max=64, style=ProgressStyle(description_width='initi…"
      ]
     },
     "metadata": {},
     "output_type": "display_data"
    },
    {
     "data": {
      "application/vnd.jupyter.widget-view+json": {
       "model_id": "",
       "version_major": 2,
       "version_minor": 0
      },
      "text/plain": [
       "HBox(children=(IntProgress(value=0, description='j loop', max=64, style=ProgressStyle(description_width='initi…"
      ]
     },
     "metadata": {},
     "output_type": "display_data"
    },
    {
     "data": {
      "application/vnd.jupyter.widget-view+json": {
       "model_id": "",
       "version_major": 2,
       "version_minor": 0
      },
      "text/plain": [
       "HBox(children=(IntProgress(value=0, description='j loop', max=64, style=ProgressStyle(description_width='initi…"
      ]
     },
     "metadata": {},
     "output_type": "display_data"
    },
    {
     "data": {
      "application/vnd.jupyter.widget-view+json": {
       "model_id": "",
       "version_major": 2,
       "version_minor": 0
      },
      "text/plain": [
       "HBox(children=(IntProgress(value=0, description='j loop', max=64, style=ProgressStyle(description_width='initi…"
      ]
     },
     "metadata": {},
     "output_type": "display_data"
    },
    {
     "data": {
      "application/vnd.jupyter.widget-view+json": {
       "model_id": "",
       "version_major": 2,
       "version_minor": 0
      },
      "text/plain": [
       "HBox(children=(IntProgress(value=0, description='j loop', max=64, style=ProgressStyle(description_width='initi…"
      ]
     },
     "metadata": {},
     "output_type": "display_data"
    },
    {
     "data": {
      "application/vnd.jupyter.widget-view+json": {
       "model_id": "",
       "version_major": 2,
       "version_minor": 0
      },
      "text/plain": [
       "HBox(children=(IntProgress(value=0, description='j loop', max=64, style=ProgressStyle(description_width='initi…"
      ]
     },
     "metadata": {},
     "output_type": "display_data"
    },
    {
     "data": {
      "application/vnd.jupyter.widget-view+json": {
       "model_id": "",
       "version_major": 2,
       "version_minor": 0
      },
      "text/plain": [
       "HBox(children=(IntProgress(value=0, description='j loop', max=64, style=ProgressStyle(description_width='initi…"
      ]
     },
     "metadata": {},
     "output_type": "display_data"
    },
    {
     "data": {
      "application/vnd.jupyter.widget-view+json": {
       "model_id": "",
       "version_major": 2,
       "version_minor": 0
      },
      "text/plain": [
       "HBox(children=(IntProgress(value=0, description='j loop', max=64, style=ProgressStyle(description_width='initi…"
      ]
     },
     "metadata": {},
     "output_type": "display_data"
    },
    {
     "data": {
      "application/vnd.jupyter.widget-view+json": {
       "model_id": "",
       "version_major": 2,
       "version_minor": 0
      },
      "text/plain": [
       "HBox(children=(IntProgress(value=0, description='j loop', max=64, style=ProgressStyle(description_width='initi…"
      ]
     },
     "metadata": {},
     "output_type": "display_data"
    },
    {
     "data": {
      "application/vnd.jupyter.widget-view+json": {
       "model_id": "",
       "version_major": 2,
       "version_minor": 0
      },
      "text/plain": [
       "HBox(children=(IntProgress(value=0, description='j loop', max=64, style=ProgressStyle(description_width='initi…"
      ]
     },
     "metadata": {},
     "output_type": "display_data"
    },
    {
     "data": {
      "application/vnd.jupyter.widget-view+json": {
       "model_id": "",
       "version_major": 2,
       "version_minor": 0
      },
      "text/plain": [
       "HBox(children=(IntProgress(value=0, description='j loop', max=64, style=ProgressStyle(description_width='initi…"
      ]
     },
     "metadata": {},
     "output_type": "display_data"
    },
    {
     "data": {
      "application/vnd.jupyter.widget-view+json": {
       "model_id": "",
       "version_major": 2,
       "version_minor": 0
      },
      "text/plain": [
       "HBox(children=(IntProgress(value=0, description='j loop', max=64, style=ProgressStyle(description_width='initi…"
      ]
     },
     "metadata": {},
     "output_type": "display_data"
    },
    {
     "data": {
      "application/vnd.jupyter.widget-view+json": {
       "model_id": "",
       "version_major": 2,
       "version_minor": 0
      },
      "text/plain": [
       "HBox(children=(IntProgress(value=0, description='j loop', max=64, style=ProgressStyle(description_width='initi…"
      ]
     },
     "metadata": {},
     "output_type": "display_data"
    },
    {
     "data": {
      "application/vnd.jupyter.widget-view+json": {
       "model_id": "",
       "version_major": 2,
       "version_minor": 0
      },
      "text/plain": [
       "HBox(children=(IntProgress(value=0, description='j loop', max=64, style=ProgressStyle(description_width='initi…"
      ]
     },
     "metadata": {},
     "output_type": "display_data"
    },
    {
     "data": {
      "application/vnd.jupyter.widget-view+json": {
       "model_id": "",
       "version_major": 2,
       "version_minor": 0
      },
      "text/plain": [
       "HBox(children=(IntProgress(value=0, description='j loop', max=64, style=ProgressStyle(description_width='initi…"
      ]
     },
     "metadata": {},
     "output_type": "display_data"
    },
    {
     "data": {
      "application/vnd.jupyter.widget-view+json": {
       "model_id": "",
       "version_major": 2,
       "version_minor": 0
      },
      "text/plain": [
       "HBox(children=(IntProgress(value=0, description='j loop', max=64, style=ProgressStyle(description_width='initi…"
      ]
     },
     "metadata": {},
     "output_type": "display_data"
    },
    {
     "data": {
      "application/vnd.jupyter.widget-view+json": {
       "model_id": "",
       "version_major": 2,
       "version_minor": 0
      },
      "text/plain": [
       "HBox(children=(IntProgress(value=0, description='j loop', max=64, style=ProgressStyle(description_width='initi…"
      ]
     },
     "metadata": {},
     "output_type": "display_data"
    },
    {
     "data": {
      "application/vnd.jupyter.widget-view+json": {
       "model_id": "",
       "version_major": 2,
       "version_minor": 0
      },
      "text/plain": [
       "HBox(children=(IntProgress(value=0, description='j loop', max=64, style=ProgressStyle(description_width='initi…"
      ]
     },
     "metadata": {},
     "output_type": "display_data"
    },
    {
     "data": {
      "application/vnd.jupyter.widget-view+json": {
       "model_id": "",
       "version_major": 2,
       "version_minor": 0
      },
      "text/plain": [
       "HBox(children=(IntProgress(value=0, description='j loop', max=64, style=ProgressStyle(description_width='initi…"
      ]
     },
     "metadata": {},
     "output_type": "display_data"
    },
    {
     "data": {
      "application/vnd.jupyter.widget-view+json": {
       "model_id": "",
       "version_major": 2,
       "version_minor": 0
      },
      "text/plain": [
       "HBox(children=(IntProgress(value=0, description='j loop', max=64, style=ProgressStyle(description_width='initi…"
      ]
     },
     "metadata": {},
     "output_type": "display_data"
    },
    {
     "data": {
      "application/vnd.jupyter.widget-view+json": {
       "model_id": "",
       "version_major": 2,
       "version_minor": 0
      },
      "text/plain": [
       "HBox(children=(IntProgress(value=0, description='j loop', max=64, style=ProgressStyle(description_width='initi…"
      ]
     },
     "metadata": {},
     "output_type": "display_data"
    },
    {
     "data": {
      "application/vnd.jupyter.widget-view+json": {
       "model_id": "",
       "version_major": 2,
       "version_minor": 0
      },
      "text/plain": [
       "HBox(children=(IntProgress(value=0, description='j loop', max=64, style=ProgressStyle(description_width='initi…"
      ]
     },
     "metadata": {},
     "output_type": "display_data"
    },
    {
     "data": {
      "application/vnd.jupyter.widget-view+json": {
       "model_id": "",
       "version_major": 2,
       "version_minor": 0
      },
      "text/plain": [
       "HBox(children=(IntProgress(value=0, description='j loop', max=64, style=ProgressStyle(description_width='initi…"
      ]
     },
     "metadata": {},
     "output_type": "display_data"
    },
    {
     "data": {
      "application/vnd.jupyter.widget-view+json": {
       "model_id": "",
       "version_major": 2,
       "version_minor": 0
      },
      "text/plain": [
       "HBox(children=(IntProgress(value=0, description='j loop', max=64, style=ProgressStyle(description_width='initi…"
      ]
     },
     "metadata": {},
     "output_type": "display_data"
    },
    {
     "data": {
      "application/vnd.jupyter.widget-view+json": {
       "model_id": "",
       "version_major": 2,
       "version_minor": 0
      },
      "text/plain": [
       "HBox(children=(IntProgress(value=0, description='j loop', max=64, style=ProgressStyle(description_width='initi…"
      ]
     },
     "metadata": {},
     "output_type": "display_data"
    },
    {
     "data": {
      "application/vnd.jupyter.widget-view+json": {
       "model_id": "",
       "version_major": 2,
       "version_minor": 0
      },
      "text/plain": [
       "HBox(children=(IntProgress(value=0, description='j loop', max=64, style=ProgressStyle(description_width='initi…"
      ]
     },
     "metadata": {},
     "output_type": "display_data"
    },
    {
     "data": {
      "application/vnd.jupyter.widget-view+json": {
       "model_id": "",
       "version_major": 2,
       "version_minor": 0
      },
      "text/plain": [
       "HBox(children=(IntProgress(value=0, description='j loop', max=64, style=ProgressStyle(description_width='initi…"
      ]
     },
     "metadata": {},
     "output_type": "display_data"
    },
    {
     "data": {
      "application/vnd.jupyter.widget-view+json": {
       "model_id": "",
       "version_major": 2,
       "version_minor": 0
      },
      "text/plain": [
       "HBox(children=(IntProgress(value=0, description='j loop', max=64, style=ProgressStyle(description_width='initi…"
      ]
     },
     "metadata": {},
     "output_type": "display_data"
    },
    {
     "data": {
      "application/vnd.jupyter.widget-view+json": {
       "model_id": "",
       "version_major": 2,
       "version_minor": 0
      },
      "text/plain": [
       "HBox(children=(IntProgress(value=0, description='j loop', max=64, style=ProgressStyle(description_width='initi…"
      ]
     },
     "metadata": {},
     "output_type": "display_data"
    },
    {
     "data": {
      "application/vnd.jupyter.widget-view+json": {
       "model_id": "",
       "version_major": 2,
       "version_minor": 0
      },
      "text/plain": [
       "HBox(children=(IntProgress(value=0, description='j loop', max=64, style=ProgressStyle(description_width='initi…"
      ]
     },
     "metadata": {},
     "output_type": "display_data"
    },
    {
     "data": {
      "application/vnd.jupyter.widget-view+json": {
       "model_id": "",
       "version_major": 2,
       "version_minor": 0
      },
      "text/plain": [
       "HBox(children=(IntProgress(value=0, description='j loop', max=64, style=ProgressStyle(description_width='initi…"
      ]
     },
     "metadata": {},
     "output_type": "display_data"
    },
    {
     "data": {
      "application/vnd.jupyter.widget-view+json": {
       "model_id": "",
       "version_major": 2,
       "version_minor": 0
      },
      "text/plain": [
       "HBox(children=(IntProgress(value=0, description='j loop', max=64, style=ProgressStyle(description_width='initi…"
      ]
     },
     "metadata": {},
     "output_type": "display_data"
    },
    {
     "data": {
      "application/vnd.jupyter.widget-view+json": {
       "model_id": "",
       "version_major": 2,
       "version_minor": 0
      },
      "text/plain": [
       "HBox(children=(IntProgress(value=0, description='j loop', max=64, style=ProgressStyle(description_width='initi…"
      ]
     },
     "metadata": {},
     "output_type": "display_data"
    },
    {
     "data": {
      "application/vnd.jupyter.widget-view+json": {
       "model_id": "",
       "version_major": 2,
       "version_minor": 0
      },
      "text/plain": [
       "HBox(children=(IntProgress(value=0, description='j loop', max=64, style=ProgressStyle(description_width='initi…"
      ]
     },
     "metadata": {},
     "output_type": "display_data"
    },
    {
     "data": {
      "application/vnd.jupyter.widget-view+json": {
       "model_id": "",
       "version_major": 2,
       "version_minor": 0
      },
      "text/plain": [
       "HBox(children=(IntProgress(value=0, description='j loop', max=64, style=ProgressStyle(description_width='initi…"
      ]
     },
     "metadata": {},
     "output_type": "display_data"
    },
    {
     "data": {
      "application/vnd.jupyter.widget-view+json": {
       "model_id": "",
       "version_major": 2,
       "version_minor": 0
      },
      "text/plain": [
       "HBox(children=(IntProgress(value=0, description='j loop', max=64, style=ProgressStyle(description_width='initi…"
      ]
     },
     "metadata": {},
     "output_type": "display_data"
    },
    {
     "data": {
      "application/vnd.jupyter.widget-view+json": {
       "model_id": "",
       "version_major": 2,
       "version_minor": 0
      },
      "text/plain": [
       "HBox(children=(IntProgress(value=0, description='j loop', max=64, style=ProgressStyle(description_width='initi…"
      ]
     },
     "metadata": {},
     "output_type": "display_data"
    },
    {
     "data": {
      "application/vnd.jupyter.widget-view+json": {
       "model_id": "",
       "version_major": 2,
       "version_minor": 0
      },
      "text/plain": [
       "HBox(children=(IntProgress(value=0, description='j loop', max=64, style=ProgressStyle(description_width='initi…"
      ]
     },
     "metadata": {},
     "output_type": "display_data"
    },
    {
     "data": {
      "application/vnd.jupyter.widget-view+json": {
       "model_id": "",
       "version_major": 2,
       "version_minor": 0
      },
      "text/plain": [
       "HBox(children=(IntProgress(value=0, description='j loop', max=64, style=ProgressStyle(description_width='initi…"
      ]
     },
     "metadata": {},
     "output_type": "display_data"
    },
    {
     "data": {
      "application/vnd.jupyter.widget-view+json": {
       "model_id": "",
       "version_major": 2,
       "version_minor": 0
      },
      "text/plain": [
       "HBox(children=(IntProgress(value=0, description='j loop', max=64, style=ProgressStyle(description_width='initi…"
      ]
     },
     "metadata": {},
     "output_type": "display_data"
    },
    {
     "data": {
      "application/vnd.jupyter.widget-view+json": {
       "model_id": "",
       "version_major": 2,
       "version_minor": 0
      },
      "text/plain": [
       "HBox(children=(IntProgress(value=0, description='j loop', max=64, style=ProgressStyle(description_width='initi…"
      ]
     },
     "metadata": {},
     "output_type": "display_data"
    },
    {
     "data": {
      "application/vnd.jupyter.widget-view+json": {
       "model_id": "",
       "version_major": 2,
       "version_minor": 0
      },
      "text/plain": [
       "HBox(children=(IntProgress(value=0, description='j loop', max=64, style=ProgressStyle(description_width='initi…"
      ]
     },
     "metadata": {},
     "output_type": "display_data"
    },
    {
     "data": {
      "application/vnd.jupyter.widget-view+json": {
       "model_id": "",
       "version_major": 2,
       "version_minor": 0
      },
      "text/plain": [
       "HBox(children=(IntProgress(value=0, description='j loop', max=64, style=ProgressStyle(description_width='initi…"
      ]
     },
     "metadata": {},
     "output_type": "display_data"
    },
    {
     "name": "stdout",
     "output_type": "stream",
     "text": [
      "\n",
      "0.35375905249668366 0.04523400423409116\n"
     ]
    }
   ],
   "source": [
    "solver = pynoisy.forward.HGRFSolver.from_netcdf('solver.nc')\n",
    "measurements = xr.load_dataarray('meas.nc')\n",
    "gradient =  xr.load_dataarray('gradient.nc')\n",
    "adjoint =  xr.load_dataarray('adjoint.nc')\n",
    "\n",
    "i = np.random.randint(0,65)\n",
    "j = np.random.randint(0,65)\n",
    "gradient1 = compute_gradient1(i, j, solver, synthetic_movie, adjoint)\n",
    "\n",
    "print(gradient1.isel(x=i, y=j).data, gradient.isel(x=i, y=j).data)"
   ]
  },
  {
   "cell_type": "code",
   "execution_count": 8,
   "metadata": {
    "ExecuteTime": {
     "end_time": "2020-08-20T00:59:13.811182Z",
     "start_time": "2020-08-20T00:59:13.782485Z"
    }
   },
   "outputs": [
    {
     "data": {
      "application/javascript": [
       "/* Put everything inside the global mpl namespace */\n",
       "window.mpl = {};\n",
       "\n",
       "\n",
       "mpl.get_websocket_type = function() {\n",
       "    if (typeof(WebSocket) !== 'undefined') {\n",
       "        return WebSocket;\n",
       "    } else if (typeof(MozWebSocket) !== 'undefined') {\n",
       "        return MozWebSocket;\n",
       "    } else {\n",
       "        alert('Your browser does not have WebSocket support. ' +\n",
       "              'Please try Chrome, Safari or Firefox ≥ 6. ' +\n",
       "              'Firefox 4 and 5 are also supported but you ' +\n",
       "              'have to enable WebSockets in about:config.');\n",
       "    };\n",
       "}\n",
       "\n",
       "mpl.figure = function(figure_id, websocket, ondownload, parent_element) {\n",
       "    this.id = figure_id;\n",
       "\n",
       "    this.ws = websocket;\n",
       "\n",
       "    this.supports_binary = (this.ws.binaryType != undefined);\n",
       "\n",
       "    if (!this.supports_binary) {\n",
       "        var warnings = document.getElementById(\"mpl-warnings\");\n",
       "        if (warnings) {\n",
       "            warnings.style.display = 'block';\n",
       "            warnings.textContent = (\n",
       "                \"This browser does not support binary websocket messages. \" +\n",
       "                    \"Performance may be slow.\");\n",
       "        }\n",
       "    }\n",
       "\n",
       "    this.imageObj = new Image();\n",
       "\n",
       "    this.context = undefined;\n",
       "    this.message = undefined;\n",
       "    this.canvas = undefined;\n",
       "    this.rubberband_canvas = undefined;\n",
       "    this.rubberband_context = undefined;\n",
       "    this.format_dropdown = undefined;\n",
       "\n",
       "    this.image_mode = 'full';\n",
       "\n",
       "    this.root = $('<div/>');\n",
       "    this._root_extra_style(this.root)\n",
       "    this.root.attr('style', 'display: inline-block');\n",
       "\n",
       "    $(parent_element).append(this.root);\n",
       "\n",
       "    this._init_header(this);\n",
       "    this._init_canvas(this);\n",
       "    this._init_toolbar(this);\n",
       "\n",
       "    var fig = this;\n",
       "\n",
       "    this.waiting = false;\n",
       "\n",
       "    this.ws.onopen =  function () {\n",
       "            fig.send_message(\"supports_binary\", {value: fig.supports_binary});\n",
       "            fig.send_message(\"send_image_mode\", {});\n",
       "            if (mpl.ratio != 1) {\n",
       "                fig.send_message(\"set_dpi_ratio\", {'dpi_ratio': mpl.ratio});\n",
       "            }\n",
       "            fig.send_message(\"refresh\", {});\n",
       "        }\n",
       "\n",
       "    this.imageObj.onload = function() {\n",
       "            if (fig.image_mode == 'full') {\n",
       "                // Full images could contain transparency (where diff images\n",
       "                // almost always do), so we need to clear the canvas so that\n",
       "                // there is no ghosting.\n",
       "                fig.context.clearRect(0, 0, fig.canvas.width, fig.canvas.height);\n",
       "            }\n",
       "            fig.context.drawImage(fig.imageObj, 0, 0);\n",
       "        };\n",
       "\n",
       "    this.imageObj.onunload = function() {\n",
       "        fig.ws.close();\n",
       "    }\n",
       "\n",
       "    this.ws.onmessage = this._make_on_message_function(this);\n",
       "\n",
       "    this.ondownload = ondownload;\n",
       "}\n",
       "\n",
       "mpl.figure.prototype._init_header = function() {\n",
       "    var titlebar = $(\n",
       "        '<div class=\"ui-dialog-titlebar ui-widget-header ui-corner-all ' +\n",
       "        'ui-helper-clearfix\"/>');\n",
       "    var titletext = $(\n",
       "        '<div class=\"ui-dialog-title\" style=\"width: 100%; ' +\n",
       "        'text-align: center; padding: 3px;\"/>');\n",
       "    titlebar.append(titletext)\n",
       "    this.root.append(titlebar);\n",
       "    this.header = titletext[0];\n",
       "}\n",
       "\n",
       "\n",
       "\n",
       "mpl.figure.prototype._canvas_extra_style = function(canvas_div) {\n",
       "\n",
       "}\n",
       "\n",
       "\n",
       "mpl.figure.prototype._root_extra_style = function(canvas_div) {\n",
       "\n",
       "}\n",
       "\n",
       "mpl.figure.prototype._init_canvas = function() {\n",
       "    var fig = this;\n",
       "\n",
       "    var canvas_div = $('<div/>');\n",
       "\n",
       "    canvas_div.attr('style', 'position: relative; clear: both; outline: 0');\n",
       "\n",
       "    function canvas_keyboard_event(event) {\n",
       "        return fig.key_event(event, event['data']);\n",
       "    }\n",
       "\n",
       "    canvas_div.keydown('key_press', canvas_keyboard_event);\n",
       "    canvas_div.keyup('key_release', canvas_keyboard_event);\n",
       "    this.canvas_div = canvas_div\n",
       "    this._canvas_extra_style(canvas_div)\n",
       "    this.root.append(canvas_div);\n",
       "\n",
       "    var canvas = $('<canvas/>');\n",
       "    canvas.addClass('mpl-canvas');\n",
       "    canvas.attr('style', \"left: 0; top: 0; z-index: 0; outline: 0\")\n",
       "\n",
       "    this.canvas = canvas[0];\n",
       "    this.context = canvas[0].getContext(\"2d\");\n",
       "\n",
       "    var backingStore = this.context.backingStorePixelRatio ||\n",
       "\tthis.context.webkitBackingStorePixelRatio ||\n",
       "\tthis.context.mozBackingStorePixelRatio ||\n",
       "\tthis.context.msBackingStorePixelRatio ||\n",
       "\tthis.context.oBackingStorePixelRatio ||\n",
       "\tthis.context.backingStorePixelRatio || 1;\n",
       "\n",
       "    mpl.ratio = (window.devicePixelRatio || 1) / backingStore;\n",
       "\n",
       "    var rubberband = $('<canvas/>');\n",
       "    rubberband.attr('style', \"position: absolute; left: 0; top: 0; z-index: 1;\")\n",
       "\n",
       "    var pass_mouse_events = true;\n",
       "\n",
       "    canvas_div.resizable({\n",
       "        start: function(event, ui) {\n",
       "            pass_mouse_events = false;\n",
       "        },\n",
       "        resize: function(event, ui) {\n",
       "            fig.request_resize(ui.size.width, ui.size.height);\n",
       "        },\n",
       "        stop: function(event, ui) {\n",
       "            pass_mouse_events = true;\n",
       "            fig.request_resize(ui.size.width, ui.size.height);\n",
       "        },\n",
       "    });\n",
       "\n",
       "    function mouse_event_fn(event) {\n",
       "        if (pass_mouse_events)\n",
       "            return fig.mouse_event(event, event['data']);\n",
       "    }\n",
       "\n",
       "    rubberband.mousedown('button_press', mouse_event_fn);\n",
       "    rubberband.mouseup('button_release', mouse_event_fn);\n",
       "    // Throttle sequential mouse events to 1 every 20ms.\n",
       "    rubberband.mousemove('motion_notify', mouse_event_fn);\n",
       "\n",
       "    rubberband.mouseenter('figure_enter', mouse_event_fn);\n",
       "    rubberband.mouseleave('figure_leave', mouse_event_fn);\n",
       "\n",
       "    canvas_div.on(\"wheel\", function (event) {\n",
       "        event = event.originalEvent;\n",
       "        event['data'] = 'scroll'\n",
       "        if (event.deltaY < 0) {\n",
       "            event.step = 1;\n",
       "        } else {\n",
       "            event.step = -1;\n",
       "        }\n",
       "        mouse_event_fn(event);\n",
       "    });\n",
       "\n",
       "    canvas_div.append(canvas);\n",
       "    canvas_div.append(rubberband);\n",
       "\n",
       "    this.rubberband = rubberband;\n",
       "    this.rubberband_canvas = rubberband[0];\n",
       "    this.rubberband_context = rubberband[0].getContext(\"2d\");\n",
       "    this.rubberband_context.strokeStyle = \"#000000\";\n",
       "\n",
       "    this._resize_canvas = function(width, height) {\n",
       "        // Keep the size of the canvas, canvas container, and rubber band\n",
       "        // canvas in synch.\n",
       "        canvas_div.css('width', width)\n",
       "        canvas_div.css('height', height)\n",
       "\n",
       "        canvas.attr('width', width * mpl.ratio);\n",
       "        canvas.attr('height', height * mpl.ratio);\n",
       "        canvas.attr('style', 'width: ' + width + 'px; height: ' + height + 'px;');\n",
       "\n",
       "        rubberband.attr('width', width);\n",
       "        rubberband.attr('height', height);\n",
       "    }\n",
       "\n",
       "    // Set the figure to an initial 600x600px, this will subsequently be updated\n",
       "    // upon first draw.\n",
       "    this._resize_canvas(600, 600);\n",
       "\n",
       "    // Disable right mouse context menu.\n",
       "    $(this.rubberband_canvas).bind(\"contextmenu\",function(e){\n",
       "        return false;\n",
       "    });\n",
       "\n",
       "    function set_focus () {\n",
       "        canvas.focus();\n",
       "        canvas_div.focus();\n",
       "    }\n",
       "\n",
       "    window.setTimeout(set_focus, 100);\n",
       "}\n",
       "\n",
       "mpl.figure.prototype._init_toolbar = function() {\n",
       "    var fig = this;\n",
       "\n",
       "    var nav_element = $('<div/>');\n",
       "    nav_element.attr('style', 'width: 100%');\n",
       "    this.root.append(nav_element);\n",
       "\n",
       "    // Define a callback function for later on.\n",
       "    function toolbar_event(event) {\n",
       "        return fig.toolbar_button_onclick(event['data']);\n",
       "    }\n",
       "    function toolbar_mouse_event(event) {\n",
       "        return fig.toolbar_button_onmouseover(event['data']);\n",
       "    }\n",
       "\n",
       "    for(var toolbar_ind in mpl.toolbar_items) {\n",
       "        var name = mpl.toolbar_items[toolbar_ind][0];\n",
       "        var tooltip = mpl.toolbar_items[toolbar_ind][1];\n",
       "        var image = mpl.toolbar_items[toolbar_ind][2];\n",
       "        var method_name = mpl.toolbar_items[toolbar_ind][3];\n",
       "\n",
       "        if (!name) {\n",
       "            // put a spacer in here.\n",
       "            continue;\n",
       "        }\n",
       "        var button = $('<button/>');\n",
       "        button.addClass('ui-button ui-widget ui-state-default ui-corner-all ' +\n",
       "                        'ui-button-icon-only');\n",
       "        button.attr('role', 'button');\n",
       "        button.attr('aria-disabled', 'false');\n",
       "        button.click(method_name, toolbar_event);\n",
       "        button.mouseover(tooltip, toolbar_mouse_event);\n",
       "\n",
       "        var icon_img = $('<span/>');\n",
       "        icon_img.addClass('ui-button-icon-primary ui-icon');\n",
       "        icon_img.addClass(image);\n",
       "        icon_img.addClass('ui-corner-all');\n",
       "\n",
       "        var tooltip_span = $('<span/>');\n",
       "        tooltip_span.addClass('ui-button-text');\n",
       "        tooltip_span.html(tooltip);\n",
       "\n",
       "        button.append(icon_img);\n",
       "        button.append(tooltip_span);\n",
       "\n",
       "        nav_element.append(button);\n",
       "    }\n",
       "\n",
       "    var fmt_picker_span = $('<span/>');\n",
       "\n",
       "    var fmt_picker = $('<select/>');\n",
       "    fmt_picker.addClass('mpl-toolbar-option ui-widget ui-widget-content');\n",
       "    fmt_picker_span.append(fmt_picker);\n",
       "    nav_element.append(fmt_picker_span);\n",
       "    this.format_dropdown = fmt_picker[0];\n",
       "\n",
       "    for (var ind in mpl.extensions) {\n",
       "        var fmt = mpl.extensions[ind];\n",
       "        var option = $(\n",
       "            '<option/>', {selected: fmt === mpl.default_extension}).html(fmt);\n",
       "        fmt_picker.append(option);\n",
       "    }\n",
       "\n",
       "    // Add hover states to the ui-buttons\n",
       "    $( \".ui-button\" ).hover(\n",
       "        function() { $(this).addClass(\"ui-state-hover\");},\n",
       "        function() { $(this).removeClass(\"ui-state-hover\");}\n",
       "    );\n",
       "\n",
       "    var status_bar = $('<span class=\"mpl-message\"/>');\n",
       "    nav_element.append(status_bar);\n",
       "    this.message = status_bar[0];\n",
       "}\n",
       "\n",
       "mpl.figure.prototype.request_resize = function(x_pixels, y_pixels) {\n",
       "    // Request matplotlib to resize the figure. Matplotlib will then trigger a resize in the client,\n",
       "    // which will in turn request a refresh of the image.\n",
       "    this.send_message('resize', {'width': x_pixels, 'height': y_pixels});\n",
       "}\n",
       "\n",
       "mpl.figure.prototype.send_message = function(type, properties) {\n",
       "    properties['type'] = type;\n",
       "    properties['figure_id'] = this.id;\n",
       "    this.ws.send(JSON.stringify(properties));\n",
       "}\n",
       "\n",
       "mpl.figure.prototype.send_draw_message = function() {\n",
       "    if (!this.waiting) {\n",
       "        this.waiting = true;\n",
       "        this.ws.send(JSON.stringify({type: \"draw\", figure_id: this.id}));\n",
       "    }\n",
       "}\n",
       "\n",
       "\n",
       "mpl.figure.prototype.handle_save = function(fig, msg) {\n",
       "    var format_dropdown = fig.format_dropdown;\n",
       "    var format = format_dropdown.options[format_dropdown.selectedIndex].value;\n",
       "    fig.ondownload(fig, format);\n",
       "}\n",
       "\n",
       "\n",
       "mpl.figure.prototype.handle_resize = function(fig, msg) {\n",
       "    var size = msg['size'];\n",
       "    if (size[0] != fig.canvas.width || size[1] != fig.canvas.height) {\n",
       "        fig._resize_canvas(size[0], size[1]);\n",
       "        fig.send_message(\"refresh\", {});\n",
       "    };\n",
       "}\n",
       "\n",
       "mpl.figure.prototype.handle_rubberband = function(fig, msg) {\n",
       "    var x0 = msg['x0'] / mpl.ratio;\n",
       "    var y0 = (fig.canvas.height - msg['y0']) / mpl.ratio;\n",
       "    var x1 = msg['x1'] / mpl.ratio;\n",
       "    var y1 = (fig.canvas.height - msg['y1']) / mpl.ratio;\n",
       "    x0 = Math.floor(x0) + 0.5;\n",
       "    y0 = Math.floor(y0) + 0.5;\n",
       "    x1 = Math.floor(x1) + 0.5;\n",
       "    y1 = Math.floor(y1) + 0.5;\n",
       "    var min_x = Math.min(x0, x1);\n",
       "    var min_y = Math.min(y0, y1);\n",
       "    var width = Math.abs(x1 - x0);\n",
       "    var height = Math.abs(y1 - y0);\n",
       "\n",
       "    fig.rubberband_context.clearRect(\n",
       "        0, 0, fig.canvas.width / mpl.ratio, fig.canvas.height / mpl.ratio);\n",
       "\n",
       "    fig.rubberband_context.strokeRect(min_x, min_y, width, height);\n",
       "}\n",
       "\n",
       "mpl.figure.prototype.handle_figure_label = function(fig, msg) {\n",
       "    // Updates the figure title.\n",
       "    fig.header.textContent = msg['label'];\n",
       "}\n",
       "\n",
       "mpl.figure.prototype.handle_cursor = function(fig, msg) {\n",
       "    var cursor = msg['cursor'];\n",
       "    switch(cursor)\n",
       "    {\n",
       "    case 0:\n",
       "        cursor = 'pointer';\n",
       "        break;\n",
       "    case 1:\n",
       "        cursor = 'default';\n",
       "        break;\n",
       "    case 2:\n",
       "        cursor = 'crosshair';\n",
       "        break;\n",
       "    case 3:\n",
       "        cursor = 'move';\n",
       "        break;\n",
       "    }\n",
       "    fig.rubberband_canvas.style.cursor = cursor;\n",
       "}\n",
       "\n",
       "mpl.figure.prototype.handle_message = function(fig, msg) {\n",
       "    fig.message.textContent = msg['message'];\n",
       "}\n",
       "\n",
       "mpl.figure.prototype.handle_draw = function(fig, msg) {\n",
       "    // Request the server to send over a new figure.\n",
       "    fig.send_draw_message();\n",
       "}\n",
       "\n",
       "mpl.figure.prototype.handle_image_mode = function(fig, msg) {\n",
       "    fig.image_mode = msg['mode'];\n",
       "}\n",
       "\n",
       "mpl.figure.prototype.updated_canvas_event = function() {\n",
       "    // Called whenever the canvas gets updated.\n",
       "    this.send_message(\"ack\", {});\n",
       "}\n",
       "\n",
       "// A function to construct a web socket function for onmessage handling.\n",
       "// Called in the figure constructor.\n",
       "mpl.figure.prototype._make_on_message_function = function(fig) {\n",
       "    return function socket_on_message(evt) {\n",
       "        if (evt.data instanceof Blob) {\n",
       "            /* FIXME: We get \"Resource interpreted as Image but\n",
       "             * transferred with MIME type text/plain:\" errors on\n",
       "             * Chrome.  But how to set the MIME type?  It doesn't seem\n",
       "             * to be part of the websocket stream */\n",
       "            evt.data.type = \"image/png\";\n",
       "\n",
       "            /* Free the memory for the previous frames */\n",
       "            if (fig.imageObj.src) {\n",
       "                (window.URL || window.webkitURL).revokeObjectURL(\n",
       "                    fig.imageObj.src);\n",
       "            }\n",
       "\n",
       "            fig.imageObj.src = (window.URL || window.webkitURL).createObjectURL(\n",
       "                evt.data);\n",
       "            fig.updated_canvas_event();\n",
       "            fig.waiting = false;\n",
       "            return;\n",
       "        }\n",
       "        else if (typeof evt.data === 'string' && evt.data.slice(0, 21) == \"data:image/png;base64\") {\n",
       "            fig.imageObj.src = evt.data;\n",
       "            fig.updated_canvas_event();\n",
       "            fig.waiting = false;\n",
       "            return;\n",
       "        }\n",
       "\n",
       "        var msg = JSON.parse(evt.data);\n",
       "        var msg_type = msg['type'];\n",
       "\n",
       "        // Call the  \"handle_{type}\" callback, which takes\n",
       "        // the figure and JSON message as its only arguments.\n",
       "        try {\n",
       "            var callback = fig[\"handle_\" + msg_type];\n",
       "        } catch (e) {\n",
       "            console.log(\"No handler for the '\" + msg_type + \"' message type: \", msg);\n",
       "            return;\n",
       "        }\n",
       "\n",
       "        if (callback) {\n",
       "            try {\n",
       "                // console.log(\"Handling '\" + msg_type + \"' message: \", msg);\n",
       "                callback(fig, msg);\n",
       "            } catch (e) {\n",
       "                console.log(\"Exception inside the 'handler_\" + msg_type + \"' callback:\", e, e.stack, msg);\n",
       "            }\n",
       "        }\n",
       "    };\n",
       "}\n",
       "\n",
       "// from http://stackoverflow.com/questions/1114465/getting-mouse-location-in-canvas\n",
       "mpl.findpos = function(e) {\n",
       "    //this section is from http://www.quirksmode.org/js/events_properties.html\n",
       "    var targ;\n",
       "    if (!e)\n",
       "        e = window.event;\n",
       "    if (e.target)\n",
       "        targ = e.target;\n",
       "    else if (e.srcElement)\n",
       "        targ = e.srcElement;\n",
       "    if (targ.nodeType == 3) // defeat Safari bug\n",
       "        targ = targ.parentNode;\n",
       "\n",
       "    // jQuery normalizes the pageX and pageY\n",
       "    // pageX,Y are the mouse positions relative to the document\n",
       "    // offset() returns the position of the element relative to the document\n",
       "    var x = e.pageX - $(targ).offset().left;\n",
       "    var y = e.pageY - $(targ).offset().top;\n",
       "\n",
       "    return {\"x\": x, \"y\": y};\n",
       "};\n",
       "\n",
       "/*\n",
       " * return a copy of an object with only non-object keys\n",
       " * we need this to avoid circular references\n",
       " * http://stackoverflow.com/a/24161582/3208463\n",
       " */\n",
       "function simpleKeys (original) {\n",
       "  return Object.keys(original).reduce(function (obj, key) {\n",
       "    if (typeof original[key] !== 'object')\n",
       "        obj[key] = original[key]\n",
       "    return obj;\n",
       "  }, {});\n",
       "}\n",
       "\n",
       "mpl.figure.prototype.mouse_event = function(event, name) {\n",
       "    var canvas_pos = mpl.findpos(event)\n",
       "\n",
       "    if (name === 'button_press')\n",
       "    {\n",
       "        this.canvas.focus();\n",
       "        this.canvas_div.focus();\n",
       "    }\n",
       "\n",
       "    var x = canvas_pos.x * mpl.ratio;\n",
       "    var y = canvas_pos.y * mpl.ratio;\n",
       "\n",
       "    this.send_message(name, {x: x, y: y, button: event.button,\n",
       "                             step: event.step,\n",
       "                             guiEvent: simpleKeys(event)});\n",
       "\n",
       "    /* This prevents the web browser from automatically changing to\n",
       "     * the text insertion cursor when the button is pressed.  We want\n",
       "     * to control all of the cursor setting manually through the\n",
       "     * 'cursor' event from matplotlib */\n",
       "    event.preventDefault();\n",
       "    return false;\n",
       "}\n",
       "\n",
       "mpl.figure.prototype._key_event_extra = function(event, name) {\n",
       "    // Handle any extra behaviour associated with a key event\n",
       "}\n",
       "\n",
       "mpl.figure.prototype.key_event = function(event, name) {\n",
       "\n",
       "    // Prevent repeat events\n",
       "    if (name == 'key_press')\n",
       "    {\n",
       "        if (event.which === this._key)\n",
       "            return;\n",
       "        else\n",
       "            this._key = event.which;\n",
       "    }\n",
       "    if (name == 'key_release')\n",
       "        this._key = null;\n",
       "\n",
       "    var value = '';\n",
       "    if (event.ctrlKey && event.which != 17)\n",
       "        value += \"ctrl+\";\n",
       "    if (event.altKey && event.which != 18)\n",
       "        value += \"alt+\";\n",
       "    if (event.shiftKey && event.which != 16)\n",
       "        value += \"shift+\";\n",
       "\n",
       "    value += 'k';\n",
       "    value += event.which.toString();\n",
       "\n",
       "    this._key_event_extra(event, name);\n",
       "\n",
       "    this.send_message(name, {key: value,\n",
       "                             guiEvent: simpleKeys(event)});\n",
       "    return false;\n",
       "}\n",
       "\n",
       "mpl.figure.prototype.toolbar_button_onclick = function(name) {\n",
       "    if (name == 'download') {\n",
       "        this.handle_save(this, null);\n",
       "    } else {\n",
       "        this.send_message(\"toolbar_button\", {name: name});\n",
       "    }\n",
       "};\n",
       "\n",
       "mpl.figure.prototype.toolbar_button_onmouseover = function(tooltip) {\n",
       "    this.message.textContent = tooltip;\n",
       "};\n",
       "mpl.toolbar_items = [[\"Home\", \"Reset original view\", \"fa fa-home icon-home\", \"home\"], [\"Back\", \"Back to previous view\", \"fa fa-arrow-left icon-arrow-left\", \"back\"], [\"Forward\", \"Forward to next view\", \"fa fa-arrow-right icon-arrow-right\", \"forward\"], [\"\", \"\", \"\", \"\"], [\"Pan\", \"Pan axes with left mouse, zoom with right\", \"fa fa-arrows icon-move\", \"pan\"], [\"Zoom\", \"Zoom to rectangle\", \"fa fa-square-o icon-check-empty\", \"zoom\"], [\"\", \"\", \"\", \"\"], [\"Download\", \"Download plot\", \"fa fa-floppy-o icon-save\", \"download\"]];\n",
       "\n",
       "mpl.extensions = [\"eps\", \"jpeg\", \"pdf\", \"png\", \"ps\", \"raw\", \"svg\", \"tif\"];\n",
       "\n",
       "mpl.default_extension = \"png\";var comm_websocket_adapter = function(comm) {\n",
       "    // Create a \"websocket\"-like object which calls the given IPython comm\n",
       "    // object with the appropriate methods. Currently this is a non binary\n",
       "    // socket, so there is still some room for performance tuning.\n",
       "    var ws = {};\n",
       "\n",
       "    ws.close = function() {\n",
       "        comm.close()\n",
       "    };\n",
       "    ws.send = function(m) {\n",
       "        //console.log('sending', m);\n",
       "        comm.send(m);\n",
       "    };\n",
       "    // Register the callback with on_msg.\n",
       "    comm.on_msg(function(msg) {\n",
       "        //console.log('receiving', msg['content']['data'], msg);\n",
       "        // Pass the mpl event to the overridden (by mpl) onmessage function.\n",
       "        ws.onmessage(msg['content']['data'])\n",
       "    });\n",
       "    return ws;\n",
       "}\n",
       "\n",
       "mpl.mpl_figure_comm = function(comm, msg) {\n",
       "    // This is the function which gets called when the mpl process\n",
       "    // starts-up an IPython Comm through the \"matplotlib\" channel.\n",
       "\n",
       "    var id = msg.content.data.id;\n",
       "    // Get hold of the div created by the display call when the Comm\n",
       "    // socket was opened in Python.\n",
       "    var element = $(\"#\" + id);\n",
       "    var ws_proxy = comm_websocket_adapter(comm)\n",
       "\n",
       "    function ondownload(figure, format) {\n",
       "        window.open(figure.imageObj.src);\n",
       "    }\n",
       "\n",
       "    var fig = new mpl.figure(id, ws_proxy,\n",
       "                           ondownload,\n",
       "                           element.get(0));\n",
       "\n",
       "    // Call onopen now - mpl needs it, as it is assuming we've passed it a real\n",
       "    // web socket which is closed, not our websocket->open comm proxy.\n",
       "    ws_proxy.onopen();\n",
       "\n",
       "    fig.parent_element = element.get(0);\n",
       "    fig.cell_info = mpl.find_output_cell(\"<div id='\" + id + \"'></div>\");\n",
       "    if (!fig.cell_info) {\n",
       "        console.error(\"Failed to find cell for figure\", id, fig);\n",
       "        return;\n",
       "    }\n",
       "\n",
       "    var output_index = fig.cell_info[2]\n",
       "    var cell = fig.cell_info[0];\n",
       "\n",
       "};\n",
       "\n",
       "mpl.figure.prototype.handle_close = function(fig, msg) {\n",
       "    var width = fig.canvas.width/mpl.ratio\n",
       "    fig.root.unbind('remove')\n",
       "\n",
       "    // Update the output cell to use the data from the current canvas.\n",
       "    fig.push_to_output();\n",
       "    var dataURL = fig.canvas.toDataURL();\n",
       "    // Re-enable the keyboard manager in IPython - without this line, in FF,\n",
       "    // the notebook keyboard shortcuts fail.\n",
       "    IPython.keyboard_manager.enable()\n",
       "    $(fig.parent_element).html('<img src=\"' + dataURL + '\" width=\"' + width + '\">');\n",
       "    fig.close_ws(fig, msg);\n",
       "}\n",
       "\n",
       "mpl.figure.prototype.close_ws = function(fig, msg){\n",
       "    fig.send_message('closing', msg);\n",
       "    // fig.ws.close()\n",
       "}\n",
       "\n",
       "mpl.figure.prototype.push_to_output = function(remove_interactive) {\n",
       "    // Turn the data on the canvas into data in the output cell.\n",
       "    var width = this.canvas.width/mpl.ratio\n",
       "    var dataURL = this.canvas.toDataURL();\n",
       "    this.cell_info[1]['text/html'] = '<img src=\"' + dataURL + '\" width=\"' + width + '\">';\n",
       "}\n",
       "\n",
       "mpl.figure.prototype.updated_canvas_event = function() {\n",
       "    // Tell IPython that the notebook contents must change.\n",
       "    IPython.notebook.set_dirty(true);\n",
       "    this.send_message(\"ack\", {});\n",
       "    var fig = this;\n",
       "    // Wait a second, then push the new image to the DOM so\n",
       "    // that it is saved nicely (might be nice to debounce this).\n",
       "    setTimeout(function () { fig.push_to_output() }, 1000);\n",
       "}\n",
       "\n",
       "mpl.figure.prototype._init_toolbar = function() {\n",
       "    var fig = this;\n",
       "\n",
       "    var nav_element = $('<div/>');\n",
       "    nav_element.attr('style', 'width: 100%');\n",
       "    this.root.append(nav_element);\n",
       "\n",
       "    // Define a callback function for later on.\n",
       "    function toolbar_event(event) {\n",
       "        return fig.toolbar_button_onclick(event['data']);\n",
       "    }\n",
       "    function toolbar_mouse_event(event) {\n",
       "        return fig.toolbar_button_onmouseover(event['data']);\n",
       "    }\n",
       "\n",
       "    for(var toolbar_ind in mpl.toolbar_items){\n",
       "        var name = mpl.toolbar_items[toolbar_ind][0];\n",
       "        var tooltip = mpl.toolbar_items[toolbar_ind][1];\n",
       "        var image = mpl.toolbar_items[toolbar_ind][2];\n",
       "        var method_name = mpl.toolbar_items[toolbar_ind][3];\n",
       "\n",
       "        if (!name) { continue; };\n",
       "\n",
       "        var button = $('<button class=\"btn btn-default\" href=\"#\" title=\"' + name + '\"><i class=\"fa ' + image + ' fa-lg\"></i></button>');\n",
       "        button.click(method_name, toolbar_event);\n",
       "        button.mouseover(tooltip, toolbar_mouse_event);\n",
       "        nav_element.append(button);\n",
       "    }\n",
       "\n",
       "    // Add the status bar.\n",
       "    var status_bar = $('<span class=\"mpl-message\" style=\"text-align:right; float: right;\"/>');\n",
       "    nav_element.append(status_bar);\n",
       "    this.message = status_bar[0];\n",
       "\n",
       "    // Add the close button to the window.\n",
       "    var buttongrp = $('<div class=\"btn-group inline pull-right\"></div>');\n",
       "    var button = $('<button class=\"btn btn-mini btn-primary\" href=\"#\" title=\"Stop Interaction\"><i class=\"fa fa-power-off icon-remove icon-large\"></i></button>');\n",
       "    button.click(function (evt) { fig.handle_close(fig, {}); } );\n",
       "    button.mouseover('Stop Interaction', toolbar_mouse_event);\n",
       "    buttongrp.append(button);\n",
       "    var titlebar = this.root.find($('.ui-dialog-titlebar'));\n",
       "    titlebar.prepend(buttongrp);\n",
       "}\n",
       "\n",
       "mpl.figure.prototype._root_extra_style = function(el){\n",
       "    var fig = this\n",
       "    el.on(\"remove\", function(){\n",
       "\tfig.close_ws(fig, {});\n",
       "    });\n",
       "}\n",
       "\n",
       "mpl.figure.prototype._canvas_extra_style = function(el){\n",
       "    // this is important to make the div 'focusable\n",
       "    el.attr('tabindex', 0)\n",
       "    // reach out to IPython and tell the keyboard manager to turn it's self\n",
       "    // off when our div gets focus\n",
       "\n",
       "    // location in version 3\n",
       "    if (IPython.notebook.keyboard_manager) {\n",
       "        IPython.notebook.keyboard_manager.register_events(el);\n",
       "    }\n",
       "    else {\n",
       "        // location in version 2\n",
       "        IPython.keyboard_manager.register_events(el);\n",
       "    }\n",
       "\n",
       "}\n",
       "\n",
       "mpl.figure.prototype._key_event_extra = function(event, name) {\n",
       "    var manager = IPython.notebook.keyboard_manager;\n",
       "    if (!manager)\n",
       "        manager = IPython.keyboard_manager;\n",
       "\n",
       "    // Check for shift+enter\n",
       "    if (event.shiftKey && event.which == 13) {\n",
       "        this.canvas_div.blur();\n",
       "        event.shiftKey = false;\n",
       "        // Send a \"J\" for go to next cell\n",
       "        event.which = 74;\n",
       "        event.keyCode = 74;\n",
       "        manager.command_mode();\n",
       "        manager.handle_keydown(event);\n",
       "    }\n",
       "}\n",
       "\n",
       "mpl.figure.prototype.handle_save = function(fig, msg) {\n",
       "    fig.ondownload(fig, null);\n",
       "}\n",
       "\n",
       "\n",
       "mpl.find_output_cell = function(html_output) {\n",
       "    // Return the cell and output element which can be found *uniquely* in the notebook.\n",
       "    // Note - this is a bit hacky, but it is done because the \"notebook_saving.Notebook\"\n",
       "    // IPython event is triggered only after the cells have been serialised, which for\n",
       "    // our purposes (turning an active figure into a static one), is too late.\n",
       "    var cells = IPython.notebook.get_cells();\n",
       "    var ncells = cells.length;\n",
       "    for (var i=0; i<ncells; i++) {\n",
       "        var cell = cells[i];\n",
       "        if (cell.cell_type === 'code'){\n",
       "            for (var j=0; j<cell.output_area.outputs.length; j++) {\n",
       "                var data = cell.output_area.outputs[j];\n",
       "                if (data.data) {\n",
       "                    // IPython >= 3 moved mimebundle to data attribute of output\n",
       "                    data = data.data;\n",
       "                }\n",
       "                if (data['text/html'] == html_output) {\n",
       "                    return [cell, data, j];\n",
       "                }\n",
       "            }\n",
       "        }\n",
       "    }\n",
       "}\n",
       "\n",
       "// Register the function which deals with the matplotlib target/channel.\n",
       "// The kernel may be null if the page has been refreshed.\n",
       "if (IPython.notebook.kernel != null) {\n",
       "    IPython.notebook.kernel.comm_manager.register_target('matplotlib', mpl.mpl_figure_comm);\n",
       "}\n"
      ],
      "text/plain": [
       "<IPython.core.display.Javascript object>"
      ]
     },
     "metadata": {},
     "output_type": "display_data"
    },
    {
     "data": {
      "text/html": [
       "<img src=\"data:image/png;base64,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\" width=\"640\">"
      ],
      "text/plain": [
       "<IPython.core.display.HTML object>"
      ]
     },
     "metadata": {},
     "output_type": "display_data"
    },
    {
     "data": {
      "text/plain": [
       "<matplotlib.collections.QuadMesh at 0x7f61840d24d0>"
      ]
     },
     "execution_count": 8,
     "metadata": {},
     "output_type": "execute_result"
    }
   ],
   "source": [
    "%matplotlib notebook\n",
    "gradient.plot()"
   ]
  },
  {
   "cell_type": "code",
   "execution_count": 21,
   "metadata": {
    "ExecuteTime": {
     "end_time": "2020-08-20T01:03:37.830735Z",
     "start_time": "2020-08-20T01:03:37.798211Z"
    }
   },
   "outputs": [
    {
     "data": {
      "application/javascript": [
       "/* Put everything inside the global mpl namespace */\n",
       "window.mpl = {};\n",
       "\n",
       "\n",
       "mpl.get_websocket_type = function() {\n",
       "    if (typeof(WebSocket) !== 'undefined') {\n",
       "        return WebSocket;\n",
       "    } else if (typeof(MozWebSocket) !== 'undefined') {\n",
       "        return MozWebSocket;\n",
       "    } else {\n",
       "        alert('Your browser does not have WebSocket support. ' +\n",
       "              'Please try Chrome, Safari or Firefox ≥ 6. ' +\n",
       "              'Firefox 4 and 5 are also supported but you ' +\n",
       "              'have to enable WebSockets in about:config.');\n",
       "    };\n",
       "}\n",
       "\n",
       "mpl.figure = function(figure_id, websocket, ondownload, parent_element) {\n",
       "    this.id = figure_id;\n",
       "\n",
       "    this.ws = websocket;\n",
       "\n",
       "    this.supports_binary = (this.ws.binaryType != undefined);\n",
       "\n",
       "    if (!this.supports_binary) {\n",
       "        var warnings = document.getElementById(\"mpl-warnings\");\n",
       "        if (warnings) {\n",
       "            warnings.style.display = 'block';\n",
       "            warnings.textContent = (\n",
       "                \"This browser does not support binary websocket messages. \" +\n",
       "                    \"Performance may be slow.\");\n",
       "        }\n",
       "    }\n",
       "\n",
       "    this.imageObj = new Image();\n",
       "\n",
       "    this.context = undefined;\n",
       "    this.message = undefined;\n",
       "    this.canvas = undefined;\n",
       "    this.rubberband_canvas = undefined;\n",
       "    this.rubberband_context = undefined;\n",
       "    this.format_dropdown = undefined;\n",
       "\n",
       "    this.image_mode = 'full';\n",
       "\n",
       "    this.root = $('<div/>');\n",
       "    this._root_extra_style(this.root)\n",
       "    this.root.attr('style', 'display: inline-block');\n",
       "\n",
       "    $(parent_element).append(this.root);\n",
       "\n",
       "    this._init_header(this);\n",
       "    this._init_canvas(this);\n",
       "    this._init_toolbar(this);\n",
       "\n",
       "    var fig = this;\n",
       "\n",
       "    this.waiting = false;\n",
       "\n",
       "    this.ws.onopen =  function () {\n",
       "            fig.send_message(\"supports_binary\", {value: fig.supports_binary});\n",
       "            fig.send_message(\"send_image_mode\", {});\n",
       "            if (mpl.ratio != 1) {\n",
       "                fig.send_message(\"set_dpi_ratio\", {'dpi_ratio': mpl.ratio});\n",
       "            }\n",
       "            fig.send_message(\"refresh\", {});\n",
       "        }\n",
       "\n",
       "    this.imageObj.onload = function() {\n",
       "            if (fig.image_mode == 'full') {\n",
       "                // Full images could contain transparency (where diff images\n",
       "                // almost always do), so we need to clear the canvas so that\n",
       "                // there is no ghosting.\n",
       "                fig.context.clearRect(0, 0, fig.canvas.width, fig.canvas.height);\n",
       "            }\n",
       "            fig.context.drawImage(fig.imageObj, 0, 0);\n",
       "        };\n",
       "\n",
       "    this.imageObj.onunload = function() {\n",
       "        fig.ws.close();\n",
       "    }\n",
       "\n",
       "    this.ws.onmessage = this._make_on_message_function(this);\n",
       "\n",
       "    this.ondownload = ondownload;\n",
       "}\n",
       "\n",
       "mpl.figure.prototype._init_header = function() {\n",
       "    var titlebar = $(\n",
       "        '<div class=\"ui-dialog-titlebar ui-widget-header ui-corner-all ' +\n",
       "        'ui-helper-clearfix\"/>');\n",
       "    var titletext = $(\n",
       "        '<div class=\"ui-dialog-title\" style=\"width: 100%; ' +\n",
       "        'text-align: center; padding: 3px;\"/>');\n",
       "    titlebar.append(titletext)\n",
       "    this.root.append(titlebar);\n",
       "    this.header = titletext[0];\n",
       "}\n",
       "\n",
       "\n",
       "\n",
       "mpl.figure.prototype._canvas_extra_style = function(canvas_div) {\n",
       "\n",
       "}\n",
       "\n",
       "\n",
       "mpl.figure.prototype._root_extra_style = function(canvas_div) {\n",
       "\n",
       "}\n",
       "\n",
       "mpl.figure.prototype._init_canvas = function() {\n",
       "    var fig = this;\n",
       "\n",
       "    var canvas_div = $('<div/>');\n",
       "\n",
       "    canvas_div.attr('style', 'position: relative; clear: both; outline: 0');\n",
       "\n",
       "    function canvas_keyboard_event(event) {\n",
       "        return fig.key_event(event, event['data']);\n",
       "    }\n",
       "\n",
       "    canvas_div.keydown('key_press', canvas_keyboard_event);\n",
       "    canvas_div.keyup('key_release', canvas_keyboard_event);\n",
       "    this.canvas_div = canvas_div\n",
       "    this._canvas_extra_style(canvas_div)\n",
       "    this.root.append(canvas_div);\n",
       "\n",
       "    var canvas = $('<canvas/>');\n",
       "    canvas.addClass('mpl-canvas');\n",
       "    canvas.attr('style', \"left: 0; top: 0; z-index: 0; outline: 0\")\n",
       "\n",
       "    this.canvas = canvas[0];\n",
       "    this.context = canvas[0].getContext(\"2d\");\n",
       "\n",
       "    var backingStore = this.context.backingStorePixelRatio ||\n",
       "\tthis.context.webkitBackingStorePixelRatio ||\n",
       "\tthis.context.mozBackingStorePixelRatio ||\n",
       "\tthis.context.msBackingStorePixelRatio ||\n",
       "\tthis.context.oBackingStorePixelRatio ||\n",
       "\tthis.context.backingStorePixelRatio || 1;\n",
       "\n",
       "    mpl.ratio = (window.devicePixelRatio || 1) / backingStore;\n",
       "\n",
       "    var rubberband = $('<canvas/>');\n",
       "    rubberband.attr('style', \"position: absolute; left: 0; top: 0; z-index: 1;\")\n",
       "\n",
       "    var pass_mouse_events = true;\n",
       "\n",
       "    canvas_div.resizable({\n",
       "        start: function(event, ui) {\n",
       "            pass_mouse_events = false;\n",
       "        },\n",
       "        resize: function(event, ui) {\n",
       "            fig.request_resize(ui.size.width, ui.size.height);\n",
       "        },\n",
       "        stop: function(event, ui) {\n",
       "            pass_mouse_events = true;\n",
       "            fig.request_resize(ui.size.width, ui.size.height);\n",
       "        },\n",
       "    });\n",
       "\n",
       "    function mouse_event_fn(event) {\n",
       "        if (pass_mouse_events)\n",
       "            return fig.mouse_event(event, event['data']);\n",
       "    }\n",
       "\n",
       "    rubberband.mousedown('button_press', mouse_event_fn);\n",
       "    rubberband.mouseup('button_release', mouse_event_fn);\n",
       "    // Throttle sequential mouse events to 1 every 20ms.\n",
       "    rubberband.mousemove('motion_notify', mouse_event_fn);\n",
       "\n",
       "    rubberband.mouseenter('figure_enter', mouse_event_fn);\n",
       "    rubberband.mouseleave('figure_leave', mouse_event_fn);\n",
       "\n",
       "    canvas_div.on(\"wheel\", function (event) {\n",
       "        event = event.originalEvent;\n",
       "        event['data'] = 'scroll'\n",
       "        if (event.deltaY < 0) {\n",
       "            event.step = 1;\n",
       "        } else {\n",
       "            event.step = -1;\n",
       "        }\n",
       "        mouse_event_fn(event);\n",
       "    });\n",
       "\n",
       "    canvas_div.append(canvas);\n",
       "    canvas_div.append(rubberband);\n",
       "\n",
       "    this.rubberband = rubberband;\n",
       "    this.rubberband_canvas = rubberband[0];\n",
       "    this.rubberband_context = rubberband[0].getContext(\"2d\");\n",
       "    this.rubberband_context.strokeStyle = \"#000000\";\n",
       "\n",
       "    this._resize_canvas = function(width, height) {\n",
       "        // Keep the size of the canvas, canvas container, and rubber band\n",
       "        // canvas in synch.\n",
       "        canvas_div.css('width', width)\n",
       "        canvas_div.css('height', height)\n",
       "\n",
       "        canvas.attr('width', width * mpl.ratio);\n",
       "        canvas.attr('height', height * mpl.ratio);\n",
       "        canvas.attr('style', 'width: ' + width + 'px; height: ' + height + 'px;');\n",
       "\n",
       "        rubberband.attr('width', width);\n",
       "        rubberband.attr('height', height);\n",
       "    }\n",
       "\n",
       "    // Set the figure to an initial 600x600px, this will subsequently be updated\n",
       "    // upon first draw.\n",
       "    this._resize_canvas(600, 600);\n",
       "\n",
       "    // Disable right mouse context menu.\n",
       "    $(this.rubberband_canvas).bind(\"contextmenu\",function(e){\n",
       "        return false;\n",
       "    });\n",
       "\n",
       "    function set_focus () {\n",
       "        canvas.focus();\n",
       "        canvas_div.focus();\n",
       "    }\n",
       "\n",
       "    window.setTimeout(set_focus, 100);\n",
       "}\n",
       "\n",
       "mpl.figure.prototype._init_toolbar = function() {\n",
       "    var fig = this;\n",
       "\n",
       "    var nav_element = $('<div/>');\n",
       "    nav_element.attr('style', 'width: 100%');\n",
       "    this.root.append(nav_element);\n",
       "\n",
       "    // Define a callback function for later on.\n",
       "    function toolbar_event(event) {\n",
       "        return fig.toolbar_button_onclick(event['data']);\n",
       "    }\n",
       "    function toolbar_mouse_event(event) {\n",
       "        return fig.toolbar_button_onmouseover(event['data']);\n",
       "    }\n",
       "\n",
       "    for(var toolbar_ind in mpl.toolbar_items) {\n",
       "        var name = mpl.toolbar_items[toolbar_ind][0];\n",
       "        var tooltip = mpl.toolbar_items[toolbar_ind][1];\n",
       "        var image = mpl.toolbar_items[toolbar_ind][2];\n",
       "        var method_name = mpl.toolbar_items[toolbar_ind][3];\n",
       "\n",
       "        if (!name) {\n",
       "            // put a spacer in here.\n",
       "            continue;\n",
       "        }\n",
       "        var button = $('<button/>');\n",
       "        button.addClass('ui-button ui-widget ui-state-default ui-corner-all ' +\n",
       "                        'ui-button-icon-only');\n",
       "        button.attr('role', 'button');\n",
       "        button.attr('aria-disabled', 'false');\n",
       "        button.click(method_name, toolbar_event);\n",
       "        button.mouseover(tooltip, toolbar_mouse_event);\n",
       "\n",
       "        var icon_img = $('<span/>');\n",
       "        icon_img.addClass('ui-button-icon-primary ui-icon');\n",
       "        icon_img.addClass(image);\n",
       "        icon_img.addClass('ui-corner-all');\n",
       "\n",
       "        var tooltip_span = $('<span/>');\n",
       "        tooltip_span.addClass('ui-button-text');\n",
       "        tooltip_span.html(tooltip);\n",
       "\n",
       "        button.append(icon_img);\n",
       "        button.append(tooltip_span);\n",
       "\n",
       "        nav_element.append(button);\n",
       "    }\n",
       "\n",
       "    var fmt_picker_span = $('<span/>');\n",
       "\n",
       "    var fmt_picker = $('<select/>');\n",
       "    fmt_picker.addClass('mpl-toolbar-option ui-widget ui-widget-content');\n",
       "    fmt_picker_span.append(fmt_picker);\n",
       "    nav_element.append(fmt_picker_span);\n",
       "    this.format_dropdown = fmt_picker[0];\n",
       "\n",
       "    for (var ind in mpl.extensions) {\n",
       "        var fmt = mpl.extensions[ind];\n",
       "        var option = $(\n",
       "            '<option/>', {selected: fmt === mpl.default_extension}).html(fmt);\n",
       "        fmt_picker.append(option);\n",
       "    }\n",
       "\n",
       "    // Add hover states to the ui-buttons\n",
       "    $( \".ui-button\" ).hover(\n",
       "        function() { $(this).addClass(\"ui-state-hover\");},\n",
       "        function() { $(this).removeClass(\"ui-state-hover\");}\n",
       "    );\n",
       "\n",
       "    var status_bar = $('<span class=\"mpl-message\"/>');\n",
       "    nav_element.append(status_bar);\n",
       "    this.message = status_bar[0];\n",
       "}\n",
       "\n",
       "mpl.figure.prototype.request_resize = function(x_pixels, y_pixels) {\n",
       "    // Request matplotlib to resize the figure. Matplotlib will then trigger a resize in the client,\n",
       "    // which will in turn request a refresh of the image.\n",
       "    this.send_message('resize', {'width': x_pixels, 'height': y_pixels});\n",
       "}\n",
       "\n",
       "mpl.figure.prototype.send_message = function(type, properties) {\n",
       "    properties['type'] = type;\n",
       "    properties['figure_id'] = this.id;\n",
       "    this.ws.send(JSON.stringify(properties));\n",
       "}\n",
       "\n",
       "mpl.figure.prototype.send_draw_message = function() {\n",
       "    if (!this.waiting) {\n",
       "        this.waiting = true;\n",
       "        this.ws.send(JSON.stringify({type: \"draw\", figure_id: this.id}));\n",
       "    }\n",
       "}\n",
       "\n",
       "\n",
       "mpl.figure.prototype.handle_save = function(fig, msg) {\n",
       "    var format_dropdown = fig.format_dropdown;\n",
       "    var format = format_dropdown.options[format_dropdown.selectedIndex].value;\n",
       "    fig.ondownload(fig, format);\n",
       "}\n",
       "\n",
       "\n",
       "mpl.figure.prototype.handle_resize = function(fig, msg) {\n",
       "    var size = msg['size'];\n",
       "    if (size[0] != fig.canvas.width || size[1] != fig.canvas.height) {\n",
       "        fig._resize_canvas(size[0], size[1]);\n",
       "        fig.send_message(\"refresh\", {});\n",
       "    };\n",
       "}\n",
       "\n",
       "mpl.figure.prototype.handle_rubberband = function(fig, msg) {\n",
       "    var x0 = msg['x0'] / mpl.ratio;\n",
       "    var y0 = (fig.canvas.height - msg['y0']) / mpl.ratio;\n",
       "    var x1 = msg['x1'] / mpl.ratio;\n",
       "    var y1 = (fig.canvas.height - msg['y1']) / mpl.ratio;\n",
       "    x0 = Math.floor(x0) + 0.5;\n",
       "    y0 = Math.floor(y0) + 0.5;\n",
       "    x1 = Math.floor(x1) + 0.5;\n",
       "    y1 = Math.floor(y1) + 0.5;\n",
       "    var min_x = Math.min(x0, x1);\n",
       "    var min_y = Math.min(y0, y1);\n",
       "    var width = Math.abs(x1 - x0);\n",
       "    var height = Math.abs(y1 - y0);\n",
       "\n",
       "    fig.rubberband_context.clearRect(\n",
       "        0, 0, fig.canvas.width / mpl.ratio, fig.canvas.height / mpl.ratio);\n",
       "\n",
       "    fig.rubberband_context.strokeRect(min_x, min_y, width, height);\n",
       "}\n",
       "\n",
       "mpl.figure.prototype.handle_figure_label = function(fig, msg) {\n",
       "    // Updates the figure title.\n",
       "    fig.header.textContent = msg['label'];\n",
       "}\n",
       "\n",
       "mpl.figure.prototype.handle_cursor = function(fig, msg) {\n",
       "    var cursor = msg['cursor'];\n",
       "    switch(cursor)\n",
       "    {\n",
       "    case 0:\n",
       "        cursor = 'pointer';\n",
       "        break;\n",
       "    case 1:\n",
       "        cursor = 'default';\n",
       "        break;\n",
       "    case 2:\n",
       "        cursor = 'crosshair';\n",
       "        break;\n",
       "    case 3:\n",
       "        cursor = 'move';\n",
       "        break;\n",
       "    }\n",
       "    fig.rubberband_canvas.style.cursor = cursor;\n",
       "}\n",
       "\n",
       "mpl.figure.prototype.handle_message = function(fig, msg) {\n",
       "    fig.message.textContent = msg['message'];\n",
       "}\n",
       "\n",
       "mpl.figure.prototype.handle_draw = function(fig, msg) {\n",
       "    // Request the server to send over a new figure.\n",
       "    fig.send_draw_message();\n",
       "}\n",
       "\n",
       "mpl.figure.prototype.handle_image_mode = function(fig, msg) {\n",
       "    fig.image_mode = msg['mode'];\n",
       "}\n",
       "\n",
       "mpl.figure.prototype.updated_canvas_event = function() {\n",
       "    // Called whenever the canvas gets updated.\n",
       "    this.send_message(\"ack\", {});\n",
       "}\n",
       "\n",
       "// A function to construct a web socket function for onmessage handling.\n",
       "// Called in the figure constructor.\n",
       "mpl.figure.prototype._make_on_message_function = function(fig) {\n",
       "    return function socket_on_message(evt) {\n",
       "        if (evt.data instanceof Blob) {\n",
       "            /* FIXME: We get \"Resource interpreted as Image but\n",
       "             * transferred with MIME type text/plain:\" errors on\n",
       "             * Chrome.  But how to set the MIME type?  It doesn't seem\n",
       "             * to be part of the websocket stream */\n",
       "            evt.data.type = \"image/png\";\n",
       "\n",
       "            /* Free the memory for the previous frames */\n",
       "            if (fig.imageObj.src) {\n",
       "                (window.URL || window.webkitURL).revokeObjectURL(\n",
       "                    fig.imageObj.src);\n",
       "            }\n",
       "\n",
       "            fig.imageObj.src = (window.URL || window.webkitURL).createObjectURL(\n",
       "                evt.data);\n",
       "            fig.updated_canvas_event();\n",
       "            fig.waiting = false;\n",
       "            return;\n",
       "        }\n",
       "        else if (typeof evt.data === 'string' && evt.data.slice(0, 21) == \"data:image/png;base64\") {\n",
       "            fig.imageObj.src = evt.data;\n",
       "            fig.updated_canvas_event();\n",
       "            fig.waiting = false;\n",
       "            return;\n",
       "        }\n",
       "\n",
       "        var msg = JSON.parse(evt.data);\n",
       "        var msg_type = msg['type'];\n",
       "\n",
       "        // Call the  \"handle_{type}\" callback, which takes\n",
       "        // the figure and JSON message as its only arguments.\n",
       "        try {\n",
       "            var callback = fig[\"handle_\" + msg_type];\n",
       "        } catch (e) {\n",
       "            console.log(\"No handler for the '\" + msg_type + \"' message type: \", msg);\n",
       "            return;\n",
       "        }\n",
       "\n",
       "        if (callback) {\n",
       "            try {\n",
       "                // console.log(\"Handling '\" + msg_type + \"' message: \", msg);\n",
       "                callback(fig, msg);\n",
       "            } catch (e) {\n",
       "                console.log(\"Exception inside the 'handler_\" + msg_type + \"' callback:\", e, e.stack, msg);\n",
       "            }\n",
       "        }\n",
       "    };\n",
       "}\n",
       "\n",
       "// from http://stackoverflow.com/questions/1114465/getting-mouse-location-in-canvas\n",
       "mpl.findpos = function(e) {\n",
       "    //this section is from http://www.quirksmode.org/js/events_properties.html\n",
       "    var targ;\n",
       "    if (!e)\n",
       "        e = window.event;\n",
       "    if (e.target)\n",
       "        targ = e.target;\n",
       "    else if (e.srcElement)\n",
       "        targ = e.srcElement;\n",
       "    if (targ.nodeType == 3) // defeat Safari bug\n",
       "        targ = targ.parentNode;\n",
       "\n",
       "    // jQuery normalizes the pageX and pageY\n",
       "    // pageX,Y are the mouse positions relative to the document\n",
       "    // offset() returns the position of the element relative to the document\n",
       "    var x = e.pageX - $(targ).offset().left;\n",
       "    var y = e.pageY - $(targ).offset().top;\n",
       "\n",
       "    return {\"x\": x, \"y\": y};\n",
       "};\n",
       "\n",
       "/*\n",
       " * return a copy of an object with only non-object keys\n",
       " * we need this to avoid circular references\n",
       " * http://stackoverflow.com/a/24161582/3208463\n",
       " */\n",
       "function simpleKeys (original) {\n",
       "  return Object.keys(original).reduce(function (obj, key) {\n",
       "    if (typeof original[key] !== 'object')\n",
       "        obj[key] = original[key]\n",
       "    return obj;\n",
       "  }, {});\n",
       "}\n",
       "\n",
       "mpl.figure.prototype.mouse_event = function(event, name) {\n",
       "    var canvas_pos = mpl.findpos(event)\n",
       "\n",
       "    if (name === 'button_press')\n",
       "    {\n",
       "        this.canvas.focus();\n",
       "        this.canvas_div.focus();\n",
       "    }\n",
       "\n",
       "    var x = canvas_pos.x * mpl.ratio;\n",
       "    var y = canvas_pos.y * mpl.ratio;\n",
       "\n",
       "    this.send_message(name, {x: x, y: y, button: event.button,\n",
       "                             step: event.step,\n",
       "                             guiEvent: simpleKeys(event)});\n",
       "\n",
       "    /* This prevents the web browser from automatically changing to\n",
       "     * the text insertion cursor when the button is pressed.  We want\n",
       "     * to control all of the cursor setting manually through the\n",
       "     * 'cursor' event from matplotlib */\n",
       "    event.preventDefault();\n",
       "    return false;\n",
       "}\n",
       "\n",
       "mpl.figure.prototype._key_event_extra = function(event, name) {\n",
       "    // Handle any extra behaviour associated with a key event\n",
       "}\n",
       "\n",
       "mpl.figure.prototype.key_event = function(event, name) {\n",
       "\n",
       "    // Prevent repeat events\n",
       "    if (name == 'key_press')\n",
       "    {\n",
       "        if (event.which === this._key)\n",
       "            return;\n",
       "        else\n",
       "            this._key = event.which;\n",
       "    }\n",
       "    if (name == 'key_release')\n",
       "        this._key = null;\n",
       "\n",
       "    var value = '';\n",
       "    if (event.ctrlKey && event.which != 17)\n",
       "        value += \"ctrl+\";\n",
       "    if (event.altKey && event.which != 18)\n",
       "        value += \"alt+\";\n",
       "    if (event.shiftKey && event.which != 16)\n",
       "        value += \"shift+\";\n",
       "\n",
       "    value += 'k';\n",
       "    value += event.which.toString();\n",
       "\n",
       "    this._key_event_extra(event, name);\n",
       "\n",
       "    this.send_message(name, {key: value,\n",
       "                             guiEvent: simpleKeys(event)});\n",
       "    return false;\n",
       "}\n",
       "\n",
       "mpl.figure.prototype.toolbar_button_onclick = function(name) {\n",
       "    if (name == 'download') {\n",
       "        this.handle_save(this, null);\n",
       "    } else {\n",
       "        this.send_message(\"toolbar_button\", {name: name});\n",
       "    }\n",
       "};\n",
       "\n",
       "mpl.figure.prototype.toolbar_button_onmouseover = function(tooltip) {\n",
       "    this.message.textContent = tooltip;\n",
       "};\n",
       "mpl.toolbar_items = [[\"Home\", \"Reset original view\", \"fa fa-home icon-home\", \"home\"], [\"Back\", \"Back to previous view\", \"fa fa-arrow-left icon-arrow-left\", \"back\"], [\"Forward\", \"Forward to next view\", \"fa fa-arrow-right icon-arrow-right\", \"forward\"], [\"\", \"\", \"\", \"\"], [\"Pan\", \"Pan axes with left mouse, zoom with right\", \"fa fa-arrows icon-move\", \"pan\"], [\"Zoom\", \"Zoom to rectangle\", \"fa fa-square-o icon-check-empty\", \"zoom\"], [\"\", \"\", \"\", \"\"], [\"Download\", \"Download plot\", \"fa fa-floppy-o icon-save\", \"download\"]];\n",
       "\n",
       "mpl.extensions = [\"eps\", \"jpeg\", \"pdf\", \"png\", \"ps\", \"raw\", \"svg\", \"tif\"];\n",
       "\n",
       "mpl.default_extension = \"png\";var comm_websocket_adapter = function(comm) {\n",
       "    // Create a \"websocket\"-like object which calls the given IPython comm\n",
       "    // object with the appropriate methods. Currently this is a non binary\n",
       "    // socket, so there is still some room for performance tuning.\n",
       "    var ws = {};\n",
       "\n",
       "    ws.close = function() {\n",
       "        comm.close()\n",
       "    };\n",
       "    ws.send = function(m) {\n",
       "        //console.log('sending', m);\n",
       "        comm.send(m);\n",
       "    };\n",
       "    // Register the callback with on_msg.\n",
       "    comm.on_msg(function(msg) {\n",
       "        //console.log('receiving', msg['content']['data'], msg);\n",
       "        // Pass the mpl event to the overridden (by mpl) onmessage function.\n",
       "        ws.onmessage(msg['content']['data'])\n",
       "    });\n",
       "    return ws;\n",
       "}\n",
       "\n",
       "mpl.mpl_figure_comm = function(comm, msg) {\n",
       "    // This is the function which gets called when the mpl process\n",
       "    // starts-up an IPython Comm through the \"matplotlib\" channel.\n",
       "\n",
       "    var id = msg.content.data.id;\n",
       "    // Get hold of the div created by the display call when the Comm\n",
       "    // socket was opened in Python.\n",
       "    var element = $(\"#\" + id);\n",
       "    var ws_proxy = comm_websocket_adapter(comm)\n",
       "\n",
       "    function ondownload(figure, format) {\n",
       "        window.open(figure.imageObj.src);\n",
       "    }\n",
       "\n",
       "    var fig = new mpl.figure(id, ws_proxy,\n",
       "                           ondownload,\n",
       "                           element.get(0));\n",
       "\n",
       "    // Call onopen now - mpl needs it, as it is assuming we've passed it a real\n",
       "    // web socket which is closed, not our websocket->open comm proxy.\n",
       "    ws_proxy.onopen();\n",
       "\n",
       "    fig.parent_element = element.get(0);\n",
       "    fig.cell_info = mpl.find_output_cell(\"<div id='\" + id + \"'></div>\");\n",
       "    if (!fig.cell_info) {\n",
       "        console.error(\"Failed to find cell for figure\", id, fig);\n",
       "        return;\n",
       "    }\n",
       "\n",
       "    var output_index = fig.cell_info[2]\n",
       "    var cell = fig.cell_info[0];\n",
       "\n",
       "};\n",
       "\n",
       "mpl.figure.prototype.handle_close = function(fig, msg) {\n",
       "    var width = fig.canvas.width/mpl.ratio\n",
       "    fig.root.unbind('remove')\n",
       "\n",
       "    // Update the output cell to use the data from the current canvas.\n",
       "    fig.push_to_output();\n",
       "    var dataURL = fig.canvas.toDataURL();\n",
       "    // Re-enable the keyboard manager in IPython - without this line, in FF,\n",
       "    // the notebook keyboard shortcuts fail.\n",
       "    IPython.keyboard_manager.enable()\n",
       "    $(fig.parent_element).html('<img src=\"' + dataURL + '\" width=\"' + width + '\">');\n",
       "    fig.close_ws(fig, msg);\n",
       "}\n",
       "\n",
       "mpl.figure.prototype.close_ws = function(fig, msg){\n",
       "    fig.send_message('closing', msg);\n",
       "    // fig.ws.close()\n",
       "}\n",
       "\n",
       "mpl.figure.prototype.push_to_output = function(remove_interactive) {\n",
       "    // Turn the data on the canvas into data in the output cell.\n",
       "    var width = this.canvas.width/mpl.ratio\n",
       "    var dataURL = this.canvas.toDataURL();\n",
       "    this.cell_info[1]['text/html'] = '<img src=\"' + dataURL + '\" width=\"' + width + '\">';\n",
       "}\n",
       "\n",
       "mpl.figure.prototype.updated_canvas_event = function() {\n",
       "    // Tell IPython that the notebook contents must change.\n",
       "    IPython.notebook.set_dirty(true);\n",
       "    this.send_message(\"ack\", {});\n",
       "    var fig = this;\n",
       "    // Wait a second, then push the new image to the DOM so\n",
       "    // that it is saved nicely (might be nice to debounce this).\n",
       "    setTimeout(function () { fig.push_to_output() }, 1000);\n",
       "}\n",
       "\n",
       "mpl.figure.prototype._init_toolbar = function() {\n",
       "    var fig = this;\n",
       "\n",
       "    var nav_element = $('<div/>');\n",
       "    nav_element.attr('style', 'width: 100%');\n",
       "    this.root.append(nav_element);\n",
       "\n",
       "    // Define a callback function for later on.\n",
       "    function toolbar_event(event) {\n",
       "        return fig.toolbar_button_onclick(event['data']);\n",
       "    }\n",
       "    function toolbar_mouse_event(event) {\n",
       "        return fig.toolbar_button_onmouseover(event['data']);\n",
       "    }\n",
       "\n",
       "    for(var toolbar_ind in mpl.toolbar_items){\n",
       "        var name = mpl.toolbar_items[toolbar_ind][0];\n",
       "        var tooltip = mpl.toolbar_items[toolbar_ind][1];\n",
       "        var image = mpl.toolbar_items[toolbar_ind][2];\n",
       "        var method_name = mpl.toolbar_items[toolbar_ind][3];\n",
       "\n",
       "        if (!name) { continue; };\n",
       "\n",
       "        var button = $('<button class=\"btn btn-default\" href=\"#\" title=\"' + name + '\"><i class=\"fa ' + image + ' fa-lg\"></i></button>');\n",
       "        button.click(method_name, toolbar_event);\n",
       "        button.mouseover(tooltip, toolbar_mouse_event);\n",
       "        nav_element.append(button);\n",
       "    }\n",
       "\n",
       "    // Add the status bar.\n",
       "    var status_bar = $('<span class=\"mpl-message\" style=\"text-align:right; float: right;\"/>');\n",
       "    nav_element.append(status_bar);\n",
       "    this.message = status_bar[0];\n",
       "\n",
       "    // Add the close button to the window.\n",
       "    var buttongrp = $('<div class=\"btn-group inline pull-right\"></div>');\n",
       "    var button = $('<button class=\"btn btn-mini btn-primary\" href=\"#\" title=\"Stop Interaction\"><i class=\"fa fa-power-off icon-remove icon-large\"></i></button>');\n",
       "    button.click(function (evt) { fig.handle_close(fig, {}); } );\n",
       "    button.mouseover('Stop Interaction', toolbar_mouse_event);\n",
       "    buttongrp.append(button);\n",
       "    var titlebar = this.root.find($('.ui-dialog-titlebar'));\n",
       "    titlebar.prepend(buttongrp);\n",
       "}\n",
       "\n",
       "mpl.figure.prototype._root_extra_style = function(el){\n",
       "    var fig = this\n",
       "    el.on(\"remove\", function(){\n",
       "\tfig.close_ws(fig, {});\n",
       "    });\n",
       "}\n",
       "\n",
       "mpl.figure.prototype._canvas_extra_style = function(el){\n",
       "    // this is important to make the div 'focusable\n",
       "    el.attr('tabindex', 0)\n",
       "    // reach out to IPython and tell the keyboard manager to turn it's self\n",
       "    // off when our div gets focus\n",
       "\n",
       "    // location in version 3\n",
       "    if (IPython.notebook.keyboard_manager) {\n",
       "        IPython.notebook.keyboard_manager.register_events(el);\n",
       "    }\n",
       "    else {\n",
       "        // location in version 2\n",
       "        IPython.keyboard_manager.register_events(el);\n",
       "    }\n",
       "\n",
       "}\n",
       "\n",
       "mpl.figure.prototype._key_event_extra = function(event, name) {\n",
       "    var manager = IPython.notebook.keyboard_manager;\n",
       "    if (!manager)\n",
       "        manager = IPython.keyboard_manager;\n",
       "\n",
       "    // Check for shift+enter\n",
       "    if (event.shiftKey && event.which == 13) {\n",
       "        this.canvas_div.blur();\n",
       "        event.shiftKey = false;\n",
       "        // Send a \"J\" for go to next cell\n",
       "        event.which = 74;\n",
       "        event.keyCode = 74;\n",
       "        manager.command_mode();\n",
       "        manager.handle_keydown(event);\n",
       "    }\n",
       "}\n",
       "\n",
       "mpl.figure.prototype.handle_save = function(fig, msg) {\n",
       "    fig.ondownload(fig, null);\n",
       "}\n",
       "\n",
       "\n",
       "mpl.find_output_cell = function(html_output) {\n",
       "    // Return the cell and output element which can be found *uniquely* in the notebook.\n",
       "    // Note - this is a bit hacky, but it is done because the \"notebook_saving.Notebook\"\n",
       "    // IPython event is triggered only after the cells have been serialised, which for\n",
       "    // our purposes (turning an active figure into a static one), is too late.\n",
       "    var cells = IPython.notebook.get_cells();\n",
       "    var ncells = cells.length;\n",
       "    for (var i=0; i<ncells; i++) {\n",
       "        var cell = cells[i];\n",
       "        if (cell.cell_type === 'code'){\n",
       "            for (var j=0; j<cell.output_area.outputs.length; j++) {\n",
       "                var data = cell.output_area.outputs[j];\n",
       "                if (data.data) {\n",
       "                    // IPython >= 3 moved mimebundle to data attribute of output\n",
       "                    data = data.data;\n",
       "                }\n",
       "                if (data['text/html'] == html_output) {\n",
       "                    return [cell, data, j];\n",
       "                }\n",
       "            }\n",
       "        }\n",
       "    }\n",
       "}\n",
       "\n",
       "// Register the function which deals with the matplotlib target/channel.\n",
       "// The kernel may be null if the page has been refreshed.\n",
       "if (IPython.notebook.kernel != null) {\n",
       "    IPython.notebook.kernel.comm_manager.register_target('matplotlib', mpl.mpl_figure_comm);\n",
       "}\n"
      ],
      "text/plain": [
       "<IPython.core.display.Javascript object>"
      ]
     },
     "metadata": {},
     "output_type": "display_data"
    },
    {
     "data": {
      "text/html": [
       "<img src=\"data:image/png;base64,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\" width=\"640\">"
      ],
      "text/plain": [
       "<IPython.core.display.HTML object>"
      ]
     },
     "metadata": {},
     "output_type": "display_data"
    },
    {
     "data": {
      "text/plain": [
       "<matplotlib.animation.FuncAnimation at 0x7f6158da2a50>"
      ]
     },
     "execution_count": 21,
     "metadata": {},
     "output_type": "execute_result"
    }
   ],
   "source": [
    "%matplotlib notebook\n",
    "adjoint.noisy_methods.get_animation(vmin=-0.01, vmax=0.01)"
   ]
  },
  {
   "cell_type": "code",
   "execution_count": 15,
   "metadata": {
    "ExecuteTime": {
     "end_time": "2020-08-20T01:02:09.896636Z",
     "start_time": "2020-08-20T01:02:09.328769Z"
    }
   },
   "outputs": [],
   "source": [
    "gradient_new = solver.get_spatial_angle_gradient(synthetic_movie, adjoint)"
   ]
  },
  {
   "cell_type": "code",
   "execution_count": 16,
   "metadata": {
    "ExecuteTime": {
     "end_time": "2020-08-20T01:02:10.237859Z",
     "start_time": "2020-08-20T01:02:10.197685Z"
    }
   },
   "outputs": [
    {
     "data": {
      "application/javascript": [
       "/* Put everything inside the global mpl namespace */\n",
       "window.mpl = {};\n",
       "\n",
       "\n",
       "mpl.get_websocket_type = function() {\n",
       "    if (typeof(WebSocket) !== 'undefined') {\n",
       "        return WebSocket;\n",
       "    } else if (typeof(MozWebSocket) !== 'undefined') {\n",
       "        return MozWebSocket;\n",
       "    } else {\n",
       "        alert('Your browser does not have WebSocket support. ' +\n",
       "              'Please try Chrome, Safari or Firefox ≥ 6. ' +\n",
       "              'Firefox 4 and 5 are also supported but you ' +\n",
       "              'have to enable WebSockets in about:config.');\n",
       "    };\n",
       "}\n",
       "\n",
       "mpl.figure = function(figure_id, websocket, ondownload, parent_element) {\n",
       "    this.id = figure_id;\n",
       "\n",
       "    this.ws = websocket;\n",
       "\n",
       "    this.supports_binary = (this.ws.binaryType != undefined);\n",
       "\n",
       "    if (!this.supports_binary) {\n",
       "        var warnings = document.getElementById(\"mpl-warnings\");\n",
       "        if (warnings) {\n",
       "            warnings.style.display = 'block';\n",
       "            warnings.textContent = (\n",
       "                \"This browser does not support binary websocket messages. \" +\n",
       "                    \"Performance may be slow.\");\n",
       "        }\n",
       "    }\n",
       "\n",
       "    this.imageObj = new Image();\n",
       "\n",
       "    this.context = undefined;\n",
       "    this.message = undefined;\n",
       "    this.canvas = undefined;\n",
       "    this.rubberband_canvas = undefined;\n",
       "    this.rubberband_context = undefined;\n",
       "    this.format_dropdown = undefined;\n",
       "\n",
       "    this.image_mode = 'full';\n",
       "\n",
       "    this.root = $('<div/>');\n",
       "    this._root_extra_style(this.root)\n",
       "    this.root.attr('style', 'display: inline-block');\n",
       "\n",
       "    $(parent_element).append(this.root);\n",
       "\n",
       "    this._init_header(this);\n",
       "    this._init_canvas(this);\n",
       "    this._init_toolbar(this);\n",
       "\n",
       "    var fig = this;\n",
       "\n",
       "    this.waiting = false;\n",
       "\n",
       "    this.ws.onopen =  function () {\n",
       "            fig.send_message(\"supports_binary\", {value: fig.supports_binary});\n",
       "            fig.send_message(\"send_image_mode\", {});\n",
       "            if (mpl.ratio != 1) {\n",
       "                fig.send_message(\"set_dpi_ratio\", {'dpi_ratio': mpl.ratio});\n",
       "            }\n",
       "            fig.send_message(\"refresh\", {});\n",
       "        }\n",
       "\n",
       "    this.imageObj.onload = function() {\n",
       "            if (fig.image_mode == 'full') {\n",
       "                // Full images could contain transparency (where diff images\n",
       "                // almost always do), so we need to clear the canvas so that\n",
       "                // there is no ghosting.\n",
       "                fig.context.clearRect(0, 0, fig.canvas.width, fig.canvas.height);\n",
       "            }\n",
       "            fig.context.drawImage(fig.imageObj, 0, 0);\n",
       "        };\n",
       "\n",
       "    this.imageObj.onunload = function() {\n",
       "        fig.ws.close();\n",
       "    }\n",
       "\n",
       "    this.ws.onmessage = this._make_on_message_function(this);\n",
       "\n",
       "    this.ondownload = ondownload;\n",
       "}\n",
       "\n",
       "mpl.figure.prototype._init_header = function() {\n",
       "    var titlebar = $(\n",
       "        '<div class=\"ui-dialog-titlebar ui-widget-header ui-corner-all ' +\n",
       "        'ui-helper-clearfix\"/>');\n",
       "    var titletext = $(\n",
       "        '<div class=\"ui-dialog-title\" style=\"width: 100%; ' +\n",
       "        'text-align: center; padding: 3px;\"/>');\n",
       "    titlebar.append(titletext)\n",
       "    this.root.append(titlebar);\n",
       "    this.header = titletext[0];\n",
       "}\n",
       "\n",
       "\n",
       "\n",
       "mpl.figure.prototype._canvas_extra_style = function(canvas_div) {\n",
       "\n",
       "}\n",
       "\n",
       "\n",
       "mpl.figure.prototype._root_extra_style = function(canvas_div) {\n",
       "\n",
       "}\n",
       "\n",
       "mpl.figure.prototype._init_canvas = function() {\n",
       "    var fig = this;\n",
       "\n",
       "    var canvas_div = $('<div/>');\n",
       "\n",
       "    canvas_div.attr('style', 'position: relative; clear: both; outline: 0');\n",
       "\n",
       "    function canvas_keyboard_event(event) {\n",
       "        return fig.key_event(event, event['data']);\n",
       "    }\n",
       "\n",
       "    canvas_div.keydown('key_press', canvas_keyboard_event);\n",
       "    canvas_div.keyup('key_release', canvas_keyboard_event);\n",
       "    this.canvas_div = canvas_div\n",
       "    this._canvas_extra_style(canvas_div)\n",
       "    this.root.append(canvas_div);\n",
       "\n",
       "    var canvas = $('<canvas/>');\n",
       "    canvas.addClass('mpl-canvas');\n",
       "    canvas.attr('style', \"left: 0; top: 0; z-index: 0; outline: 0\")\n",
       "\n",
       "    this.canvas = canvas[0];\n",
       "    this.context = canvas[0].getContext(\"2d\");\n",
       "\n",
       "    var backingStore = this.context.backingStorePixelRatio ||\n",
       "\tthis.context.webkitBackingStorePixelRatio ||\n",
       "\tthis.context.mozBackingStorePixelRatio ||\n",
       "\tthis.context.msBackingStorePixelRatio ||\n",
       "\tthis.context.oBackingStorePixelRatio ||\n",
       "\tthis.context.backingStorePixelRatio || 1;\n",
       "\n",
       "    mpl.ratio = (window.devicePixelRatio || 1) / backingStore;\n",
       "\n",
       "    var rubberband = $('<canvas/>');\n",
       "    rubberband.attr('style', \"position: absolute; left: 0; top: 0; z-index: 1;\")\n",
       "\n",
       "    var pass_mouse_events = true;\n",
       "\n",
       "    canvas_div.resizable({\n",
       "        start: function(event, ui) {\n",
       "            pass_mouse_events = false;\n",
       "        },\n",
       "        resize: function(event, ui) {\n",
       "            fig.request_resize(ui.size.width, ui.size.height);\n",
       "        },\n",
       "        stop: function(event, ui) {\n",
       "            pass_mouse_events = true;\n",
       "            fig.request_resize(ui.size.width, ui.size.height);\n",
       "        },\n",
       "    });\n",
       "\n",
       "    function mouse_event_fn(event) {\n",
       "        if (pass_mouse_events)\n",
       "            return fig.mouse_event(event, event['data']);\n",
       "    }\n",
       "\n",
       "    rubberband.mousedown('button_press', mouse_event_fn);\n",
       "    rubberband.mouseup('button_release', mouse_event_fn);\n",
       "    // Throttle sequential mouse events to 1 every 20ms.\n",
       "    rubberband.mousemove('motion_notify', mouse_event_fn);\n",
       "\n",
       "    rubberband.mouseenter('figure_enter', mouse_event_fn);\n",
       "    rubberband.mouseleave('figure_leave', mouse_event_fn);\n",
       "\n",
       "    canvas_div.on(\"wheel\", function (event) {\n",
       "        event = event.originalEvent;\n",
       "        event['data'] = 'scroll'\n",
       "        if (event.deltaY < 0) {\n",
       "            event.step = 1;\n",
       "        } else {\n",
       "            event.step = -1;\n",
       "        }\n",
       "        mouse_event_fn(event);\n",
       "    });\n",
       "\n",
       "    canvas_div.append(canvas);\n",
       "    canvas_div.append(rubberband);\n",
       "\n",
       "    this.rubberband = rubberband;\n",
       "    this.rubberband_canvas = rubberband[0];\n",
       "    this.rubberband_context = rubberband[0].getContext(\"2d\");\n",
       "    this.rubberband_context.strokeStyle = \"#000000\";\n",
       "\n",
       "    this._resize_canvas = function(width, height) {\n",
       "        // Keep the size of the canvas, canvas container, and rubber band\n",
       "        // canvas in synch.\n",
       "        canvas_div.css('width', width)\n",
       "        canvas_div.css('height', height)\n",
       "\n",
       "        canvas.attr('width', width * mpl.ratio);\n",
       "        canvas.attr('height', height * mpl.ratio);\n",
       "        canvas.attr('style', 'width: ' + width + 'px; height: ' + height + 'px;');\n",
       "\n",
       "        rubberband.attr('width', width);\n",
       "        rubberband.attr('height', height);\n",
       "    }\n",
       "\n",
       "    // Set the figure to an initial 600x600px, this will subsequently be updated\n",
       "    // upon first draw.\n",
       "    this._resize_canvas(600, 600);\n",
       "\n",
       "    // Disable right mouse context menu.\n",
       "    $(this.rubberband_canvas).bind(\"contextmenu\",function(e){\n",
       "        return false;\n",
       "    });\n",
       "\n",
       "    function set_focus () {\n",
       "        canvas.focus();\n",
       "        canvas_div.focus();\n",
       "    }\n",
       "\n",
       "    window.setTimeout(set_focus, 100);\n",
       "}\n",
       "\n",
       "mpl.figure.prototype._init_toolbar = function() {\n",
       "    var fig = this;\n",
       "\n",
       "    var nav_element = $('<div/>');\n",
       "    nav_element.attr('style', 'width: 100%');\n",
       "    this.root.append(nav_element);\n",
       "\n",
       "    // Define a callback function for later on.\n",
       "    function toolbar_event(event) {\n",
       "        return fig.toolbar_button_onclick(event['data']);\n",
       "    }\n",
       "    function toolbar_mouse_event(event) {\n",
       "        return fig.toolbar_button_onmouseover(event['data']);\n",
       "    }\n",
       "\n",
       "    for(var toolbar_ind in mpl.toolbar_items) {\n",
       "        var name = mpl.toolbar_items[toolbar_ind][0];\n",
       "        var tooltip = mpl.toolbar_items[toolbar_ind][1];\n",
       "        var image = mpl.toolbar_items[toolbar_ind][2];\n",
       "        var method_name = mpl.toolbar_items[toolbar_ind][3];\n",
       "\n",
       "        if (!name) {\n",
       "            // put a spacer in here.\n",
       "            continue;\n",
       "        }\n",
       "        var button = $('<button/>');\n",
       "        button.addClass('ui-button ui-widget ui-state-default ui-corner-all ' +\n",
       "                        'ui-button-icon-only');\n",
       "        button.attr('role', 'button');\n",
       "        button.attr('aria-disabled', 'false');\n",
       "        button.click(method_name, toolbar_event);\n",
       "        button.mouseover(tooltip, toolbar_mouse_event);\n",
       "\n",
       "        var icon_img = $('<span/>');\n",
       "        icon_img.addClass('ui-button-icon-primary ui-icon');\n",
       "        icon_img.addClass(image);\n",
       "        icon_img.addClass('ui-corner-all');\n",
       "\n",
       "        var tooltip_span = $('<span/>');\n",
       "        tooltip_span.addClass('ui-button-text');\n",
       "        tooltip_span.html(tooltip);\n",
       "\n",
       "        button.append(icon_img);\n",
       "        button.append(tooltip_span);\n",
       "\n",
       "        nav_element.append(button);\n",
       "    }\n",
       "\n",
       "    var fmt_picker_span = $('<span/>');\n",
       "\n",
       "    var fmt_picker = $('<select/>');\n",
       "    fmt_picker.addClass('mpl-toolbar-option ui-widget ui-widget-content');\n",
       "    fmt_picker_span.append(fmt_picker);\n",
       "    nav_element.append(fmt_picker_span);\n",
       "    this.format_dropdown = fmt_picker[0];\n",
       "\n",
       "    for (var ind in mpl.extensions) {\n",
       "        var fmt = mpl.extensions[ind];\n",
       "        var option = $(\n",
       "            '<option/>', {selected: fmt === mpl.default_extension}).html(fmt);\n",
       "        fmt_picker.append(option);\n",
       "    }\n",
       "\n",
       "    // Add hover states to the ui-buttons\n",
       "    $( \".ui-button\" ).hover(\n",
       "        function() { $(this).addClass(\"ui-state-hover\");},\n",
       "        function() { $(this).removeClass(\"ui-state-hover\");}\n",
       "    );\n",
       "\n",
       "    var status_bar = $('<span class=\"mpl-message\"/>');\n",
       "    nav_element.append(status_bar);\n",
       "    this.message = status_bar[0];\n",
       "}\n",
       "\n",
       "mpl.figure.prototype.request_resize = function(x_pixels, y_pixels) {\n",
       "    // Request matplotlib to resize the figure. Matplotlib will then trigger a resize in the client,\n",
       "    // which will in turn request a refresh of the image.\n",
       "    this.send_message('resize', {'width': x_pixels, 'height': y_pixels});\n",
       "}\n",
       "\n",
       "mpl.figure.prototype.send_message = function(type, properties) {\n",
       "    properties['type'] = type;\n",
       "    properties['figure_id'] = this.id;\n",
       "    this.ws.send(JSON.stringify(properties));\n",
       "}\n",
       "\n",
       "mpl.figure.prototype.send_draw_message = function() {\n",
       "    if (!this.waiting) {\n",
       "        this.waiting = true;\n",
       "        this.ws.send(JSON.stringify({type: \"draw\", figure_id: this.id}));\n",
       "    }\n",
       "}\n",
       "\n",
       "\n",
       "mpl.figure.prototype.handle_save = function(fig, msg) {\n",
       "    var format_dropdown = fig.format_dropdown;\n",
       "    var format = format_dropdown.options[format_dropdown.selectedIndex].value;\n",
       "    fig.ondownload(fig, format);\n",
       "}\n",
       "\n",
       "\n",
       "mpl.figure.prototype.handle_resize = function(fig, msg) {\n",
       "    var size = msg['size'];\n",
       "    if (size[0] != fig.canvas.width || size[1] != fig.canvas.height) {\n",
       "        fig._resize_canvas(size[0], size[1]);\n",
       "        fig.send_message(\"refresh\", {});\n",
       "    };\n",
       "}\n",
       "\n",
       "mpl.figure.prototype.handle_rubberband = function(fig, msg) {\n",
       "    var x0 = msg['x0'] / mpl.ratio;\n",
       "    var y0 = (fig.canvas.height - msg['y0']) / mpl.ratio;\n",
       "    var x1 = msg['x1'] / mpl.ratio;\n",
       "    var y1 = (fig.canvas.height - msg['y1']) / mpl.ratio;\n",
       "    x0 = Math.floor(x0) + 0.5;\n",
       "    y0 = Math.floor(y0) + 0.5;\n",
       "    x1 = Math.floor(x1) + 0.5;\n",
       "    y1 = Math.floor(y1) + 0.5;\n",
       "    var min_x = Math.min(x0, x1);\n",
       "    var min_y = Math.min(y0, y1);\n",
       "    var width = Math.abs(x1 - x0);\n",
       "    var height = Math.abs(y1 - y0);\n",
       "\n",
       "    fig.rubberband_context.clearRect(\n",
       "        0, 0, fig.canvas.width / mpl.ratio, fig.canvas.height / mpl.ratio);\n",
       "\n",
       "    fig.rubberband_context.strokeRect(min_x, min_y, width, height);\n",
       "}\n",
       "\n",
       "mpl.figure.prototype.handle_figure_label = function(fig, msg) {\n",
       "    // Updates the figure title.\n",
       "    fig.header.textContent = msg['label'];\n",
       "}\n",
       "\n",
       "mpl.figure.prototype.handle_cursor = function(fig, msg) {\n",
       "    var cursor = msg['cursor'];\n",
       "    switch(cursor)\n",
       "    {\n",
       "    case 0:\n",
       "        cursor = 'pointer';\n",
       "        break;\n",
       "    case 1:\n",
       "        cursor = 'default';\n",
       "        break;\n",
       "    case 2:\n",
       "        cursor = 'crosshair';\n",
       "        break;\n",
       "    case 3:\n",
       "        cursor = 'move';\n",
       "        break;\n",
       "    }\n",
       "    fig.rubberband_canvas.style.cursor = cursor;\n",
       "}\n",
       "\n",
       "mpl.figure.prototype.handle_message = function(fig, msg) {\n",
       "    fig.message.textContent = msg['message'];\n",
       "}\n",
       "\n",
       "mpl.figure.prototype.handle_draw = function(fig, msg) {\n",
       "    // Request the server to send over a new figure.\n",
       "    fig.send_draw_message();\n",
       "}\n",
       "\n",
       "mpl.figure.prototype.handle_image_mode = function(fig, msg) {\n",
       "    fig.image_mode = msg['mode'];\n",
       "}\n",
       "\n",
       "mpl.figure.prototype.updated_canvas_event = function() {\n",
       "    // Called whenever the canvas gets updated.\n",
       "    this.send_message(\"ack\", {});\n",
       "}\n",
       "\n",
       "// A function to construct a web socket function for onmessage handling.\n",
       "// Called in the figure constructor.\n",
       "mpl.figure.prototype._make_on_message_function = function(fig) {\n",
       "    return function socket_on_message(evt) {\n",
       "        if (evt.data instanceof Blob) {\n",
       "            /* FIXME: We get \"Resource interpreted as Image but\n",
       "             * transferred with MIME type text/plain:\" errors on\n",
       "             * Chrome.  But how to set the MIME type?  It doesn't seem\n",
       "             * to be part of the websocket stream */\n",
       "            evt.data.type = \"image/png\";\n",
       "\n",
       "            /* Free the memory for the previous frames */\n",
       "            if (fig.imageObj.src) {\n",
       "                (window.URL || window.webkitURL).revokeObjectURL(\n",
       "                    fig.imageObj.src);\n",
       "            }\n",
       "\n",
       "            fig.imageObj.src = (window.URL || window.webkitURL).createObjectURL(\n",
       "                evt.data);\n",
       "            fig.updated_canvas_event();\n",
       "            fig.waiting = false;\n",
       "            return;\n",
       "        }\n",
       "        else if (typeof evt.data === 'string' && evt.data.slice(0, 21) == \"data:image/png;base64\") {\n",
       "            fig.imageObj.src = evt.data;\n",
       "            fig.updated_canvas_event();\n",
       "            fig.waiting = false;\n",
       "            return;\n",
       "        }\n",
       "\n",
       "        var msg = JSON.parse(evt.data);\n",
       "        var msg_type = msg['type'];\n",
       "\n",
       "        // Call the  \"handle_{type}\" callback, which takes\n",
       "        // the figure and JSON message as its only arguments.\n",
       "        try {\n",
       "            var callback = fig[\"handle_\" + msg_type];\n",
       "        } catch (e) {\n",
       "            console.log(\"No handler for the '\" + msg_type + \"' message type: \", msg);\n",
       "            return;\n",
       "        }\n",
       "\n",
       "        if (callback) {\n",
       "            try {\n",
       "                // console.log(\"Handling '\" + msg_type + \"' message: \", msg);\n",
       "                callback(fig, msg);\n",
       "            } catch (e) {\n",
       "                console.log(\"Exception inside the 'handler_\" + msg_type + \"' callback:\", e, e.stack, msg);\n",
       "            }\n",
       "        }\n",
       "    };\n",
       "}\n",
       "\n",
       "// from http://stackoverflow.com/questions/1114465/getting-mouse-location-in-canvas\n",
       "mpl.findpos = function(e) {\n",
       "    //this section is from http://www.quirksmode.org/js/events_properties.html\n",
       "    var targ;\n",
       "    if (!e)\n",
       "        e = window.event;\n",
       "    if (e.target)\n",
       "        targ = e.target;\n",
       "    else if (e.srcElement)\n",
       "        targ = e.srcElement;\n",
       "    if (targ.nodeType == 3) // defeat Safari bug\n",
       "        targ = targ.parentNode;\n",
       "\n",
       "    // jQuery normalizes the pageX and pageY\n",
       "    // pageX,Y are the mouse positions relative to the document\n",
       "    // offset() returns the position of the element relative to the document\n",
       "    var x = e.pageX - $(targ).offset().left;\n",
       "    var y = e.pageY - $(targ).offset().top;\n",
       "\n",
       "    return {\"x\": x, \"y\": y};\n",
       "};\n",
       "\n",
       "/*\n",
       " * return a copy of an object with only non-object keys\n",
       " * we need this to avoid circular references\n",
       " * http://stackoverflow.com/a/24161582/3208463\n",
       " */\n",
       "function simpleKeys (original) {\n",
       "  return Object.keys(original).reduce(function (obj, key) {\n",
       "    if (typeof original[key] !== 'object')\n",
       "        obj[key] = original[key]\n",
       "    return obj;\n",
       "  }, {});\n",
       "}\n",
       "\n",
       "mpl.figure.prototype.mouse_event = function(event, name) {\n",
       "    var canvas_pos = mpl.findpos(event)\n",
       "\n",
       "    if (name === 'button_press')\n",
       "    {\n",
       "        this.canvas.focus();\n",
       "        this.canvas_div.focus();\n",
       "    }\n",
       "\n",
       "    var x = canvas_pos.x * mpl.ratio;\n",
       "    var y = canvas_pos.y * mpl.ratio;\n",
       "\n",
       "    this.send_message(name, {x: x, y: y, button: event.button,\n",
       "                             step: event.step,\n",
       "                             guiEvent: simpleKeys(event)});\n",
       "\n",
       "    /* This prevents the web browser from automatically changing to\n",
       "     * the text insertion cursor when the button is pressed.  We want\n",
       "     * to control all of the cursor setting manually through the\n",
       "     * 'cursor' event from matplotlib */\n",
       "    event.preventDefault();\n",
       "    return false;\n",
       "}\n",
       "\n",
       "mpl.figure.prototype._key_event_extra = function(event, name) {\n",
       "    // Handle any extra behaviour associated with a key event\n",
       "}\n",
       "\n",
       "mpl.figure.prototype.key_event = function(event, name) {\n",
       "\n",
       "    // Prevent repeat events\n",
       "    if (name == 'key_press')\n",
       "    {\n",
       "        if (event.which === this._key)\n",
       "            return;\n",
       "        else\n",
       "            this._key = event.which;\n",
       "    }\n",
       "    if (name == 'key_release')\n",
       "        this._key = null;\n",
       "\n",
       "    var value = '';\n",
       "    if (event.ctrlKey && event.which != 17)\n",
       "        value += \"ctrl+\";\n",
       "    if (event.altKey && event.which != 18)\n",
       "        value += \"alt+\";\n",
       "    if (event.shiftKey && event.which != 16)\n",
       "        value += \"shift+\";\n",
       "\n",
       "    value += 'k';\n",
       "    value += event.which.toString();\n",
       "\n",
       "    this._key_event_extra(event, name);\n",
       "\n",
       "    this.send_message(name, {key: value,\n",
       "                             guiEvent: simpleKeys(event)});\n",
       "    return false;\n",
       "}\n",
       "\n",
       "mpl.figure.prototype.toolbar_button_onclick = function(name) {\n",
       "    if (name == 'download') {\n",
       "        this.handle_save(this, null);\n",
       "    } else {\n",
       "        this.send_message(\"toolbar_button\", {name: name});\n",
       "    }\n",
       "};\n",
       "\n",
       "mpl.figure.prototype.toolbar_button_onmouseover = function(tooltip) {\n",
       "    this.message.textContent = tooltip;\n",
       "};\n",
       "mpl.toolbar_items = [[\"Home\", \"Reset original view\", \"fa fa-home icon-home\", \"home\"], [\"Back\", \"Back to previous view\", \"fa fa-arrow-left icon-arrow-left\", \"back\"], [\"Forward\", \"Forward to next view\", \"fa fa-arrow-right icon-arrow-right\", \"forward\"], [\"\", \"\", \"\", \"\"], [\"Pan\", \"Pan axes with left mouse, zoom with right\", \"fa fa-arrows icon-move\", \"pan\"], [\"Zoom\", \"Zoom to rectangle\", \"fa fa-square-o icon-check-empty\", \"zoom\"], [\"\", \"\", \"\", \"\"], [\"Download\", \"Download plot\", \"fa fa-floppy-o icon-save\", \"download\"]];\n",
       "\n",
       "mpl.extensions = [\"eps\", \"jpeg\", \"pdf\", \"png\", \"ps\", \"raw\", \"svg\", \"tif\"];\n",
       "\n",
       "mpl.default_extension = \"png\";var comm_websocket_adapter = function(comm) {\n",
       "    // Create a \"websocket\"-like object which calls the given IPython comm\n",
       "    // object with the appropriate methods. Currently this is a non binary\n",
       "    // socket, so there is still some room for performance tuning.\n",
       "    var ws = {};\n",
       "\n",
       "    ws.close = function() {\n",
       "        comm.close()\n",
       "    };\n",
       "    ws.send = function(m) {\n",
       "        //console.log('sending', m);\n",
       "        comm.send(m);\n",
       "    };\n",
       "    // Register the callback with on_msg.\n",
       "    comm.on_msg(function(msg) {\n",
       "        //console.log('receiving', msg['content']['data'], msg);\n",
       "        // Pass the mpl event to the overridden (by mpl) onmessage function.\n",
       "        ws.onmessage(msg['content']['data'])\n",
       "    });\n",
       "    return ws;\n",
       "}\n",
       "\n",
       "mpl.mpl_figure_comm = function(comm, msg) {\n",
       "    // This is the function which gets called when the mpl process\n",
       "    // starts-up an IPython Comm through the \"matplotlib\" channel.\n",
       "\n",
       "    var id = msg.content.data.id;\n",
       "    // Get hold of the div created by the display call when the Comm\n",
       "    // socket was opened in Python.\n",
       "    var element = $(\"#\" + id);\n",
       "    var ws_proxy = comm_websocket_adapter(comm)\n",
       "\n",
       "    function ondownload(figure, format) {\n",
       "        window.open(figure.imageObj.src);\n",
       "    }\n",
       "\n",
       "    var fig = new mpl.figure(id, ws_proxy,\n",
       "                           ondownload,\n",
       "                           element.get(0));\n",
       "\n",
       "    // Call onopen now - mpl needs it, as it is assuming we've passed it a real\n",
       "    // web socket which is closed, not our websocket->open comm proxy.\n",
       "    ws_proxy.onopen();\n",
       "\n",
       "    fig.parent_element = element.get(0);\n",
       "    fig.cell_info = mpl.find_output_cell(\"<div id='\" + id + \"'></div>\");\n",
       "    if (!fig.cell_info) {\n",
       "        console.error(\"Failed to find cell for figure\", id, fig);\n",
       "        return;\n",
       "    }\n",
       "\n",
       "    var output_index = fig.cell_info[2]\n",
       "    var cell = fig.cell_info[0];\n",
       "\n",
       "};\n",
       "\n",
       "mpl.figure.prototype.handle_close = function(fig, msg) {\n",
       "    var width = fig.canvas.width/mpl.ratio\n",
       "    fig.root.unbind('remove')\n",
       "\n",
       "    // Update the output cell to use the data from the current canvas.\n",
       "    fig.push_to_output();\n",
       "    var dataURL = fig.canvas.toDataURL();\n",
       "    // Re-enable the keyboard manager in IPython - without this line, in FF,\n",
       "    // the notebook keyboard shortcuts fail.\n",
       "    IPython.keyboard_manager.enable()\n",
       "    $(fig.parent_element).html('<img src=\"' + dataURL + '\" width=\"' + width + '\">');\n",
       "    fig.close_ws(fig, msg);\n",
       "}\n",
       "\n",
       "mpl.figure.prototype.close_ws = function(fig, msg){\n",
       "    fig.send_message('closing', msg);\n",
       "    // fig.ws.close()\n",
       "}\n",
       "\n",
       "mpl.figure.prototype.push_to_output = function(remove_interactive) {\n",
       "    // Turn the data on the canvas into data in the output cell.\n",
       "    var width = this.canvas.width/mpl.ratio\n",
       "    var dataURL = this.canvas.toDataURL();\n",
       "    this.cell_info[1]['text/html'] = '<img src=\"' + dataURL + '\" width=\"' + width + '\">';\n",
       "}\n",
       "\n",
       "mpl.figure.prototype.updated_canvas_event = function() {\n",
       "    // Tell IPython that the notebook contents must change.\n",
       "    IPython.notebook.set_dirty(true);\n",
       "    this.send_message(\"ack\", {});\n",
       "    var fig = this;\n",
       "    // Wait a second, then push the new image to the DOM so\n",
       "    // that it is saved nicely (might be nice to debounce this).\n",
       "    setTimeout(function () { fig.push_to_output() }, 1000);\n",
       "}\n",
       "\n",
       "mpl.figure.prototype._init_toolbar = function() {\n",
       "    var fig = this;\n",
       "\n",
       "    var nav_element = $('<div/>');\n",
       "    nav_element.attr('style', 'width: 100%');\n",
       "    this.root.append(nav_element);\n",
       "\n",
       "    // Define a callback function for later on.\n",
       "    function toolbar_event(event) {\n",
       "        return fig.toolbar_button_onclick(event['data']);\n",
       "    }\n",
       "    function toolbar_mouse_event(event) {\n",
       "        return fig.toolbar_button_onmouseover(event['data']);\n",
       "    }\n",
       "\n",
       "    for(var toolbar_ind in mpl.toolbar_items){\n",
       "        var name = mpl.toolbar_items[toolbar_ind][0];\n",
       "        var tooltip = mpl.toolbar_items[toolbar_ind][1];\n",
       "        var image = mpl.toolbar_items[toolbar_ind][2];\n",
       "        var method_name = mpl.toolbar_items[toolbar_ind][3];\n",
       "\n",
       "        if (!name) { continue; };\n",
       "\n",
       "        var button = $('<button class=\"btn btn-default\" href=\"#\" title=\"' + name + '\"><i class=\"fa ' + image + ' fa-lg\"></i></button>');\n",
       "        button.click(method_name, toolbar_event);\n",
       "        button.mouseover(tooltip, toolbar_mouse_event);\n",
       "        nav_element.append(button);\n",
       "    }\n",
       "\n",
       "    // Add the status bar.\n",
       "    var status_bar = $('<span class=\"mpl-message\" style=\"text-align:right; float: right;\"/>');\n",
       "    nav_element.append(status_bar);\n",
       "    this.message = status_bar[0];\n",
       "\n",
       "    // Add the close button to the window.\n",
       "    var buttongrp = $('<div class=\"btn-group inline pull-right\"></div>');\n",
       "    var button = $('<button class=\"btn btn-mini btn-primary\" href=\"#\" title=\"Stop Interaction\"><i class=\"fa fa-power-off icon-remove icon-large\"></i></button>');\n",
       "    button.click(function (evt) { fig.handle_close(fig, {}); } );\n",
       "    button.mouseover('Stop Interaction', toolbar_mouse_event);\n",
       "    buttongrp.append(button);\n",
       "    var titlebar = this.root.find($('.ui-dialog-titlebar'));\n",
       "    titlebar.prepend(buttongrp);\n",
       "}\n",
       "\n",
       "mpl.figure.prototype._root_extra_style = function(el){\n",
       "    var fig = this\n",
       "    el.on(\"remove\", function(){\n",
       "\tfig.close_ws(fig, {});\n",
       "    });\n",
       "}\n",
       "\n",
       "mpl.figure.prototype._canvas_extra_style = function(el){\n",
       "    // this is important to make the div 'focusable\n",
       "    el.attr('tabindex', 0)\n",
       "    // reach out to IPython and tell the keyboard manager to turn it's self\n",
       "    // off when our div gets focus\n",
       "\n",
       "    // location in version 3\n",
       "    if (IPython.notebook.keyboard_manager) {\n",
       "        IPython.notebook.keyboard_manager.register_events(el);\n",
       "    }\n",
       "    else {\n",
       "        // location in version 2\n",
       "        IPython.keyboard_manager.register_events(el);\n",
       "    }\n",
       "\n",
       "}\n",
       "\n",
       "mpl.figure.prototype._key_event_extra = function(event, name) {\n",
       "    var manager = IPython.notebook.keyboard_manager;\n",
       "    if (!manager)\n",
       "        manager = IPython.keyboard_manager;\n",
       "\n",
       "    // Check for shift+enter\n",
       "    if (event.shiftKey && event.which == 13) {\n",
       "        this.canvas_div.blur();\n",
       "        event.shiftKey = false;\n",
       "        // Send a \"J\" for go to next cell\n",
       "        event.which = 74;\n",
       "        event.keyCode = 74;\n",
       "        manager.command_mode();\n",
       "        manager.handle_keydown(event);\n",
       "    }\n",
       "}\n",
       "\n",
       "mpl.figure.prototype.handle_save = function(fig, msg) {\n",
       "    fig.ondownload(fig, null);\n",
       "}\n",
       "\n",
       "\n",
       "mpl.find_output_cell = function(html_output) {\n",
       "    // Return the cell and output element which can be found *uniquely* in the notebook.\n",
       "    // Note - this is a bit hacky, but it is done because the \"notebook_saving.Notebook\"\n",
       "    // IPython event is triggered only after the cells have been serialised, which for\n",
       "    // our purposes (turning an active figure into a static one), is too late.\n",
       "    var cells = IPython.notebook.get_cells();\n",
       "    var ncells = cells.length;\n",
       "    for (var i=0; i<ncells; i++) {\n",
       "        var cell = cells[i];\n",
       "        if (cell.cell_type === 'code'){\n",
       "            for (var j=0; j<cell.output_area.outputs.length; j++) {\n",
       "                var data = cell.output_area.outputs[j];\n",
       "                if (data.data) {\n",
       "                    // IPython >= 3 moved mimebundle to data attribute of output\n",
       "                    data = data.data;\n",
       "                }\n",
       "                if (data['text/html'] == html_output) {\n",
       "                    return [cell, data, j];\n",
       "                }\n",
       "            }\n",
       "        }\n",
       "    }\n",
       "}\n",
       "\n",
       "// Register the function which deals with the matplotlib target/channel.\n",
       "// The kernel may be null if the page has been refreshed.\n",
       "if (IPython.notebook.kernel != null) {\n",
       "    IPython.notebook.kernel.comm_manager.register_target('matplotlib', mpl.mpl_figure_comm);\n",
       "}\n"
      ],
      "text/plain": [
       "<IPython.core.display.Javascript object>"
      ]
     },
     "metadata": {},
     "output_type": "display_data"
    },
    {
     "data": {
      "text/html": [
       "<img src=\"data:image/png;base64,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\" width=\"640\">"
      ],
      "text/plain": [
       "<IPython.core.display.HTML object>"
      ]
     },
     "metadata": {},
     "output_type": "display_data"
    },
    {
     "data": {
      "text/plain": [
       "<matplotlib.collections.QuadMesh at 0x7f617c46d190>"
      ]
     },
     "execution_count": 16,
     "metadata": {},
     "output_type": "execute_result"
    }
   ],
   "source": [
    "%matplotlib notebook\n",
    "gradient_new.plot()"
   ]
  },
  {
   "cell_type": "markdown",
   "metadata": {},
   "source": [
    "## Krylov"
   ]
  },
  {
   "cell_type": "markdown",
   "metadata": {
    "heading_collapsed": true
   },
   "source": [
    "### Generate gradient"
   ]
  },
  {
   "cell_type": "code",
   "execution_count": null,
   "metadata": {
    "ExecuteTime": {
     "end_time": "2020-08-19T21:27:55.786672Z",
     "start_time": "2020-08-19T21:27:55.007Z"
    },
    "hidden": true
   },
   "outputs": [],
   "source": [
    "degree = 8\n",
    "\n",
    "adjoint_fn = lambda source: solver.run(source=source, n_jobs=n_jobs)\n",
    "forward_fn = lambda: solver.run(num_frames=measurements.sizes['t'], n_jobs=n_jobs)\n",
    "gradient_fn = None\n",
    "get_state_fn = pynoisy.inverse.spatial_angle_get_state(solver)\n",
    "set_state_fn = pynoisy.inverse.spatial_angle_set_state(solver)\n",
    "k_matrix_fn = lambda source, degree: solver.run(source=source, nrecur=degree, n_jobs=n_jobs).data.reshape(degree, -1)\n",
    "forward_op = ForwardOperator.krylov(\n",
    "    forward_fn=forward_fn,\n",
    "    adjoint_fn=adjoint_fn,\n",
    "    gradient_fn=gradient_fn,\n",
    "    set_state_fn=set_state_fn,\n",
    "    get_state_fn=get_state_fn,\n",
    "    measurements=measurements,\n",
    "    degree=degree,\n",
    "    k_matrix_fn=k_matrix_fn\n",
    ")\n",
    "\n",
    "state = np.zeros(shape=solver.diffusion.spatial_angle.size)\n",
    "synthetic_movie = forward_op(state.ravel())\n",
    "error = synthetic_movie - measurements\n",
    "loss = (error ** 2).mean()\n",
    "adjoint = forward_op.adjoint(error)\n",
    "gradient = compute_gradient(solver, synthetic_movie, adjoint)\n",
    "b\n",
    "synthetic_movie.to_netcdf('syn_krylov.nc')\n",
    "error.to_netcdf('error_krylov.nc')\n",
    "adjoint.to_netcdf('adjoint_krylov.nc')\n",
    "gradient.to_netcdf('gradient_krylov.nc')"
   ]
  },
  {
   "cell_type": "markdown",
   "metadata": {},
   "source": [
    "### Load and analyse"
   ]
  },
  {
   "cell_type": "code",
   "execution_count": null,
   "metadata": {
    "ExecuteTime": {
     "end_time": "2020-08-19T21:27:55.787134Z",
     "start_time": "2020-08-19T21:27:55.009Z"
    }
   },
   "outputs": [],
   "source": [
    "solver = pynoisy.forward.HGRFSolver.from_netcdf('solver.nc')\n",
    "measurements = xr.load_dataarray('meas.nc')\n",
    "synthetic_movie = xr.load_dataarray('syn_krylov.nc')\n",
    "error = xr.load_dataarray('error_krylov.nc')\n",
    "adjoint = xr.load_dataarray('adjoint_krylov.nc')\n",
    "gradient = xr.load_dataarray('gradient_krylov.nc')\n",
    "\n",
    "adjoint_fn = lambda source: solver.run(source=source, n_jobs=n_jobs)\n",
    "forward_fn = lambda: solver.run(num_frames=measurements.sizes['t'], n_jobs=n_jobs)\n",
    "gradient_fn = None\n",
    "get_state_fn = pynoisy.inverse.spatial_angle_get_state(solver)\n",
    "set_state_fn = pynoisy.inverse.spatial_angle_set_state(solver)\n",
    "forward_op = ForwardOperator(\n",
    "    forward_fn=forward_fn,\n",
    "    adjoint_fn=adjoint_fn,\n",
    "    gradient_fn=gradient_fn,\n",
    "    set_state_fn=set_state_fn,\n",
    "    get_state_fn=get_state_fn,\n",
    ")"
   ]
  },
  {
   "cell_type": "code",
   "execution_count": null,
   "metadata": {
    "ExecuteTime": {
     "end_time": "2020-08-19T21:27:55.787654Z",
     "start_time": "2020-08-19T21:27:55.010Z"
    }
   },
   "outputs": [],
   "source": [
    "loss"
   ]
  },
  {
   "cell_type": "code",
   "execution_count": null,
   "metadata": {
    "ExecuteTime": {
     "end_time": "2020-08-19T21:27:55.788132Z",
     "start_time": "2020-08-19T21:27:55.011Z"
    }
   },
   "outputs": [],
   "source": [
    "solver.params['num_unknowns'] = int(solver.diffusion.spatial_angle.size)"
   ]
  },
  {
   "cell_type": "code",
   "execution_count": null,
   "metadata": {
    "ExecuteTime": {
     "end_time": "2020-08-19T21:27:55.788549Z",
     "start_time": "2020-08-19T21:27:55.013Z"
    }
   },
   "outputs": [],
   "source": [
    "np.zeros(shape=solver.params.num_unknowns)"
   ]
  },
  {
   "cell_type": "code",
   "execution_count": null,
   "metadata": {
    "ExecuteTime": {
     "end_time": "2020-08-19T21:27:55.789083Z",
     "start_time": "2020-08-19T21:27:55.013Z"
    }
   },
   "outputs": [],
   "source": [
    "%matplotlib notebook\n",
    "(adjoint * solver.diffusion.correlation_length**2)"
   ]
  },
  {
   "cell_type": "code",
   "execution_count": null,
   "metadata": {
    "ExecuteTime": {
     "end_time": "2020-08-19T21:27:55.789607Z",
     "start_time": "2020-08-19T21:27:55.014Z"
    }
   },
   "outputs": [],
   "source": [
    "%matplotlib notebook\n",
    "gradient.clip(min=-1e-6, max=1e-6).plot()"
   ]
  },
  {
   "cell_type": "code",
   "execution_count": null,
   "metadata": {
    "ExecuteTime": {
     "end_time": "2020-08-19T21:27:55.790097Z",
     "start_time": "2020-08-19T21:27:55.016Z"
    }
   },
   "outputs": [],
   "source": [
    "gradient1 = solver.get_spatial_angle_gradient(synthetic_movie, adjoint)"
   ]
  },
  {
   "cell_type": "code",
   "execution_count": null,
   "metadata": {
    "ExecuteTime": {
     "end_time": "2020-08-19T21:27:55.790479Z",
     "start_time": "2020-08-19T21:27:55.017Z"
    }
   },
   "outputs": [],
   "source": [
    "%matplotlib notebook\n",
    "gradient1.clip(min=-0.01, max=0.01).plot()"
   ]
  },
  {
   "cell_type": "markdown",
   "metadata": {},
   "source": [
    "## DEBUG"
   ]
  },
  {
   "cell_type": "code",
   "execution_count": null,
   "metadata": {
    "ExecuteTime": {
     "end_time": "2020-08-19T21:27:55.790974Z",
     "start_time": "2020-08-19T21:27:55.018Z"
    }
   },
   "outputs": [],
   "source": [
    "%matplotlib notebook\n",
    "grad1.sum(['x','y']).plot(label='grad1')\n",
    "grad2.sum(['x','y']).plot(label='grad2')\n",
    "plt.legend()"
   ]
  },
  {
   "cell_type": "code",
   "execution_count": null,
   "metadata": {
    "ExecuteTime": {
     "end_time": "2020-08-19T21:27:55.791385Z",
     "start_time": "2020-08-19T21:27:55.020Z"
    },
    "code_folding": []
   },
   "outputs": [],
   "source": [
    "def compute_h(i, j):\n",
    "    theta = solver.diffusion.spatial_angle[i, j].data\n",
    "    vx = solver.advection.vx[i, j].data\n",
    "    vy = solver.advection.vx[i, j].data\n",
    "    u0 = [1.0, vy, vx]\n",
    "    u1 = [0.0, np.cos(theta), np.sin(theta)]\n",
    "    u2 = [0.0, -np.sin(theta), np.cos(theta)]\n",
    "    lam0 = solver.diffusion.correlation_time[i, j].data\n",
    "    lam1 = solver.diffusion.correlation_length[i, j].data\n",
    "    lam2 = solver.diffusion.tensor_ratio.data * lam1\n",
    "    h = np.empty((3,3))\n",
    "    for i in range(3):\n",
    "        for j in range(3):\n",
    "            h[i,j] = lam0 * lam0 * u0[i] * u0[j] + \\\n",
    "                        lam1 * lam1 * u1[i] * u1[j] + \\\n",
    "                            lam2 * lam2 * u2[i] * u2[j]\n",
    "    return h\n",
    "\n",
    "def compute_dh(i, j, dx0, dx1, dx2):\n",
    "    dx = [dx0, dx1, dx2]\n",
    "    hp, hm, dh = np.empty((3,3,3)), np.empty((3,3,3)), np.empty((3,3,3))\n",
    "    hp[0] = compute_h(i,j)\n",
    "    hm[0] = compute_h(i,j)\n",
    "    hp[1] = compute_h(i,j+1)\n",
    "    hm[1] = compute_h(i,j-1)\n",
    "    hp[2] = compute_h(i+1,j)\n",
    "    hm[2] = compute_h(i-1,j)\n",
    "    for ii in range(3):\n",
    "        for jj in range(3):\n",
    "            for kk in range(3):\n",
    "                 dh[ii][jj][kk] = 0.5 * ( hp[kk][ii][jj] - hm[kk][ii][jj] ) / dx[kk]\n",
    "    return dh    \n",
    "    \n",
    "def compute_coeff(i, j):\n",
    "    dx2 = 20.0 / 64.0\n",
    "    dx1 = dx2\n",
    "    dx0 = 100.0 / 64.0\n",
    "    h = compute_h(i,j)\n",
    "    dh = compute_dh(i, j, dx0, dx1, dx2)\n",
    "    coeff = np.empty((10,1))\n",
    "    coeff[0] = -h[2][2] / (dx2 * dx2);\n",
    "    coeff[1] = -0.5 * h[1][2] / (dx1 * dx2);\n",
    "    coeff[2] = -h[1][1] / (dx1 * dx1);\n",
    "    coeff[3] = -0.5 * h[0][2] / (dx0 * dx2);\n",
    "    coeff[4] = -0.5 * h[0][1] / (dx0 * dx1);\n",
    "    coeff[5] = -h[0][0] / (dx0 * dx0);\n",
    "    coeff[6] = -0.5 * ( dh[0][2][0] + dh[1][2][1] + dh[2][2][2] ) / dx2;\n",
    "    coeff[7] = -0.5 * ( dh[0][1][0] + dh[1][1][1] + dh[2][1][2] ) / dx1;\n",
    "    coeff[8] = -0.5 * ( dh[0][0][0] + dh[1][0][1] + dh[2][0][2] ) / dx0;\n",
    "    coeff[9] = -2. * ( coeff[0] + coeff[2] + coeff[5] ) + 1.0;  \n",
    "    return coeff"
   ]
  },
  {
   "cell_type": "code",
   "execution_count": null,
   "metadata": {
    "ExecuteTime": {
     "end_time": "2020-08-19T21:27:55.791826Z",
     "start_time": "2020-08-19T21:27:55.021Z"
    }
   },
   "outputs": [],
   "source": [
    "solver = pynoisy.forward.HGRFSolver.from_netcdf('solver.nc')\n",
    "measurements = xr.load_dataarray('meas.nc')\n",
    "synthetic_movie = measurements.copy()\n",
    "adjoint = xr.ones_like(measurements)\n",
    "adjoint.name='data_raw'\n",
    "adjoint.to_netcdf('/tmp/adjoint.nc')"
   ]
  },
  {
   "cell_type": "code",
   "execution_count": null,
   "metadata": {
    "ExecuteTime": {
     "end_time": "2020-08-19T21:27:55.792272Z",
     "start_time": "2020-08-19T21:27:55.022Z"
    }
   },
   "outputs": [],
   "source": [
    "dx = 0.00000000001\n",
    "gridi, gridj = 39, 45\n",
    "theta = solver.diffusion.spatial_angle[gridi, gridj].data\n",
    "solver.diffusion.spatial_angle[gridi, gridj] = theta\n",
    "coeff1 = compute_coeff(gridi, gridj+1)\n",
    "solver.diffusion.spatial_angle[gridi, gridj] = theta + dx\n",
    "coeff2 = compute_coeff(gridi, gridj+1)\n",
    "coeff1 = (coeff2 - coeff1) / dx\n",
    "solver.diffusion.spatial_angle[gridi, gridj] = theta\n",
    "print(coeff1)"
   ]
  },
  {
   "cell_type": "code",
   "execution_count": null,
   "metadata": {
    "ExecuteTime": {
     "end_time": "2020-08-19T21:27:55.792634Z",
     "start_time": "2020-08-19T21:27:55.023Z"
    }
   },
   "outputs": [],
   "source": [
    "dx = 0.00000000001\n",
    "gridi, gridj = 39, 45\n",
    "theta = solver.diffusion.spatial_angle[gridi, gridj].data\n",
    "solver.diffusion.spatial_angle[gridi, gridj] = theta\n",
    "coeff1 = compute_coeff(gridi-1, gridj)\n",
    "solver.diffusion.spatial_angle[gridi, gridj] = theta + dx\n",
    "coeff2 = compute_coeff(gridi-1, gridj)\n",
    "coeff1 = (coeff2 - coeff1) / dx\n",
    "solver.diffusion.spatial_angle[gridi, gridj] = theta\n",
    "print(coeff1)"
   ]
  },
  {
   "cell_type": "code",
   "execution_count": null,
   "metadata": {
    "ExecuteTime": {
     "end_time": "2020-08-19T21:27:55.793026Z",
     "start_time": "2020-08-19T21:27:55.025Z"
    }
   },
   "outputs": [],
   "source": [
    "\n",
    "theta = solver.diffusion.spatial_angle[i, j].data\n",
    "u1 = [0.0, np.cos(theta), np.sin(theta)]\n",
    "u2 = [0.0, -np.sin(theta), np.cos(theta)]\n",
    "lam1 = solver.diffusion.correlation_length[i, j].data\n",
    "lam2 = solver.diffusion.tensor_ratio.data * lam1\n",
    "\n",
    "h = np.empty((3,3))\n",
    "for i in range(3):\n",
    "    for j in range(3):\n",
    "        h[i,j] = lam1 * lam1 * (u2[i]*u1[j] + u1[i]*u2[j]) - lam2 * lam2 * (u1[i]*u2[j] + u2[i]*u1[j])\n",
    "        \n",
    "print(-h[2,2] / dx**2)"
   ]
  },
  {
   "cell_type": "code",
   "execution_count": null,
   "metadata": {
    "ExecuteTime": {
     "end_time": "2020-08-19T21:27:55.793372Z",
     "start_time": "2020-08-19T21:27:55.027Z"
    }
   },
   "outputs": [],
   "source": [
    "solver.diffusion.spatial_angle[gridi, gridj]"
   ]
  },
  {
   "cell_type": "code",
   "execution_count": null,
   "metadata": {
    "ExecuteTime": {
     "end_time": "2020-08-19T21:27:55.793780Z",
     "start_time": "2020-08-19T21:27:55.030Z"
    }
   },
   "outputs": [],
   "source": [
    "\n",
    "\n",
    "\n",
    "        \n",
    "h2 = np.empty((3,3))\n",
    "dx = 0.0000000001\n",
    "theta = solver.diffusion.spatial_angle[i, j].data + dx\n",
    "u1 = [0.0, np.cos(theta), np.sin(theta)]\n",
    "u2 = [0.0, -np.sin(theta), np.cos(theta)]\n",
    "for i in range(3):\n",
    "    for j in range(3):\n",
    "        h2[i,j] = lam1 * lam1 * u1[i] * u1[j] + lam2 * lam2 * u2[i] * u2[j]\n",
    "        \n",
    "h = (h2 - h1) / dx"
   ]
  },
  {
   "cell_type": "code",
   "execution_count": null,
   "metadata": {
    "ExecuteTime": {
     "end_time": "2020-08-19T21:27:55.794158Z",
     "start_time": "2020-08-19T21:27:55.032Z"
    }
   },
   "outputs": [],
   "source": [
    "dx2 = 20.0 / 64.0\n",
    "-h[2][2] / (dx2 * dx2)"
   ]
  },
  {
   "cell_type": "code",
   "execution_count": null,
   "metadata": {
    "ExecuteTime": {
     "end_time": "2020-08-19T21:27:55.794528Z",
     "start_time": "2020-08-19T21:27:55.032Z"
    }
   },
   "outputs": [],
   "source": [
    "%matplotlib notebook\n",
    "plt.imshow(grad1.isel(t=0), origin='lower')\n",
    "plt.colorbar()"
   ]
  },
  {
   "cell_type": "code",
   "execution_count": null,
   "metadata": {
    "ExecuteTime": {
     "end_time": "2020-08-19T21:27:55.794911Z",
     "start_time": "2020-08-19T21:27:55.034Z"
    }
   },
   "outputs": [],
   "source": [
    "%matplotlib notebook\n",
    "solver.diffusion.correlation_length.plot()"
   ]
  },
  {
   "cell_type": "code",
   "execution_count": null,
   "metadata": {
    "ExecuteTime": {
     "end_time": "2020-08-19T21:27:55.795362Z",
     "start_time": "2020-08-19T21:27:55.034Z"
    }
   },
   "outputs": [],
   "source": [
    " = 4\n",
    "degree = 8\n",
    "\n",
    "solver = pynoisy.forward.HGRFSolver.from_netcdf('solver.nc')\n",
    "measurements = xr.load_dataarray('meas.nc')\n",
    "synthetic_movie = xr.load_dataarray('syn.nc')\n",
    "error= xr.load_dataarray('error.nc')\n",
    "adjoint = xr.load_dataarray('/tmp/adjoint.nc')\n",
    "\n",
    "adjoint_fn = forward_fn = lambda source: solver.run(source=source, n_jobs=n_jobs)\n",
    "gradient_fn = pynoisy.inverse.spatial_angle_gradient(solver)\n",
    "get_state_fn = pynoisy.inverse.spatial_angle_get_state(solver)\n",
    "set_state_fn = pynoisy.inverse.spatial_angle_set_state(solver)\n",
    "k_matrix_fn = lambda source, degree: solver.run(source=source, nrecur=degree, n_jobs=n_jobs).data.reshape(degree, -1)\n",
    "forward_op = ForwardOperator.krylov(\n",
    "    forward_fn=forward_fn,\n",
    "    adjoint_fn=adjoint_fn,\n",
    "    gradient_fn=gradient_fn,\n",
    "    set_state_fn=set_state_fn,\n",
    "    get_state_fn=get_state_fn,\n",
    "    measurements=measurements,\n",
    "    degree=degree,\n",
    "    k_matrix_fn=k_matrix_fn\n",
    ")\n",
    "state = np.ones(shape=solver.params.num_unknowns)\n",
    "set_state_fn(state)"
   ]
  },
  {
   "cell_type": "code",
   "execution_count": null,
   "metadata": {},
   "outputs": [],
   "source": []
  },
  {
   "cell_type": "code",
   "execution_count": null,
   "metadata": {
    "ExecuteTime": {
     "end_time": "2020-08-19T21:27:55.795794Z",
     "start_time": "2020-08-19T21:27:55.037Z"
    }
   },
   "outputs": [],
   "source": [
    "n_jobs = 4\n",
    "degree = 8\n",
    "\n",
    "solver = pynoisy.forward.HGRFSolver.from_netcdf('solver.nc')\n",
    "measurements = xr.load_dataarray('meas.nc')\n",
    "synthetic_movie = xr.load_dataarray('syn.nc')\n",
    "error= xr.load_dataarray('error.nc')\n",
    "adjoint = xr.load_dataarray('/tmp/adjoint.nc')\n",
    "\n",
    "adjoint_fn = forward_fn = lambda source: solver.run(source=source, n_jobs=n_jobs)\n",
    "gradient_fn = pynoisy.inverse.spatial_angle_gradient(solver)\n",
    "get_state_fn = pynoisy.inverse.spatial_angle_get_state(solver)\n",
    "set_state_fn = pynoisy.inverse.spatial_angle_set_state(solver)\n",
    "k_matrix_fn = lambda source, degree: solver.run(source=source, nrecur=degree, n_jobs=n_jobs).data.reshape(degree, -1)\n",
    "forward_op = ForwardOperator.krylov(\n",
    "    forward_fn=forward_fn,\n",
    "    adjoint_fn=adjoint_fn,\n",
    "    gradient_fn=gradient_fn,\n",
    "    set_state_fn=set_state_fn,\n",
    "    get_state_fn=get_state_fn,\n",
    "    measurements=measurements,\n",
    "    degree=degree,\n",
    "    k_matrix_fn=k_matrix_fn\n",
    ")\n",
    "state = np.ones(shape=solver.params.num_unknowns)\n",
    "set_state_fn(state)"
   ]
  },
  {
   "cell_type": "code",
   "execution_count": null,
   "metadata": {
    "ExecuteTime": {
     "end_time": "2020-08-19T21:27:55.796182Z",
     "start_time": "2020-08-19T21:27:55.037Z"
    }
   },
   "outputs": [],
   "source": [
    "grad2 = solver.get_laplacian(synthetic_movie, solver_id=6)\n",
    "grad2.mean()"
   ]
  },
  {
   "cell_type": "code",
   "execution_count": null,
   "metadata": {
    "ExecuteTime": {
     "end_time": "2020-08-19T21:27:55.796604Z",
     "start_time": "2020-08-19T21:27:55.038Z"
    }
   },
   "outputs": [],
   "source": [
    "127224 / 19 / (64 * 64)"
   ]
  },
  {
   "cell_type": "code",
   "execution_count": null,
   "metadata": {
    "ExecuteTime": {
     "end_time": "2020-08-19T21:27:55.797011Z",
     "start_time": "2020-08-19T21:27:55.040Z"
    }
   },
   "outputs": [],
   "source": [
    "k = 4\n",
    "i = 39\n",
    "j = 40\n",
    "ni = nj = nk = 64\n",
    "nentries = 19\n",
    "nentries * (k*ni*nj + j*ni + i) "
   ]
  },
  {
   "cell_type": "code",
   "execution_count": null,
   "metadata": {
    "ExecuteTime": {
     "end_time": "2020-08-19T21:27:55.797520Z",
     "start_time": "2020-08-19T21:27:55.040Z"
    }
   },
   "outputs": [],
   "source": [
    "1294584 / 19 / (64*64)"
   ]
  },
  {
   "cell_type": "code",
   "execution_count": null,
   "metadata": {
    "ExecuteTime": {
     "end_time": "2020-08-19T21:27:55.797897Z",
     "start_time": "2020-08-19T21:27:55.042Z"
    }
   },
   "outputs": [],
   "source": [
    "%matplotlib notebook\n",
    "gradient1.noisy_methods.get_animation()"
   ]
  },
  {
   "cell_type": "code",
   "execution_count": null,
   "metadata": {
    "ExecuteTime": {
     "end_time": "2020-08-19T21:27:55.798303Z",
     "start_time": "2020-08-19T21:27:55.043Z"
    }
   },
   "outputs": [],
   "source": [
    "adjoint_fn = forward_fn = lambda source: solver.run(source=source, n_jobs=4)\n",
    "gradient_fn = pynoisy.inverse.spatial_angle_gradient(solver)\n",
    "solver.params['mask'] = solver.params.r < 0.5 - 2.0 / solver.params.dims['x']\n",
    "solver.params.attrs['num_unknowns'] = solver.params.mask.sum().data"
   ]
  },
  {
   "cell_type": "code",
   "execution_count": null,
   "metadata": {
    "ExecuteTime": {
     "end_time": "2020-08-19T21:27:55.798744Z",
     "start_time": "2020-08-19T21:27:55.044Z"
    }
   },
   "outputs": [],
   "source": [
    "dx = 1e-2\n",
    "spatial_angle = solver.diffusion.spatial_angle.copy()\n",
    "source = solver.get_laplacian(measurements)\n",
    "gradient = np.zeros(shape=solver.params.num_unknowns)\n",
    "\n",
    "i, j = 40, 40\n",
    "solver.diffusion.spatial_angle[i, j] = spatial_angle[i, j] + dx\n",
    "source_ij = solver.get_laplacian(measurements) - source\n",
    "solver.diffusion.spatial_angle[i, j] = spatial_angle[i, j]\n",
    "source_ij = source_ij / dx\n",
    "\n",
    "gradient = xr.zeros_like(measurements)\n",
    "gradient[:] = source_ij"
   ]
  },
  {
   "cell_type": "code",
   "execution_count": null,
   "metadata": {
    "ExecuteTime": {
     "end_time": "2020-08-19T21:27:55.799090Z",
     "start_time": "2020-08-19T21:27:55.044Z"
    }
   },
   "outputs": [],
   "source": [
    "%matplotlib notebook\n",
    "gradient.noisy_methods.get_animation()"
   ]
  }
 ],
 "metadata": {
  "kernelspec": {
   "display_name": "Python 3",
   "language": "python",
   "name": "python3"
  },
  "language_info": {
   "codemirror_mode": {
    "name": "ipython",
    "version": 3
   },
   "file_extension": ".py",
   "mimetype": "text/x-python",
   "name": "python",
   "nbconvert_exporter": "python",
   "pygments_lexer": "ipython3",
   "version": "3.7.4"
  }
 },
 "nbformat": 4,
 "nbformat_minor": 2
}
